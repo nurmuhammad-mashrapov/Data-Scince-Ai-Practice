{
 "cells": [
  {
   "cell_type": "code",
   "execution_count": 86,
   "metadata": {
    "collapsed": true
   },
   "outputs": [],
   "source": [
    "  import numpy as np"
   ]
  },
  {
   "cell_type": "code",
   "execution_count": 69,
   "outputs": [
    {
     "data": {
      "text/plain": "array([[0, 1, 2],\n       [3, 4, 5],\n       [6, 7, 8]])"
     },
     "execution_count": 69,
     "metadata": {},
     "output_type": "execute_result"
    }
   ],
   "source": [
    "def nd_array():\n",
    "    arr = np.arange(0, 9, 1).reshape(3, 3)\n",
    "    return arr\n",
    "\n",
    "\n",
    "nd_array()\n"
   ],
   "metadata": {
    "collapsed": false
   }
  },
  {
   "cell_type": "code",
   "execution_count": 70,
   "outputs": [
    {
     "name": "stdout",
     "output_type": "stream",
     "text": [
      "[6 7]\n"
     ]
    }
   ],
   "source": [
    "def sliced_array_2d():\n",
    "    array = nd_array()\n",
    "    sliced = array[2, 0:2]\n",
    "    return sliced\n",
    "\n",
    "\n",
    "print(sliced_array_2d())"
   ],
   "metadata": {
    "collapsed": false
   }
  },
  {
   "cell_type": "code",
   "execution_count": null,
   "outputs": [],
   "source": [],
   "metadata": {
    "collapsed": false,
    "pycharm": {
     "is_executing": true
    }
   }
  },
  {
   "cell_type": "code",
   "execution_count": 80,
   "outputs": [
    {
     "data": {
      "text/plain": "array([[12, 13],\n       [15, 16]])"
     },
     "execution_count": 80,
     "metadata": {},
     "output_type": "execute_result"
    }
   ],
   "source": [
    "def sliced_array_3d():\n",
    "    arr3d = np.array([[[0, 1, 2],\n",
    "                       [3, 4, 5],\n",
    "                       [6, 7, 8]],\n",
    "\n",
    "                      [[9, 10, 11],\n",
    "                       [12, 13, 14],\n",
    "                       [15, 16, 17]],\n",
    "\n",
    "                      [[18, 19, 20],\n",
    "                       [21, 22, 23],\n",
    "                       [24, 25, 26]]])\n",
    "    arr = arr3d[1][1:, 0:2]\n",
    "    return arr\n",
    "\n",
    "\n",
    "sliced_array_3d()\n"
   ],
   "metadata": {
    "collapsed": false
   }
  },
  {
   "cell_type": "code",
   "execution_count": 105,
   "outputs": [
    {
     "name": "stdout",
     "output_type": "stream",
     "text": [
      "[[7 7 4 2]\n",
      " [1 5 1 9]\n",
      " [7 5 9 6]\n",
      " [5 3 7 4]]\n"
     ]
    }
   ],
   "source": [
    "def boolean_slicing():\n",
    "    names = np.array(['Hasan', 'Husan', 'Javohir', 'Elyor', 'Hasan', 'Javohir', 'Elyor'])\n",
    "    info = np.array([[5, 6, 1, 1],\n",
    "                     [9, 1, 1, 1],\n",
    "                     [7, 7, 4, 2],\n",
    "                     [1, 5, 1, 9],\n",
    "                     [9, 9, 4, 5],\n",
    "                     [7, 5, 9, 6],\n",
    "                     [5, 3, 7, 4]])\n",
    "    sliced_info = (names == 'Javohir') | (names == 'Elyor')\n",
    "\n",
    "    return info[sliced_info]\n",
    "\n",
    "print(boolean_slicing())"
   ],
   "metadata": {
    "collapsed": false
   }
  },
  {
   "cell_type": "code",
   "execution_count": 94,
   "outputs": [],
   "source": [],
   "metadata": {
    "collapsed": false
   }
  },
  {
   "cell_type": "code",
   "execution_count": null,
   "outputs": [],
   "source": [
    "\n"
   ],
   "metadata": {
    "collapsed": false
   }
  }
 ],
 "metadata": {
  "kernelspec": {
   "display_name": "Python 3",
   "language": "python",
   "name": "python3"
  },
  "language_info": {
   "codemirror_mode": {
    "name": "ipython",
    "version": 2
   },
   "file_extension": ".py",
   "mimetype": "text/x-python",
   "name": "python",
   "nbconvert_exporter": "python",
   "pygments_lexer": "ipython2",
   "version": "2.7.6"
  }
 },
 "nbformat": 4,
 "nbformat_minor": 0
}
