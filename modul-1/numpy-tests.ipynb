{
 "cells": [
  {
   "cell_type": "code",
   "execution_count": 1,
   "metadata": {
    "collapsed": true
   },
   "outputs": [],
   "source": [
    "import numpy as np"
   ]
  },
  {
   "cell_type": "code",
   "execution_count": 5,
   "outputs": [
    {
     "data": {
      "text/plain": "array([0, 1, 2, 3, 4, 5, 6, 7, 8, 9])"
     },
     "execution_count": 5,
     "metadata": {},
     "output_type": "execute_result"
    }
   ],
   "source": [
    "# one dimensional array\n",
    "def one_dim_array(n):\n",
    "    return np.arange(n)\n",
    "one_dim_array(10)"
   ],
   "metadata": {
    "collapsed": false
   }
  },
  {
   "cell_type": "code",
   "execution_count": 9,
   "outputs": [
    {
     "data": {
      "text/plain": "array([[0., 0., 0.],\n       [0., 0., 0.],\n       [0., 0., 0.]])"
     },
     "execution_count": 9,
     "metadata": {},
     "output_type": "execute_result"
    }
   ],
   "source": [
    "# elements o to 9 dimension array\n",
    "def nine_dim_array(n):\n",
    "    return np.zeros(n).reshape(3,3)\n",
    "nine_dim_array(9)"
   ],
   "metadata": {
    "collapsed": false
   }
  },
  {
   "cell_type": "code",
   "execution_count": 11,
   "outputs": [
    {
     "name": "stdout",
     "output_type": "stream",
     "text": [
      "80000\n",
      "10000\n"
     ]
    }
   ],
   "source": [
    "#create array and array weight\n",
    "arr = np.random.rand(10000)\n",
    "print(arr.nbytes) # nbytes - number of bytes used to store the data\n",
    "print(arr.size)\n"
   ],
   "metadata": {
    "collapsed": false
   }
  },
  {
   "cell_type": "code",
   "execution_count": 12,
   "outputs": [
    {
     "name": "stdout",
     "output_type": "stream",
     "text": [
      "[0. 0. 0. 0. 0. 1. 0. 0. 0. 0. 0. 0.]\n"
     ]
    }
   ],
   "source": [
    "# array elements 0 no element 6 1\n",
    "vec = np.zeros(12)\n",
    "vec[5] = 1\n",
    "\n",
    "print(vec)"
   ],
   "metadata": {
    "collapsed": false
   }
  },
  {
   "cell_type": "code",
   "execution_count": 19,
   "outputs": [
    {
     "name": "stdout",
     "output_type": "stream",
     "text": [
      "[20 21 22 23 24 25 26 27 28 29 30 31 32 33 34 35 36 37 38 39 40 41 42 43\n",
      " 44 45 46 47 48 49 50 51 52 53 54 55 56 57 58 59]\n"
     ]
    }
   ],
   "source": [
    "# vector elements from 20 to 59\n",
    "vec = np.arange(20,60)\n",
    "print(vec)"
   ],
   "metadata": {
    "collapsed": false
   }
  },
  {
   "cell_type": "code",
   "execution_count": 25,
   "outputs": [
    {
     "name": "stdout",
     "output_type": "stream",
     "text": [
      "[0 1 2 3 4 5 6 7 8 9]\n",
      "[9 8 7 6 5 4 3 2 1 0]\n"
     ]
    }
   ],
   "source": [
    "# create vector and replace\n",
    "arr = np.arange(10)\n",
    "print(arr)\n",
    "rep_arr = arr[::-1]\n",
    "print(rep_arr)"
   ],
   "metadata": {
    "collapsed": false
   }
  },
  {
   "cell_type": "code",
   "execution_count": 27,
   "outputs": [
    {
     "data": {
      "text/plain": "array([[12, 13, 14],\n       [15, 16, 17],\n       [18, 19, 20]])"
     },
     "execution_count": 27,
     "metadata": {},
     "output_type": "execute_result"
    }
   ],
   "source": [
    "# create 3x3 matrix with values from 12 to 20\n",
    "def matrix_3x3():\n",
    "    return np.arange(12,21).reshape(3,3)\n",
    "\n",
    "matrix_3x3()"
   ],
   "metadata": {
    "collapsed": false
   }
  },
  {
   "cell_type": "code",
   "execution_count": 30,
   "outputs": [
    {
     "data": {
      "text/plain": "'array [1, 2, 0, 0, 4, 0], index (array([0, 1, 4]),)'"
     },
     "execution_count": 30,
     "metadata": {},
     "output_type": "execute_result"
    }
   ],
   "source": [
    "# array not o index\n",
    "\n",
    "def arrray(n):\n",
    "    return f\"array {n}, index {np.nonzero(n)}\"\n",
    "arrray([1,2,0,0,4,0])"
   ],
   "metadata": {
    "collapsed": false
   }
  },
  {
   "cell_type": "code",
   "execution_count": 33,
   "outputs": [
    {
     "data": {
      "text/plain": "array([[[0.66530429, 0.2128057 ],\n        [0.81197826, 0.35752697]],\n\n       [[0.74538527, 0.7334218 ],\n        [0.2069767 , 0.34069726]]])"
     },
     "execution_count": 33,
     "metadata": {},
     "output_type": "execute_result"
    }
   ],
   "source": [
    "# create 2x2x2 array with random values\n",
    "def random_array():\n",
    "    return np.random.rand(2,2,2)\n",
    "random_array()"
   ],
   "metadata": {
    "collapsed": false
   }
  },
  {
   "cell_type": "code",
   "execution_count": 38,
   "outputs": [
    {
     "name": "stdout",
     "output_type": "stream",
     "text": [
      "[[0.58709987 0.52738272 0.89430177 0.49388055 0.20146985 0.8453943\n",
      "  0.37577173 0.71206652 0.74213179]\n",
      " [0.38192924 0.56854412 0.31092657 0.29609595 0.74749394 0.53844339\n",
      "  0.40017877 0.54775824 0.16145828]\n",
      " [0.27657641 0.41741623 0.21836596 0.87217359 0.36874436 0.63684935\n",
      "  0.24266525 0.81455762 0.34077351]\n",
      " [0.55256075 0.86571061 0.85513727 0.60201333 0.9483651  0.13071288\n",
      "  0.49007272 0.56116409 0.41343554]\n",
      " [0.49422461 0.57457052 0.99710939 0.96668434 0.27755619 0.94462372\n",
      "  0.27680057 0.63371632 0.03036038]\n",
      " [0.35584466 0.21653621 0.8813089  0.65386525 0.62608687 0.30978662\n",
      "  0.22423792 0.72912014 0.9882897 ]\n",
      " [0.74342185 0.43674612 0.05355056 0.6254933  0.60604729 0.17629689\n",
      "  0.5095588  0.32347738 0.28667965]\n",
      " [0.92227576 0.94866834 0.41117224 0.92620421 0.60294031 0.49437303\n",
      "  0.17448161 0.13658505 0.75180442]\n",
      " [0.90391608 0.19061743 0.05004642 0.42430319 0.80603945 0.7306961\n",
      "  0.41993574 0.8190882  0.98245048]]\n",
      "min 0.030360381070508646, max 0.9971093940771292\n"
     ]
    }
   ],
   "source": [
    "# create 9x9 array with random values and find min and max\n",
    "arr = np.random.rand(9,9)\n",
    "print(arr)\n",
    "print(f\"min {arr.min()}, max {arr.max()}\")"
   ],
   "metadata": {
    "collapsed": false
   }
  },
  {
   "cell_type": "code",
   "execution_count": 46,
   "outputs": [
    {
     "name": "stdout",
     "output_type": "stream",
     "text": [
      "True True\n",
      "True True\n"
     ]
    }
   ],
   "source": [
    "# create 6x3 and 3x4 matrix and multiply\n",
    "\n",
    "a = [1,2,3,4,5,6]\n",
    "b = [1,2,3,4,5,6,7,8,9,10,11,12]\n",
    "if a>b:\n",
    "    print(False, False)\n",
    "if a>=b:\n",
    "    print(False, False)\n",
    "if a<b:\n",
    "    print(True, True)\n",
    "if a<=b:\n",
    "    print(True, True)"
   ],
   "metadata": {
    "collapsed": false
   }
  },
  {
   "cell_type": "code",
   "execution_count": 41,
   "outputs": [
    {
     "name": "stdout",
     "output_type": "stream",
     "text": [
      "9\n",
      "10\n"
     ]
    }
   ],
   "source": [
    "print(sum(range(5),-1))\n",
    "from numpy import *\n",
    "print(sum(range(5),-1))"
   ],
   "metadata": {
    "collapsed": false
   }
  },
  {
   "cell_type": "code",
   "execution_count": 47,
   "outputs": [
    {
     "name": "stderr",
     "output_type": "stream",
     "text": [
      "/var/folders/4z/p7tk3ktn5bxcqwyk547j18h00000gp/T/ipykernel_2282/548293649.py:1: RuntimeWarning: invalid value encountered in divide\n",
      "  np.array(0) / np.array(0)\n",
      "/var/folders/4z/p7tk3ktn5bxcqwyk547j18h00000gp/T/ipykernel_2282/548293649.py:2: RuntimeWarning: divide by zero encountered in floor_divide\n",
      "  np.array(0) // np.array(0)\n"
     ]
    },
    {
     "data": {
      "text/plain": "array([-9.22337204e+18])"
     },
     "execution_count": 47,
     "metadata": {},
     "output_type": "execute_result"
    }
   ],
   "source": [
    "np.array(0) / np.array(0)\n",
    "np.array(0) // np.array(0)\n",
    "np.array([np.nan]).astype(int).astype(float)"
   ],
   "metadata": {
    "collapsed": false
   }
  },
  {
   "cell_type": "code",
   "execution_count": 49,
   "outputs": [
    {
     "name": "stdout",
     "output_type": "stream",
     "text": [
      "[5 8 4 1 4 6 0 6 8 0]\n",
      "[4 2 9 0 1 2 0 3 0 7]\n"
     ]
    },
    {
     "data": {
      "text/plain": "array([0, 1, 4])"
     },
     "execution_count": 49,
     "metadata": {},
     "output_type": "execute_result"
    }
   ],
   "source": [
    "arr1 = np.random.randint(0,10,10)\n",
    "print(arr1)\n",
    "arr2 = np.random.randint(0,10,10)\n",
    "print(arr2)\n",
    "np.intersect1d(arr1,arr2)"
   ],
   "metadata": {
    "collapsed": false
   }
  },
  {
   "cell_type": "code",
   "execution_count": 53,
   "outputs": [
    {
     "name": "stdout",
     "output_type": "stream",
     "text": [
      "[9 1 3 8 1 0 8 0 5 8]\n",
      "[9. 1. 3. 8. 1. 0. 8. 0. 5. 8.]\n",
      "[9 1 3 8 1 0 8 0 5 8]\n",
      "[9. 1. 3. 8. 1. 0. 8. 0. 5. 8.]\n"
     ]
    }
   ],
   "source": [
    "arr = np.random.randint(0,10,10)\n",
    "floor = np.floor(arr)\n",
    "asytpe = floor.astype(int)\n",
    "trunc = np.trunc(arr)\n",
    "print(arr)\n",
    "print(floor)\n",
    "print(asytpe)\n",
    "print(trunc)"
   ],
   "metadata": {
    "collapsed": false
   }
  },
  {
   "cell_type": "code",
   "execution_count": 55,
   "outputs": [
    {
     "data": {
      "text/plain": "array([[5, 4],\n       [4, 1]])"
     },
     "execution_count": 55,
     "metadata": {},
     "output_type": "execute_result"
    }
   ],
   "source": [
    "# array column 0 to 2\n",
    "def array_column():\n",
    "    arr = np.random.randint(0,10,10).reshape(2,5)\n",
    "    return arr[:,0:2]\n",
    "\n",
    "array_column()\n"
   ],
   "metadata": {
    "collapsed": false
   }
  },
  {
   "cell_type": "code",
   "execution_count": 57,
   "outputs": [
    {
     "data": {
      "text/plain": "array([1, 1, 3, 6, 6, 6, 7, 9, 9, 9])"
     },
     "execution_count": 57,
     "metadata": {},
     "output_type": "execute_result"
    }
   ],
   "source": [
    "# size vector 10 isort\n",
    "def size_vector():\n",
    "    arr = np.random.randint(0,10,10)\n",
    "    return np.sort(arr)\n",
    "\n",
    "size_vector()"
   ],
   "metadata": {
    "collapsed": false
   }
  },
  {
   "cell_type": "code",
   "execution_count": 60,
   "outputs": [
    {
     "name": "stdout",
     "output_type": "stream",
     "text": [
      "False\n",
      "False\n"
     ]
    }
   ],
   "source": [
    "A = np.random.rand(3,3)\n",
    "B = np.random.rand(3,3)\n",
    "# np.allclose(A,B)\n",
    "ac  = np.allclose(A,B)\n",
    "eq = np.array_equal(A,B)\n",
    "print(ac)\n",
    "print(eq)"
   ],
   "metadata": {
    "collapsed": false
   }
  },
  {
   "cell_type": "code",
   "execution_count": 62,
   "outputs": [
    {
     "name": "stdout",
     "output_type": "stream",
     "text": [
      "[[ 27  48  33  63]\n",
      " [ 30  32  31  18]\n",
      " [ 49  37  54  75]\n",
      " [ 64  50  69  80]\n",
      " [ 66  71  74 104]\n",
      " [  7  19  10  29]]\n"
     ]
    }
   ],
   "source": [
    "# arrays 6x3 and 3x4\n",
    "arr1 = np.random.randint(0,10,18).reshape(6,3)\n",
    "arr2 = np.random.randint(0,10,12).reshape(3,4)\n",
    "print(np.dot(arr1,arr2))"
   ],
   "metadata": {
    "collapsed": false
   }
  },
  {
   "cell_type": "code",
   "execution_count": 65,
   "outputs": [
    {
     "name": "stdout",
     "output_type": "stream",
     "text": [
      "Asl vektor: [0.60675566 0.49510643 0.53126027 0.17967958 0.        ]\n",
      "Eng katta qiymat: 0.9054205819715466\n",
      "O'zgartirilgan vektor: [0.60675566 0.49510643 0.53126027 0.17967958 0.        ]\n"
     ]
    }
   ],
   "source": [
    "vec = np.random.rand(5)\n",
    "\n",
    "# Vektorning eng katta elementini 0 ga o'zgartiramiz\n",
    "max_val = np.max(vec)\n",
    "max_idx = np.argmax(vec)\n",
    "vec[max_idx] = 0\n",
    "\n",
    "print(\"Asl vektor:\", vec)\n",
    "print(\"Eng katta qiymat:\", max_val)\n",
    "print(\"O'zgartirilgan vektor:\", vec)\n"
   ],
   "metadata": {
    "collapsed": false
   }
  },
  {
   "cell_type": "code",
   "execution_count": 66,
   "outputs": [
    {
     "name": "stdout",
     "output_type": "stream",
     "text": [
      "10\n",
      "10\n"
     ]
    }
   ],
   "source": [
    "print(sum(range(5),-1))\n",
    "from numpy import *\n",
    "print(sum(range(5),-1))"
   ],
   "metadata": {
    "collapsed": false
   }
  },
  {
   "cell_type": "code",
   "execution_count": 67,
   "outputs": [
    {
     "name": "stdout",
     "output_type": "stream",
     "text": [
      "[False False]\n",
      "[False False]\n",
      "[ True  True]\n",
      "[ True  True]\n"
     ]
    }
   ],
   "source": [
    "import numpy as np\n",
    "\n",
    "a = np.array([1, 2])\n",
    "b = np.array([4, 5])\n",
    "\n",
    "print(a > b)   # [False False]\n",
    "print(a >= b)  # [False False]\n",
    "print(a < b)   # [ True  True]\n",
    "print(a <= b)  # [ True  True]\n"
   ],
   "metadata": {
    "collapsed": false
   }
  },
  {
   "cell_type": "code",
   "execution_count": 69,
   "outputs": [
    {
     "name": "stdout",
     "output_type": "stream",
     "text": [
      "Massiv a:  [1 2 3 4 5]\n",
      "Massiv b:  [3 4 5 6 7]\n",
      "Umumiy qiymatlar:  [3 4 5]\n"
     ]
    }
   ],
   "source": [
    "# Massivlar yaratiladi\n",
    "a = np.array([1, 2, 3, 4, 5])\n",
    "b = np.array([3, 4, 5, 6, 7])\n",
    "\n",
    "# Umumiy qiymatlarni topish\n",
    "common_values = np.intersect1d(a, b)\n",
    "\n",
    "print(\"Massiv a: \", a)\n",
    "print(\"Massiv b: \", b)\n",
    "print(\"Umumiy qiymatlar: \", common_values)"
   ],
   "metadata": {
    "collapsed": false
   }
  },
  {
   "cell_type": "code",
   "execution_count": 70,
   "outputs": [
    {
     "name": "stdout",
     "output_type": "stream",
     "text": [
      "[[ 1  2  3  4]\n",
      " [ 2  3  4  5]\n",
      " [ 3  4  5  6]\n",
      " [ 4  5  6  7]\n",
      " [ 5  6  7  8]\n",
      " [ 6  7  8  9]\n",
      " [ 7  8  9 10]\n",
      " [ 8  9 10 11]\n",
      " [ 9 10 11 12]\n",
      " [10 11 12 13]\n",
      " [11 12 13 14]]\n"
     ]
    }
   ],
   "source": [
    "from numpy.lib.stride_tricks import as_strided\n",
    "a = np.arange(1, 15)\n",
    "b = as_strided(a, shape=(11, 4), strides=(a.itemsize, a.itemsize))\n",
    "\n",
    "print(b)"
   ],
   "metadata": {
    "collapsed": false
   }
  },
  {
   "cell_type": "code",
   "execution_count": 87,
   "outputs": [
    {
     "name": "stdout",
     "output_type": "stream",
     "text": [
      "[[1, 0, 0, 0], [2, 0, 0, 0], [3, 0, 0, 0], [4, 0, 0, 0], [5, 0, 0, 0]]\n"
     ]
    }
   ],
   "source": [
    "a = [1, 2, 3, 4, 5]\n",
    "result = [[a[i], 0, 0, 0] for i in range(len(a))]\n",
    "print(result)\n"
   ],
   "metadata": {
    "collapsed": false
   }
  },
  {
   "cell_type": "code",
   "execution_count": 89,
   "outputs": [
    {
     "name": "stdout",
     "output_type": "stream",
     "text": [
      "(3, 3, 2, 3, 0)\n"
     ]
    }
   ],
   "source": [
    "five_dim_array = np.random.rand(5,5,5,5,5)\n",
    "argmax = np.argmax(five_dim_array)\n",
    "argmax_0 = np.unravel_index(argmax, five_dim_array.shape)\n",
    "print(argmax_0)"
   ],
   "metadata": {
    "collapsed": false
   }
  },
  {
   "cell_type": "code",
   "execution_count": 90,
   "outputs": [
    {
     "name": "stdout",
     "output_type": "stream",
     "text": [
      "[12 15 18]\n",
      "[12 15 18]\n"
     ]
    }
   ],
   "source": [
    "a = np.array([1, 2, 3])\n",
    "b = np.array([4, 5, 6])\n",
    "c = np.array([7, 8, 9])\n",
    "# np.sum() funksiyasi orqali\n",
    "sum_arr = np.sum([a, b, c], axis=0)\n",
    "print(sum_arr)\n",
    "\n",
    "# np.add.reduce() funksiyasi orqali\n",
    "add_reduce_arr = np.add.reduce([a, b, c])\n",
    "print(add_reduce_arr)\n"
   ],
   "metadata": {
    "collapsed": false
   }
  },
  {
   "cell_type": "code",
   "execution_count": 91,
   "outputs": [
    {
     "name": "stdout",
     "output_type": "stream",
     "text": [
      "Joriy sana: 2023-04-24\n",
      "Ertangi sana: 2023-04-25\n"
     ]
    }
   ],
   "source": [
    "# Joriy sana va vaqt\n",
    "today = np.datetime64('today')\n",
    "print(\"Joriy sana:\", today)\n",
    "\n",
    "# Ertangi sana\n",
    "tomorrow = today + np.timedelta64(1, 'D')\n",
    "print(\"Ertangi sana:\", tomorrow)\n"
   ],
   "metadata": {
    "collapsed": false
   }
  },
  {
   "cell_type": "code",
   "execution_count": 92,
   "outputs": [
    {
     "name": "stdout",
     "output_type": "stream",
     "text": [
      "['2016-01-01' '2016-01-02' '2016-01-03' '2016-01-04' '2016-01-05'\n",
      " '2016-01-06' '2016-01-07' '2016-01-08' '2016-01-09' '2016-01-10'\n",
      " '2016-01-11' '2016-01-12' '2016-01-13' '2016-01-14' '2016-01-15'\n",
      " '2016-01-16' '2016-01-17' '2016-01-18' '2016-01-19' '2016-01-20'\n",
      " '2016-01-21' '2016-01-22' '2016-01-23' '2016-01-24' '2016-01-25'\n",
      " '2016-01-26' '2016-01-27' '2016-01-28' '2016-01-29' '2016-01-30'\n",
      " '2016-01-31']\n"
     ]
    }
   ],
   "source": [
    "start_date = np.datetime64('2016-01-01')\n",
    "end_date = np.datetime64('2016-02-01')\n",
    "\n",
    "dates = np.arange(start_date, end_date, dtype=np.datetime64)\n",
    "\n",
    "print(dates)"
   ],
   "metadata": {
    "collapsed": false
   }
  },
  {
   "cell_type": "code",
   "execution_count": null,
   "outputs": [],
   "source": [],
   "metadata": {
    "collapsed": false
   }
  }
 ],
 "metadata": {
  "kernelspec": {
   "display_name": "Python 3",
   "language": "python",
   "name": "python3"
  },
  "language_info": {
   "codemirror_mode": {
    "name": "ipython",
    "version": 2
   },
   "file_extension": ".py",
   "mimetype": "text/x-python",
   "name": "python",
   "nbconvert_exporter": "python",
   "pygments_lexer": "ipython2",
   "version": "2.7.6"
  }
 },
 "nbformat": 4,
 "nbformat_minor": 0
}
