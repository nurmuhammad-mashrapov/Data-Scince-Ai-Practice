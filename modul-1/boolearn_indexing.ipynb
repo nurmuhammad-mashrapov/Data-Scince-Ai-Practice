{
 "cells": [
  {
   "cell_type": "code",
   "execution_count": 1,
   "metadata": {
    "collapsed": true
   },
   "outputs": [],
   "source": [
    "import numpy as np"
   ]
  },
  {
   "cell_type": "code",
   "execution_count": 3,
   "outputs": [
    {
     "data": {
      "text/plain": "array(['Nurmuhammad', 'Humoyun', 'Muhammadaziz', 'Omadbek', 'Dilshod'],\n      dtype='<U12')"
     },
     "execution_count": 3,
     "metadata": {},
     "output_type": "execute_result"
    }
   ],
   "source": [
    "names = np.array(['Nurmuhammad', 'Humoyun', 'Muhammadaziz', 'Omadbek', 'Dilshod'])\n",
    "names"
   ],
   "metadata": {
    "collapsed": false
   }
  },
  {
   "cell_type": "code",
   "execution_count": 6,
   "outputs": [
    {
     "data": {
      "text/plain": "array([[-0.01817892,  0.55694271, -0.47124479, -0.308545  ],\n       [-0.29280172, -1.58379095, -0.93070188,  0.27682258],\n       [ 0.5188173 ,  1.12815671,  0.23181137, -1.19344035],\n       [ 0.86213829,  0.97172032, -1.36293774,  0.51043336],\n       [-0.79042694,  0.15046324,  0.24252452, -0.06566786]])"
     },
     "execution_count": 6,
     "metadata": {},
     "output_type": "execute_result"
    }
   ],
   "source": [
    "data = np.random.randn(5, 4)\n",
    "data"
   ],
   "metadata": {
    "collapsed": false
   }
  },
  {
   "cell_type": "code",
   "execution_count": 7,
   "outputs": [
    {
     "data": {
      "text/plain": "array([ True, False, False, False, False])"
     },
     "execution_count": 7,
     "metadata": {},
     "output_type": "execute_result"
    }
   ],
   "source": [
    "names == 'Nurmuhammad'"
   ],
   "metadata": {
    "collapsed": false
   }
  },
  {
   "cell_type": "code",
   "execution_count": 9,
   "outputs": [
    {
     "data": {
      "text/plain": "array([[-0.01817892,  0.55694271, -0.47124479, -0.308545  ]])"
     },
     "execution_count": 9,
     "metadata": {},
     "output_type": "execute_result"
    }
   ],
   "source": [
    "data[names == 'Nurmuhammad']"
   ],
   "metadata": {
    "collapsed": false
   }
  },
  {
   "cell_type": "code",
   "execution_count": 10,
   "outputs": [
    {
     "data": {
      "text/plain": "array([[-0.29280172, -1.58379095, -0.93070188,  0.27682258]])"
     },
     "execution_count": 10,
     "metadata": {},
     "output_type": "execute_result"
    }
   ],
   "source": [
    "data[names == 'Humoyun']"
   ],
   "metadata": {
    "collapsed": false
   }
  },
  {
   "cell_type": "code",
   "execution_count": 12,
   "outputs": [
    {
     "data": {
      "text/plain": "array([[-0.47124479, -0.308545  ]])"
     },
     "execution_count": 12,
     "metadata": {},
     "output_type": "execute_result"
    }
   ],
   "source": [
    "data[names == 'Nurmuhammad', 2:]"
   ],
   "metadata": {
    "collapsed": false
   }
  },
  {
   "cell_type": "code",
   "execution_count": 13,
   "outputs": [
    {
     "data": {
      "text/plain": "array([[-0.01817892,  0.55694271, -0.47124479, -0.308545  ],\n       [-0.29280172, -1.58379095, -0.93070188,  0.27682258],\n       [ 0.5188173 ,  1.12815671,  0.23181137, -1.19344035],\n       [-0.79042694,  0.15046324,  0.24252452, -0.06566786]])"
     },
     "execution_count": 13,
     "metadata": {},
     "output_type": "execute_result"
    }
   ],
   "source": [
    "data[names != 'Omadbek'] #"
   ],
   "metadata": {
    "collapsed": false
   }
  },
  {
   "cell_type": "code",
   "execution_count": 14,
   "outputs": [
    {
     "data": {
      "text/plain": "array([[-0.01817892,  0.55694271, -0.47124479, -0.308545  ],\n       [-0.29280172, -1.58379095, -0.93070188,  0.27682258],\n       [ 0.5188173 ,  1.12815671,  0.23181137, -1.19344035],\n       [-0.79042694,  0.15046324,  0.24252452, -0.06566786]])"
     },
     "execution_count": 14,
     "metadata": {},
     "output_type": "execute_result"
    }
   ],
   "source": [
    "data[~(names == 'Omadbek')]"
   ],
   "metadata": {
    "collapsed": false
   }
  },
  {
   "cell_type": "code",
   "execution_count": 20,
   "outputs": [],
   "source": [
    "mask = (names == 'Omadbek') | (names == 'Nurmuhammad')"
   ],
   "metadata": {
    "collapsed": false
   }
  },
  {
   "cell_type": "code",
   "execution_count": 21,
   "outputs": [
    {
     "data": {
      "text/plain": "array([ True, False, False,  True, False])"
     },
     "execution_count": 21,
     "metadata": {},
     "output_type": "execute_result"
    }
   ],
   "source": [
    "mask"
   ],
   "metadata": {
    "collapsed": false
   }
  },
  {
   "cell_type": "code",
   "execution_count": 23,
   "outputs": [
    {
     "data": {
      "text/plain": "array([[-0.01817892,  0.55694271, -0.47124479, -0.308545  ],\n       [ 0.86213829,  0.97172032, -1.36293774,  0.51043336]])"
     },
     "execution_count": 23,
     "metadata": {},
     "output_type": "execute_result"
    }
   ],
   "source": [
    "data[mask]"
   ],
   "metadata": {
    "collapsed": false
   }
  },
  {
   "cell_type": "code",
   "execution_count": 24,
   "outputs": [
    {
     "data": {
      "text/plain": "array([[-0.01817892,  0.55694271, -0.47124479, -0.308545  ],\n       [-0.29280172, -1.58379095, -0.93070188,  0.27682258],\n       [ 0.5188173 ,  1.12815671,  0.23181137, -1.19344035],\n       [ 0.86213829,  0.97172032, -1.36293774,  0.51043336],\n       [-0.79042694,  0.15046324,  0.24252452, -0.06566786]])"
     },
     "execution_count": 24,
     "metadata": {},
     "output_type": "execute_result"
    }
   ],
   "source": [
    "data"
   ],
   "metadata": {
    "collapsed": false
   }
  },
  {
   "cell_type": "code",
   "execution_count": 25,
   "outputs": [
    {
     "data": {
      "text/plain": "array([[0.        , 0.55694271, 0.        , 0.        ],\n       [0.        , 0.        , 0.        , 0.27682258],\n       [0.5188173 , 1.12815671, 0.23181137, 0.        ],\n       [0.86213829, 0.97172032, 0.        , 0.51043336],\n       [0.        , 0.15046324, 0.24252452, 0.        ]])"
     },
     "execution_count": 25,
     "metadata": {},
     "output_type": "execute_result"
    }
   ],
   "source": [
    "data[data<0] = 0\n",
    "data"
   ],
   "metadata": {
    "collapsed": false
   }
  },
  {
   "cell_type": "code",
   "execution_count": null,
   "outputs": [],
   "source": [],
   "metadata": {
    "collapsed": false
   }
  }
 ],
 "metadata": {
  "kernelspec": {
   "display_name": "Python 3",
   "language": "python",
   "name": "python3"
  },
  "language_info": {
   "codemirror_mode": {
    "name": "ipython",
    "version": 2
   },
   "file_extension": ".py",
   "mimetype": "text/x-python",
   "name": "python",
   "nbconvert_exporter": "python",
   "pygments_lexer": "ipython2",
   "version": "2.7.6"
  }
 },
 "nbformat": 4,
 "nbformat_minor": 0
}
