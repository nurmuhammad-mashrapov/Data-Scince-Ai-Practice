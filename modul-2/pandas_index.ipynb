{
 "cells": [
  {
   "cell_type": "code",
   "execution_count": null,
   "outputs": [],
   "source": [
    "import pandas as pd"
   ],
   "metadata": {
    "collapsed": false
   }
  },
  {
   "cell_type": "code",
   "execution_count": 2,
   "outputs": [],
   "source": [
    "data = {\n",
    "    'Yil': [2021, 2020, 2019, 2018, 2017],\n",
    "    'Aholi soni': [33.9, 33.5, 32.9, 32.5, 31.9],\n",
    "    'Temp': [1.54, 1.48, 1.56, 1.62, 1.65]\n",
    "}"
   ],
   "metadata": {
    "collapsed": false
   }
  },
  {
   "cell_type": "code",
   "execution_count": 3,
   "outputs": [],
   "source": [
    "df = pd.DataFrame(data)"
   ],
   "metadata": {
    "collapsed": false
   }
  },
  {
   "cell_type": "code",
   "execution_count": 7,
   "outputs": [
    {
     "data": {
      "text/plain": "    Yil  Aholi soni  Temp\n0  2021        33.9  1.54\n1  2020        33.5  1.48\n2  2019        32.9  1.56\n3  2018        32.5  1.62\n4  2017        31.9  1.65",
      "text/html": "<div>\n<style scoped>\n    .dataframe tbody tr th:only-of-type {\n        vertical-align: middle;\n    }\n\n    .dataframe tbody tr th {\n        vertical-align: top;\n    }\n\n    .dataframe thead th {\n        text-align: right;\n    }\n</style>\n<table border=\"1\" class=\"dataframe\">\n  <thead>\n    <tr style=\"text-align: right;\">\n      <th></th>\n      <th>Yil</th>\n      <th>Aholi soni</th>\n      <th>Temp</th>\n    </tr>\n  </thead>\n  <tbody>\n    <tr>\n      <th>0</th>\n      <td>2021</td>\n      <td>33.9</td>\n      <td>1.54</td>\n    </tr>\n    <tr>\n      <th>1</th>\n      <td>2020</td>\n      <td>33.5</td>\n      <td>1.48</td>\n    </tr>\n    <tr>\n      <th>2</th>\n      <td>2019</td>\n      <td>32.9</td>\n      <td>1.56</td>\n    </tr>\n    <tr>\n      <th>3</th>\n      <td>2018</td>\n      <td>32.5</td>\n      <td>1.62</td>\n    </tr>\n    <tr>\n      <th>4</th>\n      <td>2017</td>\n      <td>31.9</td>\n      <td>1.65</td>\n    </tr>\n  </tbody>\n</table>\n</div>"
     },
     "execution_count": 7,
     "metadata": {},
     "output_type": "execute_result"
    }
   ],
   "source": [
    "df"
   ],
   "metadata": {
    "collapsed": false
   }
  },
  {
   "cell_type": "code",
   "execution_count": 8,
   "outputs": [
    {
     "data": {
      "text/plain": "RangeIndex(start=0, stop=5, step=1)"
     },
     "execution_count": 8,
     "metadata": {},
     "output_type": "execute_result"
    }
   ],
   "source": [
    "df.index"
   ],
   "metadata": {
    "collapsed": false
   }
  },
  {
   "cell_type": "code",
   "execution_count": 9,
   "outputs": [
    {
     "data": {
      "text/plain": "Index(['Yil', 'Aholi soni', 'Temp'], dtype='object')"
     },
     "execution_count": 9,
     "metadata": {},
     "output_type": "execute_result"
    }
   ],
   "source": [
    "df.columns"
   ],
   "metadata": {
    "collapsed": false
   }
  },
  {
   "cell_type": "code",
   "execution_count": 10,
   "outputs": [],
   "source": [
    "indeks = df.columns"
   ],
   "metadata": {
    "collapsed": false
   }
  },
  {
   "cell_type": "code",
   "execution_count": 11,
   "outputs": [
    {
     "data": {
      "text/plain": "Index(['Yil', 'Aholi soni', 'Temp'], dtype='object')"
     },
     "execution_count": 11,
     "metadata": {},
     "output_type": "execute_result"
    }
   ],
   "source": [
    "indeks"
   ],
   "metadata": {
    "collapsed": false
   }
  },
  {
   "cell_type": "code",
   "execution_count": 12,
   "outputs": [
    {
     "data": {
      "text/plain": "True"
     },
     "execution_count": 12,
     "metadata": {},
     "output_type": "execute_result"
    }
   ],
   "source": [
    "'Temp' in indeks"
   ],
   "metadata": {
    "collapsed": false
   }
  },
  {
   "cell_type": "code",
   "execution_count": 13,
   "outputs": [
    {
     "data": {
      "text/plain": "'Yil'"
     },
     "execution_count": 13,
     "metadata": {},
     "output_type": "execute_result"
    }
   ],
   "source": [
    "indeks[0]"
   ],
   "metadata": {
    "collapsed": false
   }
  },
  {
   "cell_type": "code",
   "execution_count": 15,
   "outputs": [
    {
     "data": {
      "text/plain": "Index(['Temp'], dtype='object')"
     },
     "execution_count": 15,
     "metadata": {},
     "output_type": "execute_result"
    }
   ],
   "source": [
    "indeks[2:4]"
   ],
   "metadata": {
    "collapsed": false
   }
  },
  {
   "cell_type": "code",
   "execution_count": 17,
   "outputs": [
    {
     "data": {
      "text/plain": "    Yil  Aholi soni  Temp\n0  2021        33.9  1.54\n1  2020        33.5  1.48\n2  2019        32.9  1.56\n3  2018        32.5  1.62\n4  2017        31.9  1.65",
      "text/html": "<div>\n<style scoped>\n    .dataframe tbody tr th:only-of-type {\n        vertical-align: middle;\n    }\n\n    .dataframe tbody tr th {\n        vertical-align: top;\n    }\n\n    .dataframe thead th {\n        text-align: right;\n    }\n</style>\n<table border=\"1\" class=\"dataframe\">\n  <thead>\n    <tr style=\"text-align: right;\">\n      <th></th>\n      <th>Yil</th>\n      <th>Aholi soni</th>\n      <th>Temp</th>\n    </tr>\n  </thead>\n  <tbody>\n    <tr>\n      <th>0</th>\n      <td>2021</td>\n      <td>33.9</td>\n      <td>1.54</td>\n    </tr>\n    <tr>\n      <th>1</th>\n      <td>2020</td>\n      <td>33.5</td>\n      <td>1.48</td>\n    </tr>\n    <tr>\n      <th>2</th>\n      <td>2019</td>\n      <td>32.9</td>\n      <td>1.56</td>\n    </tr>\n    <tr>\n      <th>3</th>\n      <td>2018</td>\n      <td>32.5</td>\n      <td>1.62</td>\n    </tr>\n    <tr>\n      <th>4</th>\n      <td>2017</td>\n      <td>31.9</td>\n      <td>1.65</td>\n    </tr>\n  </tbody>\n</table>\n</div>"
     },
     "execution_count": 17,
     "metadata": {},
     "output_type": "execute_result"
    }
   ],
   "source": [
    "df1w"
   ],
   "metadata": {
    "collapsed": false
   }
  },
  {
   "cell_type": "code",
   "execution_count": 28,
   "outputs": [],
   "source": [
    "usernames = {\"nurmuhammad\": '3030', \"olim\": 'olimtot40', \"maryam\": '3030mar'}\n",
    "emails = {\"nurmuhammad\": 'mashrapov3030@gmail.com', 'olim': 'olim@gmail.com', \"maryam\": 'maryam@gmail.com'}\n",
    "data = {\n",
    "    'username':usernames,\n",
    "    'email': emails\n",
    "}\n",
    "df = pd.DataFrame(data)"
   ],
   "metadata": {
    "collapsed": false
   }
  },
  {
   "cell_type": "code",
   "execution_count": 29,
   "outputs": [
    {
     "data": {
      "text/plain": "              username                    email\nnurmuhammad       3030  mashrapov3030@gmail.com\nolim         olimtot40           olim@gmail.com\nmaryam         3030mar         maryam@gmail.com",
      "text/html": "<div>\n<style scoped>\n    .dataframe tbody tr th:only-of-type {\n        vertical-align: middle;\n    }\n\n    .dataframe tbody tr th {\n        vertical-align: top;\n    }\n\n    .dataframe thead th {\n        text-align: right;\n    }\n</style>\n<table border=\"1\" class=\"dataframe\">\n  <thead>\n    <tr style=\"text-align: right;\">\n      <th></th>\n      <th>username</th>\n      <th>email</th>\n    </tr>\n  </thead>\n  <tbody>\n    <tr>\n      <th>nurmuhammad</th>\n      <td>3030</td>\n      <td>mashrapov3030@gmail.com</td>\n    </tr>\n    <tr>\n      <th>olim</th>\n      <td>olimtot40</td>\n      <td>olim@gmail.com</td>\n    </tr>\n    <tr>\n      <th>maryam</th>\n      <td>3030mar</td>\n      <td>maryam@gmail.com</td>\n    </tr>\n  </tbody>\n</table>\n</div>"
     },
     "execution_count": 29,
     "metadata": {},
     "output_type": "execute_result"
    }
   ],
   "source": [
    "df"
   ],
   "metadata": {
    "collapsed": false
   }
  },
  {
   "cell_type": "code",
   "execution_count": 30,
   "outputs": [
    {
     "data": {
      "text/plain": "Index(['nurmuhammad', 'olim', 'maryam'], dtype='object')"
     },
     "execution_count": 30,
     "metadata": {},
     "output_type": "execute_result"
    }
   ],
   "source": [
    "df.index"
   ],
   "metadata": {
    "collapsed": false
   }
  },
  {
   "cell_type": "code",
   "execution_count": 37,
   "outputs": [],
   "source": [
    "data2 = {\n",
    "    'username': {\"muhammad\": '3030', \"olim\": 'olimtot40'},\n",
    "    'email': {\"muhammad\": 'mashrapov3030@gmail.com', 'olim': 'olim@gmail.com'}\n",
    "}"
   ],
   "metadata": {
    "collapsed": false
   }
  },
  {
   "cell_type": "code",
   "execution_count": 38,
   "outputs": [
    {
     "name": "stderr",
     "output_type": "stream",
     "text": [
      "/tmp/ipykernel_7537/289703299.py:1: FutureWarning: The frame.append method is deprecated and will be removed from pandas in a future version. Use pandas.concat instead.\n",
      "  df2 = df.append(pd.DataFrame(data2))\n"
     ]
    }
   ],
   "source": [
    "df2 = df.append(pd.DataFrame(data2))"
   ],
   "metadata": {
    "collapsed": false
   }
  },
  {
   "cell_type": "code",
   "execution_count": 39,
   "outputs": [
    {
     "ename": "NameError",
     "evalue": "name 'DF2' is not defined",
     "output_type": "error",
     "traceback": [
      "\u001B[0;31m---------------------------------------------------------------------------\u001B[0m",
      "\u001B[0;31mNameError\u001B[0m                                 Traceback (most recent call last)",
      "Cell \u001B[0;32mIn[39], line 1\u001B[0m\n\u001B[0;32m----> 1\u001B[0m \u001B[43mDF2\u001B[49m\n",
      "\u001B[0;31mNameError\u001B[0m: name 'DF2' is not defined"
     ]
    }
   ],
   "source": [
    "DF2"
   ],
   "metadata": {
    "collapsed": false
   }
  },
  {
   "cell_type": "code",
   "execution_count": 40,
   "outputs": [
    {
     "data": {
      "text/plain": "              username                    email\nnurmuhammad       3030  mashrapov3030@gmail.com\nolim         olimtot40           olim@gmail.com\nmaryam         3030mar         maryam@gmail.com\nmuhammad          3030  mashrapov3030@gmail.com\nolim         olimtot40           olim@gmail.com",
      "text/html": "<div>\n<style scoped>\n    .dataframe tbody tr th:only-of-type {\n        vertical-align: middle;\n    }\n\n    .dataframe tbody tr th {\n        vertical-align: top;\n    }\n\n    .dataframe thead th {\n        text-align: right;\n    }\n</style>\n<table border=\"1\" class=\"dataframe\">\n  <thead>\n    <tr style=\"text-align: right;\">\n      <th></th>\n      <th>username</th>\n      <th>email</th>\n    </tr>\n  </thead>\n  <tbody>\n    <tr>\n      <th>nurmuhammad</th>\n      <td>3030</td>\n      <td>mashrapov3030@gmail.com</td>\n    </tr>\n    <tr>\n      <th>olim</th>\n      <td>olimtot40</td>\n      <td>olim@gmail.com</td>\n    </tr>\n    <tr>\n      <th>maryam</th>\n      <td>3030mar</td>\n      <td>maryam@gmail.com</td>\n    </tr>\n    <tr>\n      <th>muhammad</th>\n      <td>3030</td>\n      <td>mashrapov3030@gmail.com</td>\n    </tr>\n    <tr>\n      <th>olim</th>\n      <td>olimtot40</td>\n      <td>olim@gmail.com</td>\n    </tr>\n  </tbody>\n</table>\n</div>"
     },
     "execution_count": 40,
     "metadata": {},
     "output_type": "execute_result"
    }
   ],
   "source": [
    "df2"
   ],
   "metadata": {
    "collapsed": false
   }
  },
  {
   "cell_type": "code",
   "execution_count": 41,
   "outputs": [
    {
     "data": {
      "text/plain": "Index(['olim', 'olimtot', 'hamida'], dtype='object')"
     },
     "execution_count": 41,
     "metadata": {},
     "output_type": "execute_result"
    }
   ],
   "source": [
    "newind = pd.Index(['olim', 'olimtot', 'hamida'])\n",
    "newind"
   ],
   "metadata": {
    "collapsed": false
   }
  },
  {
   "cell_type": "code",
   "execution_count": 42,
   "outputs": [
    {
     "data": {
      "text/plain": "array([ True, False, False])"
     },
     "execution_count": 42,
     "metadata": {},
     "output_type": "execute_result"
    }
   ],
   "source": [
    "newind.isin(df2.index)"
   ],
   "metadata": {
    "collapsed": false
   }
  },
  {
   "cell_type": "code",
   "execution_count": 43,
   "outputs": [
    {
     "data": {
      "text/plain": "Index(['maryam', 'muhammad', 'nurmuhammad'], dtype='object')"
     },
     "execution_count": 43,
     "metadata": {},
     "output_type": "execute_result"
    }
   ],
   "source": [
    "df2.index.difference(newind)"
   ],
   "metadata": {
    "collapsed": false
   }
  },
  {
   "cell_type": "code",
   "execution_count": 44,
   "outputs": [
    {
     "data": {
      "text/plain": "Index(['hamida', 'olimtot'], dtype='object')"
     },
     "execution_count": 44,
     "metadata": {},
     "output_type": "execute_result"
    }
   ],
   "source": [
    "newind.difference(df2.index)"
   ],
   "metadata": {
    "collapsed": false
   }
  },
  {
   "cell_type": "code",
   "execution_count": 45,
   "outputs": [
    {
     "data": {
      "text/plain": "Index(['hamida', 'maryam', 'muhammad', 'nurmuhammad', 'olim', 'olim',\n       'olimtot'],\n      dtype='object')"
     },
     "execution_count": 45,
     "metadata": {},
     "output_type": "execute_result"
    }
   ],
   "source": [
    "df2.index.union(newind)"
   ],
   "metadata": {
    "collapsed": false
   }
  },
  {
   "cell_type": "code",
   "execution_count": 46,
   "outputs": [
    {
     "data": {
      "text/plain": "Index(['olim', 'maryam', 'muhammad', 'olim'], dtype='object')"
     },
     "execution_count": 46,
     "metadata": {},
     "output_type": "execute_result"
    }
   ],
   "source": [
    "df2.index.delete(0)"
   ],
   "metadata": {
    "collapsed": false
   }
  },
  {
   "cell_type": "code",
   "execution_count": 47,
   "outputs": [
    {
     "data": {
      "text/plain": "Index(['olim', 'olimtot', 'hamida'], dtype='object')"
     },
     "execution_count": 47,
     "metadata": {},
     "output_type": "execute_result"
    }
   ],
   "source": [
    "newind"
   ],
   "metadata": {
    "collapsed": false
   }
  },
  {
   "cell_type": "code",
   "execution_count": 48,
   "outputs": [
    {
     "data": {
      "text/plain": "Index(['olim', 'olimtot'], dtype='object')"
     },
     "execution_count": 48,
     "metadata": {},
     "output_type": "execute_result"
    }
   ],
   "source": [
    "newind.drop('hamida')"
   ],
   "metadata": {
    "collapsed": false
   }
  },
  {
   "cell_type": "code",
   "execution_count": 50,
   "outputs": [
    {
     "data": {
      "text/plain": "<bound method Index.unique of Index(['nurmuhammad', 'olim', 'maryam', 'muhammad', 'olim'], dtype='object')>"
     },
     "execution_count": 50,
     "metadata": {},
     "output_type": "execute_result"
    }
   ],
   "source": [
    "df2.index.unique"
   ],
   "metadata": {
    "collapsed": false
   }
  },
  {
   "cell_type": "code",
   "execution_count": 51,
   "outputs": [
    {
     "data": {
      "text/plain": "    Yil  Aholi soni  Temp  Zichlik\n0  2021        33.9  1.54    79.77\n1  2020        33.5  1.48    78.87\n2  2019        32.9  1.56    77.53\n3  2018        32.5  1.62    76.54\n4  2017        31.9  1.65    75.22",
      "text/html": "<div>\n<style scoped>\n    .dataframe tbody tr th:only-of-type {\n        vertical-align: middle;\n    }\n\n    .dataframe tbody tr th {\n        vertical-align: top;\n    }\n\n    .dataframe thead th {\n        text-align: right;\n    }\n</style>\n<table border=\"1\" class=\"dataframe\">\n  <thead>\n    <tr style=\"text-align: right;\">\n      <th></th>\n      <th>Yil</th>\n      <th>Aholi soni</th>\n      <th>Temp</th>\n      <th>Zichlik</th>\n    </tr>\n  </thead>\n  <tbody>\n    <tr>\n      <th>0</th>\n      <td>2021</td>\n      <td>33.9</td>\n      <td>1.54</td>\n      <td>79.77</td>\n    </tr>\n    <tr>\n      <th>1</th>\n      <td>2020</td>\n      <td>33.5</td>\n      <td>1.48</td>\n      <td>78.87</td>\n    </tr>\n    <tr>\n      <th>2</th>\n      <td>2019</td>\n      <td>32.9</td>\n      <td>1.56</td>\n      <td>77.53</td>\n    </tr>\n    <tr>\n      <th>3</th>\n      <td>2018</td>\n      <td>32.5</td>\n      <td>1.62</td>\n      <td>76.54</td>\n    </tr>\n    <tr>\n      <th>4</th>\n      <td>2017</td>\n      <td>31.9</td>\n      <td>1.65</td>\n      <td>75.22</td>\n    </tr>\n  </tbody>\n</table>\n</div>"
     },
     "execution_count": 51,
     "metadata": {},
     "output_type": "execute_result"
    }
   ],
   "source": [
    "data = {\n",
    "    'Yil': [2021, 2020, 2019, 2018, 2017],\n",
    "    'Aholi soni': [33.9, 33.5, 32.9, 32.5, 31.9],\n",
    "    'Temp': [1.54, 1.48, 1.56, 1.62, 1.65],\n",
    "    'Zichlik':[79.77, 78.87, 77.53, 76.54, 75.22]\n",
    "}\n",
    "df = pd.DataFrame(data)\n",
    "df"
   ],
   "metadata": {
    "collapsed": false
   }
  },
  {
   "cell_type": "code",
   "execution_count": 52,
   "outputs": [],
   "source": [
    "df.index = [21,20,19,18,17]"
   ],
   "metadata": {
    "collapsed": false
   }
  },
  {
   "cell_type": "code",
   "execution_count": 53,
   "outputs": [
    {
     "data": {
      "text/plain": "     Yil  Aholi soni  Temp  Zichlik\n21  2021        33.9  1.54    79.77\n20  2020        33.5  1.48    78.87\n19  2019        32.9  1.56    77.53\n18  2018        32.5  1.62    76.54\n17  2017        31.9  1.65    75.22",
      "text/html": "<div>\n<style scoped>\n    .dataframe tbody tr th:only-of-type {\n        vertical-align: middle;\n    }\n\n    .dataframe tbody tr th {\n        vertical-align: top;\n    }\n\n    .dataframe thead th {\n        text-align: right;\n    }\n</style>\n<table border=\"1\" class=\"dataframe\">\n  <thead>\n    <tr style=\"text-align: right;\">\n      <th></th>\n      <th>Yil</th>\n      <th>Aholi soni</th>\n      <th>Temp</th>\n      <th>Zichlik</th>\n    </tr>\n  </thead>\n  <tbody>\n    <tr>\n      <th>21</th>\n      <td>2021</td>\n      <td>33.9</td>\n      <td>1.54</td>\n      <td>79.77</td>\n    </tr>\n    <tr>\n      <th>20</th>\n      <td>2020</td>\n      <td>33.5</td>\n      <td>1.48</td>\n      <td>78.87</td>\n    </tr>\n    <tr>\n      <th>19</th>\n      <td>2019</td>\n      <td>32.9</td>\n      <td>1.56</td>\n      <td>77.53</td>\n    </tr>\n    <tr>\n      <th>18</th>\n      <td>2018</td>\n      <td>32.5</td>\n      <td>1.62</td>\n      <td>76.54</td>\n    </tr>\n    <tr>\n      <th>17</th>\n      <td>2017</td>\n      <td>31.9</td>\n      <td>1.65</td>\n      <td>75.22</td>\n    </tr>\n  </tbody>\n</table>\n</div>"
     },
     "execution_count": 53,
     "metadata": {},
     "output_type": "execute_result"
    }
   ],
   "source": [
    "df"
   ],
   "metadata": {
    "collapsed": false
   }
  },
  {
   "cell_type": "code",
   "execution_count": 54,
   "outputs": [],
   "source": [
    "# Reindex"
   ],
   "metadata": {
    "collapsed": false
   }
  },
  {
   "cell_type": "code",
   "execution_count": 55,
   "outputs": [],
   "source": [
    "ind = [21,20,19,18,17]"
   ],
   "metadata": {
    "collapsed": false
   }
  },
  {
   "cell_type": "code",
   "execution_count": 56,
   "outputs": [],
   "source": [
    "ind.sort()"
   ],
   "metadata": {
    "collapsed": false
   }
  },
  {
   "cell_type": "code",
   "execution_count": 57,
   "outputs": [
    {
     "data": {
      "text/plain": "[17, 18, 19, 20, 21]"
     },
     "execution_count": 57,
     "metadata": {},
     "output_type": "execute_result"
    }
   ],
   "source": [
    "ind"
   ],
   "metadata": {
    "collapsed": false
   }
  },
  {
   "cell_type": "code",
   "execution_count": 58,
   "outputs": [
    {
     "data": {
      "text/plain": "     Yil  Aholi soni  Temp  Zichlik\n17  2017        31.9  1.65    75.22\n18  2018        32.5  1.62    76.54\n19  2019        32.9  1.56    77.53\n20  2020        33.5  1.48    78.87\n21  2021        33.9  1.54    79.77",
      "text/html": "<div>\n<style scoped>\n    .dataframe tbody tr th:only-of-type {\n        vertical-align: middle;\n    }\n\n    .dataframe tbody tr th {\n        vertical-align: top;\n    }\n\n    .dataframe thead th {\n        text-align: right;\n    }\n</style>\n<table border=\"1\" class=\"dataframe\">\n  <thead>\n    <tr style=\"text-align: right;\">\n      <th></th>\n      <th>Yil</th>\n      <th>Aholi soni</th>\n      <th>Temp</th>\n      <th>Zichlik</th>\n    </tr>\n  </thead>\n  <tbody>\n    <tr>\n      <th>17</th>\n      <td>2017</td>\n      <td>31.9</td>\n      <td>1.65</td>\n      <td>75.22</td>\n    </tr>\n    <tr>\n      <th>18</th>\n      <td>2018</td>\n      <td>32.5</td>\n      <td>1.62</td>\n      <td>76.54</td>\n    </tr>\n    <tr>\n      <th>19</th>\n      <td>2019</td>\n      <td>32.9</td>\n      <td>1.56</td>\n      <td>77.53</td>\n    </tr>\n    <tr>\n      <th>20</th>\n      <td>2020</td>\n      <td>33.5</td>\n      <td>1.48</td>\n      <td>78.87</td>\n    </tr>\n    <tr>\n      <th>21</th>\n      <td>2021</td>\n      <td>33.9</td>\n      <td>1.54</td>\n      <td>79.77</td>\n    </tr>\n  </tbody>\n</table>\n</div>"
     },
     "execution_count": 58,
     "metadata": {},
     "output_type": "execute_result"
    }
   ],
   "source": [
    "df.reindex(ind)"
   ],
   "metadata": {
    "collapsed": false
   }
  },
  {
   "cell_type": "code",
   "execution_count": 59,
   "outputs": [
    {
     "data": {
      "text/plain": "     Yil  Aholi soni  Temp  Zichlik\n17  2017        31.9  1.65    75.22\n18  2018        32.5  1.62    76.54\n19  2019        32.9  1.56    77.53\n20  2020        33.5  1.48    78.87\n21  2021        33.9  1.54    79.77",
      "text/html": "<div>\n<style scoped>\n    .dataframe tbody tr th:only-of-type {\n        vertical-align: middle;\n    }\n\n    .dataframe tbody tr th {\n        vertical-align: top;\n    }\n\n    .dataframe thead th {\n        text-align: right;\n    }\n</style>\n<table border=\"1\" class=\"dataframe\">\n  <thead>\n    <tr style=\"text-align: right;\">\n      <th></th>\n      <th>Yil</th>\n      <th>Aholi soni</th>\n      <th>Temp</th>\n      <th>Zichlik</th>\n    </tr>\n  </thead>\n  <tbody>\n    <tr>\n      <th>17</th>\n      <td>2017</td>\n      <td>31.9</td>\n      <td>1.65</td>\n      <td>75.22</td>\n    </tr>\n    <tr>\n      <th>18</th>\n      <td>2018</td>\n      <td>32.5</td>\n      <td>1.62</td>\n      <td>76.54</td>\n    </tr>\n    <tr>\n      <th>19</th>\n      <td>2019</td>\n      <td>32.9</td>\n      <td>1.56</td>\n      <td>77.53</td>\n    </tr>\n    <tr>\n      <th>20</th>\n      <td>2020</td>\n      <td>33.5</td>\n      <td>1.48</td>\n      <td>78.87</td>\n    </tr>\n    <tr>\n      <th>21</th>\n      <td>2021</td>\n      <td>33.9</td>\n      <td>1.54</td>\n      <td>79.77</td>\n    </tr>\n  </tbody>\n</table>\n</div>"
     },
     "execution_count": 59,
     "metadata": {},
     "output_type": "execute_result"
    }
   ],
   "source": [
    "df.reindex(ind)"
   ],
   "metadata": {
    "collapsed": false
   }
  },
  {
   "cell_type": "code",
   "execution_count": 60,
   "outputs": [
    {
     "data": {
      "text/plain": "     Yil  Aholi soni  Temp  Zichlik\n21  2021        33.9  1.54    79.77\n20  2020        33.5  1.48    78.87\n19  2019        32.9  1.56    77.53\n18  2018        32.5  1.62    76.54\n17  2017        31.9  1.65    75.22",
      "text/html": "<div>\n<style scoped>\n    .dataframe tbody tr th:only-of-type {\n        vertical-align: middle;\n    }\n\n    .dataframe tbody tr th {\n        vertical-align: top;\n    }\n\n    .dataframe thead th {\n        text-align: right;\n    }\n</style>\n<table border=\"1\" class=\"dataframe\">\n  <thead>\n    <tr style=\"text-align: right;\">\n      <th></th>\n      <th>Yil</th>\n      <th>Aholi soni</th>\n      <th>Temp</th>\n      <th>Zichlik</th>\n    </tr>\n  </thead>\n  <tbody>\n    <tr>\n      <th>21</th>\n      <td>2021</td>\n      <td>33.9</td>\n      <td>1.54</td>\n      <td>79.77</td>\n    </tr>\n    <tr>\n      <th>20</th>\n      <td>2020</td>\n      <td>33.5</td>\n      <td>1.48</td>\n      <td>78.87</td>\n    </tr>\n    <tr>\n      <th>19</th>\n      <td>2019</td>\n      <td>32.9</td>\n      <td>1.56</td>\n      <td>77.53</td>\n    </tr>\n    <tr>\n      <th>18</th>\n      <td>2018</td>\n      <td>32.5</td>\n      <td>1.62</td>\n      <td>76.54</td>\n    </tr>\n    <tr>\n      <th>17</th>\n      <td>2017</td>\n      <td>31.9</td>\n      <td>1.65</td>\n      <td>75.22</td>\n    </tr>\n  </tbody>\n</table>\n</div>"
     },
     "execution_count": 60,
     "metadata": {},
     "output_type": "execute_result"
    }
   ],
   "source": [
    "df"
   ],
   "metadata": {
    "collapsed": false
   }
  },
  {
   "cell_type": "code",
   "execution_count": 64,
   "outputs": [
    {
     "data": {
      "text/plain": "     Yil  Aholi soni  Temp  Zichlik\n10  2017        31.9  1.65    75.22\n11  2017        31.9  1.65    75.22\n12  2017        31.9  1.65    75.22\n13  2017        31.9  1.65    75.22\n14  2017        31.9  1.65    75.22\n15  2017        31.9  1.65    75.22\n16  2017        31.9  1.65    75.22\n17  2017        31.9  1.65    75.22\n18  2018        32.5  1.62    76.54\n19  2019        32.9  1.56    77.53\n20  2020        33.5  1.48    78.87\n21  2021        33.9  1.54    79.77",
      "text/html": "<div>\n<style scoped>\n    .dataframe tbody tr th:only-of-type {\n        vertical-align: middle;\n    }\n\n    .dataframe tbody tr th {\n        vertical-align: top;\n    }\n\n    .dataframe thead th {\n        text-align: right;\n    }\n</style>\n<table border=\"1\" class=\"dataframe\">\n  <thead>\n    <tr style=\"text-align: right;\">\n      <th></th>\n      <th>Yil</th>\n      <th>Aholi soni</th>\n      <th>Temp</th>\n      <th>Zichlik</th>\n    </tr>\n  </thead>\n  <tbody>\n    <tr>\n      <th>10</th>\n      <td>2017</td>\n      <td>31.9</td>\n      <td>1.65</td>\n      <td>75.22</td>\n    </tr>\n    <tr>\n      <th>11</th>\n      <td>2017</td>\n      <td>31.9</td>\n      <td>1.65</td>\n      <td>75.22</td>\n    </tr>\n    <tr>\n      <th>12</th>\n      <td>2017</td>\n      <td>31.9</td>\n      <td>1.65</td>\n      <td>75.22</td>\n    </tr>\n    <tr>\n      <th>13</th>\n      <td>2017</td>\n      <td>31.9</td>\n      <td>1.65</td>\n      <td>75.22</td>\n    </tr>\n    <tr>\n      <th>14</th>\n      <td>2017</td>\n      <td>31.9</td>\n      <td>1.65</td>\n      <td>75.22</td>\n    </tr>\n    <tr>\n      <th>15</th>\n      <td>2017</td>\n      <td>31.9</td>\n      <td>1.65</td>\n      <td>75.22</td>\n    </tr>\n    <tr>\n      <th>16</th>\n      <td>2017</td>\n      <td>31.9</td>\n      <td>1.65</td>\n      <td>75.22</td>\n    </tr>\n    <tr>\n      <th>17</th>\n      <td>2017</td>\n      <td>31.9</td>\n      <td>1.65</td>\n      <td>75.22</td>\n    </tr>\n    <tr>\n      <th>18</th>\n      <td>2018</td>\n      <td>32.5</td>\n      <td>1.62</td>\n      <td>76.54</td>\n    </tr>\n    <tr>\n      <th>19</th>\n      <td>2019</td>\n      <td>32.9</td>\n      <td>1.56</td>\n      <td>77.53</td>\n    </tr>\n    <tr>\n      <th>20</th>\n      <td>2020</td>\n      <td>33.5</td>\n      <td>1.48</td>\n      <td>78.87</td>\n    </tr>\n    <tr>\n      <th>21</th>\n      <td>2021</td>\n      <td>33.9</td>\n      <td>1.54</td>\n      <td>79.77</td>\n    </tr>\n  </tbody>\n</table>\n</div>"
     },
     "execution_count": 64,
     "metadata": {},
     "output_type": "execute_result"
    }
   ],
   "source": [
    "df.reindex(index=range(10,22), method='ffill')"
   ],
   "metadata": {
    "collapsed": false
   }
  },
  {
   "cell_type": "code",
   "execution_count": 65,
   "outputs": [
    {
     "data": {
      "text/plain": "     Yil  Aholi soni  Temp  Zichlik\n21  2021        33.9  1.54    79.77\n20  2020        33.5  1.48    78.87\n19  2019        32.9  1.56    77.53\n18  2018        32.5  1.62    76.54\n17  2017        31.9  1.65    75.22",
      "text/html": "<div>\n<style scoped>\n    .dataframe tbody tr th:only-of-type {\n        vertical-align: middle;\n    }\n\n    .dataframe tbody tr th {\n        vertical-align: top;\n    }\n\n    .dataframe thead th {\n        text-align: right;\n    }\n</style>\n<table border=\"1\" class=\"dataframe\">\n  <thead>\n    <tr style=\"text-align: right;\">\n      <th></th>\n      <th>Yil</th>\n      <th>Aholi soni</th>\n      <th>Temp</th>\n      <th>Zichlik</th>\n    </tr>\n  </thead>\n  <tbody>\n    <tr>\n      <th>21</th>\n      <td>2021</td>\n      <td>33.9</td>\n      <td>1.54</td>\n      <td>79.77</td>\n    </tr>\n    <tr>\n      <th>20</th>\n      <td>2020</td>\n      <td>33.5</td>\n      <td>1.48</td>\n      <td>78.87</td>\n    </tr>\n    <tr>\n      <th>19</th>\n      <td>2019</td>\n      <td>32.9</td>\n      <td>1.56</td>\n      <td>77.53</td>\n    </tr>\n    <tr>\n      <th>18</th>\n      <td>2018</td>\n      <td>32.5</td>\n      <td>1.62</td>\n      <td>76.54</td>\n    </tr>\n    <tr>\n      <th>17</th>\n      <td>2017</td>\n      <td>31.9</td>\n      <td>1.65</td>\n      <td>75.22</td>\n    </tr>\n  </tbody>\n</table>\n</div>"
     },
     "execution_count": 65,
     "metadata": {},
     "output_type": "execute_result"
    }
   ],
   "source": [
    "df"
   ],
   "metadata": {
    "collapsed": false
   }
  },
  {
   "cell_type": "code",
   "execution_count": 68,
   "outputs": [],
   "source": [
    "df2 = df.reindex(columns=['Aholi soni', 'Temp',\n",
    "                                  'Zichlik'])"
   ],
   "metadata": {
    "collapsed": false
   }
  },
  {
   "cell_type": "code",
   "execution_count": 69,
   "outputs": [
    {
     "data": {
      "text/plain": "    Aholi soni  Temp  Zichlik\n21        33.9  1.54    79.77\n20        33.5  1.48    78.87\n19        32.9  1.56    77.53\n18        32.5  1.62    76.54\n17        31.9  1.65    75.22",
      "text/html": "<div>\n<style scoped>\n    .dataframe tbody tr th:only-of-type {\n        vertical-align: middle;\n    }\n\n    .dataframe tbody tr th {\n        vertical-align: top;\n    }\n\n    .dataframe thead th {\n        text-align: right;\n    }\n</style>\n<table border=\"1\" class=\"dataframe\">\n  <thead>\n    <tr style=\"text-align: right;\">\n      <th></th>\n      <th>Aholi soni</th>\n      <th>Temp</th>\n      <th>Zichlik</th>\n    </tr>\n  </thead>\n  <tbody>\n    <tr>\n      <th>21</th>\n      <td>33.9</td>\n      <td>1.54</td>\n      <td>79.77</td>\n    </tr>\n    <tr>\n      <th>20</th>\n      <td>33.5</td>\n      <td>1.48</td>\n      <td>78.87</td>\n    </tr>\n    <tr>\n      <th>19</th>\n      <td>32.9</td>\n      <td>1.56</td>\n      <td>77.53</td>\n    </tr>\n    <tr>\n      <th>18</th>\n      <td>32.5</td>\n      <td>1.62</td>\n      <td>76.54</td>\n    </tr>\n    <tr>\n      <th>17</th>\n      <td>31.9</td>\n      <td>1.65</td>\n      <td>75.22</td>\n    </tr>\n  </tbody>\n</table>\n</div>"
     },
     "execution_count": 69,
     "metadata": {},
     "output_type": "execute_result"
    }
   ],
   "source": [
    "df2"
   ],
   "metadata": {
    "collapsed": false
   }
  },
  {
   "cell_type": "code",
   "execution_count": 70,
   "outputs": [
    {
     "data": {
      "text/plain": "    Aholi soni  Temp  Zichlik\n20        33.5  1.48    78.87",
      "text/html": "<div>\n<style scoped>\n    .dataframe tbody tr th:only-of-type {\n        vertical-align: middle;\n    }\n\n    .dataframe tbody tr th {\n        vertical-align: top;\n    }\n\n    .dataframe thead th {\n        text-align: right;\n    }\n</style>\n<table border=\"1\" class=\"dataframe\">\n  <thead>\n    <tr style=\"text-align: right;\">\n      <th></th>\n      <th>Aholi soni</th>\n      <th>Temp</th>\n      <th>Zichlik</th>\n    </tr>\n  </thead>\n  <tbody>\n    <tr>\n      <th>20</th>\n      <td>33.5</td>\n      <td>1.48</td>\n      <td>78.87</td>\n    </tr>\n  </tbody>\n</table>\n</div>"
     },
     "execution_count": 70,
     "metadata": {},
     "output_type": "execute_result"
    }
   ],
   "source": [
    "df2.sample()"
   ],
   "metadata": {
    "collapsed": false
   }
  },
  {
   "cell_type": "code",
   "execution_count": 72,
   "outputs": [
    {
     "data": {
      "text/plain": "    Aholi soni  Zichlik  Temp\n20        33.5    78.87  1.48\n19        32.9    77.53  1.56\n18        32.5    76.54  1.62",
      "text/html": "<div>\n<style scoped>\n    .dataframe tbody tr th:only-of-type {\n        vertical-align: middle;\n    }\n\n    .dataframe tbody tr th {\n        vertical-align: top;\n    }\n\n    .dataframe thead th {\n        text-align: right;\n    }\n</style>\n<table border=\"1\" class=\"dataframe\">\n  <thead>\n    <tr style=\"text-align: right;\">\n      <th></th>\n      <th>Aholi soni</th>\n      <th>Zichlik</th>\n      <th>Temp</th>\n    </tr>\n  </thead>\n  <tbody>\n    <tr>\n      <th>20</th>\n      <td>33.5</td>\n      <td>78.87</td>\n      <td>1.48</td>\n    </tr>\n    <tr>\n      <th>19</th>\n      <td>32.9</td>\n      <td>77.53</td>\n      <td>1.56</td>\n    </tr>\n    <tr>\n      <th>18</th>\n      <td>32.5</td>\n      <td>76.54</td>\n      <td>1.62</td>\n    </tr>\n  </tbody>\n</table>\n</div>"
     },
     "execution_count": 72,
     "metadata": {},
     "output_type": "execute_result"
    }
   ],
   "source": [
    "df.loc[[20, 19, 18], ['Aholi soni', 'Zichlik', 'Temp']]"
   ],
   "metadata": {
    "collapsed": false
   }
  },
  {
   "cell_type": "code",
   "execution_count": 73,
   "outputs": [
    {
     "data": {
      "text/plain": "     Yil  Aholi soni  Temp  Zichlik\n21  2021        33.9  1.54    79.77\n20  2020        33.5  1.48    78.87\n19  2019        32.9  1.56    77.53\n17  2017        31.9  1.65    75.22",
      "text/html": "<div>\n<style scoped>\n    .dataframe tbody tr th:only-of-type {\n        vertical-align: middle;\n    }\n\n    .dataframe tbody tr th {\n        vertical-align: top;\n    }\n\n    .dataframe thead th {\n        text-align: right;\n    }\n</style>\n<table border=\"1\" class=\"dataframe\">\n  <thead>\n    <tr style=\"text-align: right;\">\n      <th></th>\n      <th>Yil</th>\n      <th>Aholi soni</th>\n      <th>Temp</th>\n      <th>Zichlik</th>\n    </tr>\n  </thead>\n  <tbody>\n    <tr>\n      <th>21</th>\n      <td>2021</td>\n      <td>33.9</td>\n      <td>1.54</td>\n      <td>79.77</td>\n    </tr>\n    <tr>\n      <th>20</th>\n      <td>2020</td>\n      <td>33.5</td>\n      <td>1.48</td>\n      <td>78.87</td>\n    </tr>\n    <tr>\n      <th>19</th>\n      <td>2019</td>\n      <td>32.9</td>\n      <td>1.56</td>\n      <td>77.53</td>\n    </tr>\n    <tr>\n      <th>17</th>\n      <td>2017</td>\n      <td>31.9</td>\n      <td>1.65</td>\n      <td>75.22</td>\n    </tr>\n  </tbody>\n</table>\n</div>"
     },
     "execution_count": 73,
     "metadata": {},
     "output_type": "execute_result"
    }
   ],
   "source": [
    "df.drop(18)"
   ],
   "metadata": {
    "collapsed": false
   }
  },
  {
   "cell_type": "code",
   "execution_count": 76,
   "outputs": [
    {
     "data": {
      "text/plain": "    Aholi soni  Temp  Zichlik\n21        33.9  1.54    79.77\n20        33.5  1.48    78.87\n19        32.9  1.56    77.53\n18        32.5  1.62    76.54\n17        31.9  1.65    75.22",
      "text/html": "<div>\n<style scoped>\n    .dataframe tbody tr th:only-of-type {\n        vertical-align: middle;\n    }\n\n    .dataframe tbody tr th {\n        vertical-align: top;\n    }\n\n    .dataframe thead th {\n        text-align: right;\n    }\n</style>\n<table border=\"1\" class=\"dataframe\">\n  <thead>\n    <tr style=\"text-align: right;\">\n      <th></th>\n      <th>Aholi soni</th>\n      <th>Temp</th>\n      <th>Zichlik</th>\n    </tr>\n  </thead>\n  <tbody>\n    <tr>\n      <th>21</th>\n      <td>33.9</td>\n      <td>1.54</td>\n      <td>79.77</td>\n    </tr>\n    <tr>\n      <th>20</th>\n      <td>33.5</td>\n      <td>1.48</td>\n      <td>78.87</td>\n    </tr>\n    <tr>\n      <th>19</th>\n      <td>32.9</td>\n      <td>1.56</td>\n      <td>77.53</td>\n    </tr>\n    <tr>\n      <th>18</th>\n      <td>32.5</td>\n      <td>1.62</td>\n      <td>76.54</td>\n    </tr>\n    <tr>\n      <th>17</th>\n      <td>31.9</td>\n      <td>1.65</td>\n      <td>75.22</td>\n    </tr>\n  </tbody>\n</table>\n</div>"
     },
     "execution_count": 76,
     "metadata": {},
     "output_type": "execute_result"
    }
   ],
   "source": [
    "df.drop('Yil', axis='columns')"
   ],
   "metadata": {
    "collapsed": false
   }
  },
  {
   "cell_type": "code",
   "execution_count": 77,
   "outputs": [],
   "source": [
    "df_new = df.drop('Yil', axis='columns')"
   ],
   "metadata": {
    "collapsed": false
   }
  },
  {
   "cell_type": "code",
   "execution_count": 78,
   "outputs": [
    {
     "data": {
      "text/plain": "     Yil  Aholi soni  Temp  Zichlik\n21  2021        33.9  1.54    79.77\n20  2020        33.5  1.48    78.87\n19  2019        32.9  1.56    77.53\n18  2018        32.5  1.62    76.54\n17  2017        31.9  1.65    75.22",
      "text/html": "<div>\n<style scoped>\n    .dataframe tbody tr th:only-of-type {\n        vertical-align: middle;\n    }\n\n    .dataframe tbody tr th {\n        vertical-align: top;\n    }\n\n    .dataframe thead th {\n        text-align: right;\n    }\n</style>\n<table border=\"1\" class=\"dataframe\">\n  <thead>\n    <tr style=\"text-align: right;\">\n      <th></th>\n      <th>Yil</th>\n      <th>Aholi soni</th>\n      <th>Temp</th>\n      <th>Zichlik</th>\n    </tr>\n  </thead>\n  <tbody>\n    <tr>\n      <th>21</th>\n      <td>2021</td>\n      <td>33.9</td>\n      <td>1.54</td>\n      <td>79.77</td>\n    </tr>\n    <tr>\n      <th>20</th>\n      <td>2020</td>\n      <td>33.5</td>\n      <td>1.48</td>\n      <td>78.87</td>\n    </tr>\n    <tr>\n      <th>19</th>\n      <td>2019</td>\n      <td>32.9</td>\n      <td>1.56</td>\n      <td>77.53</td>\n    </tr>\n    <tr>\n      <th>18</th>\n      <td>2018</td>\n      <td>32.5</td>\n      <td>1.62</td>\n      <td>76.54</td>\n    </tr>\n    <tr>\n      <th>17</th>\n      <td>2017</td>\n      <td>31.9</td>\n      <td>1.65</td>\n      <td>75.22</td>\n    </tr>\n  </tbody>\n</table>\n</div>"
     },
     "execution_count": 78,
     "metadata": {},
     "output_type": "execute_result"
    }
   ],
   "source": [
    "df"
   ],
   "metadata": {
    "collapsed": false
   }
  },
  {
   "cell_type": "code",
   "execution_count": 79,
   "outputs": [],
   "source": [
    "df.drop('Yil', axis='columns', inplace=True)"
   ],
   "metadata": {
    "collapsed": false
   }
  },
  {
   "cell_type": "code",
   "execution_count": 80,
   "outputs": [
    {
     "data": {
      "text/plain": "    Aholi soni  Temp  Zichlik\n21        33.9  1.54    79.77\n20        33.5  1.48    78.87\n19        32.9  1.56    77.53\n18        32.5  1.62    76.54\n17        31.9  1.65    75.22",
      "text/html": "<div>\n<style scoped>\n    .dataframe tbody tr th:only-of-type {\n        vertical-align: middle;\n    }\n\n    .dataframe tbody tr th {\n        vertical-align: top;\n    }\n\n    .dataframe thead th {\n        text-align: right;\n    }\n</style>\n<table border=\"1\" class=\"dataframe\">\n  <thead>\n    <tr style=\"text-align: right;\">\n      <th></th>\n      <th>Aholi soni</th>\n      <th>Temp</th>\n      <th>Zichlik</th>\n    </tr>\n  </thead>\n  <tbody>\n    <tr>\n      <th>21</th>\n      <td>33.9</td>\n      <td>1.54</td>\n      <td>79.77</td>\n    </tr>\n    <tr>\n      <th>20</th>\n      <td>33.5</td>\n      <td>1.48</td>\n      <td>78.87</td>\n    </tr>\n    <tr>\n      <th>19</th>\n      <td>32.9</td>\n      <td>1.56</td>\n      <td>77.53</td>\n    </tr>\n    <tr>\n      <th>18</th>\n      <td>32.5</td>\n      <td>1.62</td>\n      <td>76.54</td>\n    </tr>\n    <tr>\n      <th>17</th>\n      <td>31.9</td>\n      <td>1.65</td>\n      <td>75.22</td>\n    </tr>\n  </tbody>\n</table>\n</div>"
     },
     "execution_count": 80,
     "metadata": {},
     "output_type": "execute_result"
    }
   ],
   "source": [
    "df"
   ],
   "metadata": {
    "collapsed": false
   }
  },
  {
   "cell_type": "code",
   "execution_count": null,
   "outputs": [],
   "source": [],
   "metadata": {
    "collapsed": false
   }
  }
 ],
 "metadata": {
  "kernelspec": {
   "display_name": "Python 3",
   "language": "python",
   "name": "python3"
  },
  "language_info": {
   "codemirror_mode": {
    "name": "ipython",
    "version": 2
   },
   "file_extension": ".py",
   "mimetype": "text/x-python",
   "name": "python",
   "nbconvert_exporter": "python",
   "pygments_lexer": "ipython2",
   "version": "2.7.6"
  }
 },
 "nbformat": 4,
 "nbformat_minor": 0
}
