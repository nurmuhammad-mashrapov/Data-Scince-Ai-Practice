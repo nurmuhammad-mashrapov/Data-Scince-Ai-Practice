{
 "cells": [
  {
   "cell_type": "code",
   "execution_count": 6,
   "metadata": {
    "collapsed": true
   },
   "outputs": [],
   "source": [
    "import pandas as pd"
   ]
  },
  {
   "cell_type": "code",
   "execution_count": 26,
   "outputs": [],
   "source": [
    "data = {\n",
    "    'Yil': [2021, 2020, 2019, 2018, 2017],\n",
    "    'Aholi soni': [33.9, 33.5, 32.9, 32.5, 31.9],\n",
    "    'Temp': [1.54, 1.48, 1.56, 1.62, 1.65]\n",
    "}"
   ],
   "metadata": {
    "collapsed": false
   }
  },
  {
   "cell_type": "code",
   "execution_count": 9,
   "outputs": [],
   "source": [
    "df = pd.DataFrame(data)"
   ],
   "metadata": {
    "collapsed": false
   }
  },
  {
   "cell_type": "code",
   "execution_count": 11,
   "outputs": [
    {
     "name": "stdout",
     "output_type": "stream",
     "text": [
      "    Yil  Aholi  Temp\n",
      "0  2021   33.9  1.54\n",
      "1  2020   33.5  1.48\n",
      "2  2019   32.9  1.56\n",
      "3  2018   32.5  1.62\n",
      "4  2017   31.9  1.65\n"
     ]
    }
   ],
   "source": [
    "print(df)"
   ],
   "metadata": {
    "collapsed": false
   }
  },
  {
   "cell_type": "code",
   "execution_count": 12,
   "outputs": [
    {
     "data": {
      "text/plain": "    Yil  Aholi  Temp\n0  2021   33.9  1.54\n1  2020   33.5  1.48\n2  2019   32.9  1.56\n3  2018   32.5  1.62\n4  2017   31.9  1.65",
      "text/html": "<div>\n<style scoped>\n    .dataframe tbody tr th:only-of-type {\n        vertical-align: middle;\n    }\n\n    .dataframe tbody tr th {\n        vertical-align: top;\n    }\n\n    .dataframe thead th {\n        text-align: right;\n    }\n</style>\n<table border=\"1\" class=\"dataframe\">\n  <thead>\n    <tr style=\"text-align: right;\">\n      <th></th>\n      <th>Yil</th>\n      <th>Aholi</th>\n      <th>Temp</th>\n    </tr>\n  </thead>\n  <tbody>\n    <tr>\n      <th>0</th>\n      <td>2021</td>\n      <td>33.9</td>\n      <td>1.54</td>\n    </tr>\n    <tr>\n      <th>1</th>\n      <td>2020</td>\n      <td>33.5</td>\n      <td>1.48</td>\n    </tr>\n    <tr>\n      <th>2</th>\n      <td>2019</td>\n      <td>32.9</td>\n      <td>1.56</td>\n    </tr>\n    <tr>\n      <th>3</th>\n      <td>2018</td>\n      <td>32.5</td>\n      <td>1.62</td>\n    </tr>\n    <tr>\n      <th>4</th>\n      <td>2017</td>\n      <td>31.9</td>\n      <td>1.65</td>\n    </tr>\n  </tbody>\n</table>\n</div>"
     },
     "execution_count": 12,
     "metadata": {},
     "output_type": "execute_result"
    }
   ],
   "source": [
    "df.head() # default 5"
   ],
   "metadata": {
    "collapsed": false
   }
  },
  {
   "cell_type": "code",
   "execution_count": 13,
   "outputs": [
    {
     "data": {
      "text/plain": "(5, 3)"
     },
     "execution_count": 13,
     "metadata": {},
     "output_type": "execute_result"
    }
   ],
   "source": [
    "df.shape"
   ],
   "metadata": {
    "collapsed": false
   }
  },
  {
   "cell_type": "code",
   "execution_count": 28,
   "outputs": [
    {
     "data": {
      "text/plain": "    Yil  Temp  Aholi soni\n0  2021  1.54        33.9\n1  2020  1.48        33.5\n2  2019  1.56        32.9\n3  2018  1.62        32.5\n4  2017  1.65        31.9",
      "text/html": "<div>\n<style scoped>\n    .dataframe tbody tr th:only-of-type {\n        vertical-align: middle;\n    }\n\n    .dataframe tbody tr th {\n        vertical-align: top;\n    }\n\n    .dataframe thead th {\n        text-align: right;\n    }\n</style>\n<table border=\"1\" class=\"dataframe\">\n  <thead>\n    <tr style=\"text-align: right;\">\n      <th></th>\n      <th>Yil</th>\n      <th>Temp</th>\n      <th>Aholi soni</th>\n    </tr>\n  </thead>\n  <tbody>\n    <tr>\n      <th>0</th>\n      <td>2021</td>\n      <td>1.54</td>\n      <td>33.9</td>\n    </tr>\n    <tr>\n      <th>1</th>\n      <td>2020</td>\n      <td>1.48</td>\n      <td>33.5</td>\n    </tr>\n    <tr>\n      <th>2</th>\n      <td>2019</td>\n      <td>1.56</td>\n      <td>32.9</td>\n    </tr>\n    <tr>\n      <th>3</th>\n      <td>2018</td>\n      <td>1.62</td>\n      <td>32.5</td>\n    </tr>\n    <tr>\n      <th>4</th>\n      <td>2017</td>\n      <td>1.65</td>\n      <td>31.9</td>\n    </tr>\n  </tbody>\n</table>\n</div>"
     },
     "execution_count": 28,
     "metadata": {},
     "output_type": "execute_result"
    }
   ],
   "source": [
    "df = pd.DataFrame(data, columns=['Yil', 'Temp', 'Aholi soni'])\n",
    "df"
   ],
   "metadata": {
    "collapsed": false
   }
  },
  {
   "cell_type": "code",
   "execution_count": 30,
   "outputs": [],
   "source": [
    "df = pd.DataFrame(data, columns=['Yil', 'Temp', 'Aholi soni'], index = ['a', 'b', 'c', 'd', 'e'])"
   ],
   "metadata": {
    "collapsed": false
   }
  },
  {
   "cell_type": "markdown",
   "source": [],
   "metadata": {
    "collapsed": false
   }
  },
  {
   "cell_type": "code",
   "execution_count": 31,
   "outputs": [
    {
     "data": {
      "text/plain": "    Yil  Temp  Aholi soni\na  2021  1.54        33.9\nb  2020  1.48        33.5\nc  2019  1.56        32.9\nd  2018  1.62        32.5\ne  2017  1.65        31.9",
      "text/html": "<div>\n<style scoped>\n    .dataframe tbody tr th:only-of-type {\n        vertical-align: middle;\n    }\n\n    .dataframe tbody tr th {\n        vertical-align: top;\n    }\n\n    .dataframe thead th {\n        text-align: right;\n    }\n</style>\n<table border=\"1\" class=\"dataframe\">\n  <thead>\n    <tr style=\"text-align: right;\">\n      <th></th>\n      <th>Yil</th>\n      <th>Temp</th>\n      <th>Aholi soni</th>\n    </tr>\n  </thead>\n  <tbody>\n    <tr>\n      <th>a</th>\n      <td>2021</td>\n      <td>1.54</td>\n      <td>33.9</td>\n    </tr>\n    <tr>\n      <th>b</th>\n      <td>2020</td>\n      <td>1.48</td>\n      <td>33.5</td>\n    </tr>\n    <tr>\n      <th>c</th>\n      <td>2019</td>\n      <td>1.56</td>\n      <td>32.9</td>\n    </tr>\n    <tr>\n      <th>d</th>\n      <td>2018</td>\n      <td>1.62</td>\n      <td>32.5</td>\n    </tr>\n    <tr>\n      <th>e</th>\n      <td>2017</td>\n      <td>1.65</td>\n      <td>31.9</td>\n    </tr>\n  </tbody>\n</table>\n</div>"
     },
     "execution_count": 31,
     "metadata": {},
     "output_type": "execute_result"
    }
   ],
   "source": [
    "df"
   ],
   "metadata": {
    "collapsed": false
   }
  },
  {
   "cell_type": "code",
   "execution_count": 32,
   "outputs": [
    {
     "data": {
      "text/plain": "[33.9, 33.5, 32.9, 32.5, 31.9]"
     },
     "execution_count": 32,
     "metadata": {},
     "output_type": "execute_result"
    }
   ],
   "source": [
    " data['Aholi soni']"
   ],
   "metadata": {
    "collapsed": false
   }
  },
  {
   "cell_type": "code",
   "execution_count": 33,
   "outputs": [],
   "source": [
    "aholi = df['Aholi soni']"
   ],
   "metadata": {
    "collapsed": false
   }
  },
  {
   "cell_type": "code",
   "execution_count": 34,
   "outputs": [
    {
     "data": {
      "text/plain": "a    33.9\nb    33.5\nc    32.9\nd    32.5\ne    31.9\nName: Aholi soni, dtype: float64"
     },
     "execution_count": 34,
     "metadata": {},
     "output_type": "execute_result"
    }
   ],
   "source": [
    "aholi"
   ],
   "metadata": {
    "collapsed": false
   }
  },
  {
   "cell_type": "code",
   "execution_count": 36,
   "outputs": [
    {
     "data": {
      "text/plain": "pandas.core.series.Series"
     },
     "execution_count": 36,
     "metadata": {},
     "output_type": "execute_result"
    }
   ],
   "source": [
    "type(aholi)"
   ],
   "metadata": {
    "collapsed": false
   }
  },
  {
   "cell_type": "code",
   "execution_count": 37,
   "outputs": [
    {
     "data": {
      "text/plain": "a    1.54\nb    1.48\nc    1.56\nd    1.62\ne    1.65\nName: Temp, dtype: float64"
     },
     "execution_count": 37,
     "metadata": {},
     "output_type": "execute_result"
    }
   ],
   "source": [
    "df.Temp"
   ],
   "metadata": {
    "collapsed": false
   }
  },
  {
   "cell_type": "code",
   "execution_count": 38,
   "outputs": [],
   "source": [
    "df = pd.DataFrame(data, columns=['Yil', 'Temp', 'Aholi soni', 'Yim'], index = ['a', 'b', 'c', 'd', 'e'])"
   ],
   "metadata": {
    "collapsed": false
   }
  },
  {
   "cell_type": "code",
   "execution_count": 39,
   "outputs": [
    {
     "data": {
      "text/plain": "    Yil  Temp  Aholi soni  Yim\na  2021  1.54        33.9  NaN\nb  2020  1.48        33.5  NaN\nc  2019  1.56        32.9  NaN\nd  2018  1.62        32.5  NaN\ne  2017  1.65        31.9  NaN",
      "text/html": "<div>\n<style scoped>\n    .dataframe tbody tr th:only-of-type {\n        vertical-align: middle;\n    }\n\n    .dataframe tbody tr th {\n        vertical-align: top;\n    }\n\n    .dataframe thead th {\n        text-align: right;\n    }\n</style>\n<table border=\"1\" class=\"dataframe\">\n  <thead>\n    <tr style=\"text-align: right;\">\n      <th></th>\n      <th>Yil</th>\n      <th>Temp</th>\n      <th>Aholi soni</th>\n      <th>Yim</th>\n    </tr>\n  </thead>\n  <tbody>\n    <tr>\n      <th>a</th>\n      <td>2021</td>\n      <td>1.54</td>\n      <td>33.9</td>\n      <td>NaN</td>\n    </tr>\n    <tr>\n      <th>b</th>\n      <td>2020</td>\n      <td>1.48</td>\n      <td>33.5</td>\n      <td>NaN</td>\n    </tr>\n    <tr>\n      <th>c</th>\n      <td>2019</td>\n      <td>1.56</td>\n      <td>32.9</td>\n      <td>NaN</td>\n    </tr>\n    <tr>\n      <th>d</th>\n      <td>2018</td>\n      <td>1.62</td>\n      <td>32.5</td>\n      <td>NaN</td>\n    </tr>\n    <tr>\n      <th>e</th>\n      <td>2017</td>\n      <td>1.65</td>\n      <td>31.9</td>\n      <td>NaN</td>\n    </tr>\n  </tbody>\n</table>\n</div>"
     },
     "execution_count": 39,
     "metadata": {},
     "output_type": "execute_result"
    }
   ],
   "source": [
    "df"
   ],
   "metadata": {
    "collapsed": false
   }
  },
  {
   "cell_type": "code",
   "execution_count": 40,
   "outputs": [],
   "source": [
    "df.Yim =0"
   ],
   "metadata": {
    "collapsed": false
   }
  },
  {
   "cell_type": "code",
   "execution_count": 41,
   "outputs": [
    {
     "data": {
      "text/plain": "    Yil  Temp  Aholi soni  Yim\na  2021  1.54        33.9    0\nb  2020  1.48        33.5    0\nc  2019  1.56        32.9    0\nd  2018  1.62        32.5    0\ne  2017  1.65        31.9    0",
      "text/html": "<div>\n<style scoped>\n    .dataframe tbody tr th:only-of-type {\n        vertical-align: middle;\n    }\n\n    .dataframe tbody tr th {\n        vertical-align: top;\n    }\n\n    .dataframe thead th {\n        text-align: right;\n    }\n</style>\n<table border=\"1\" class=\"dataframe\">\n  <thead>\n    <tr style=\"text-align: right;\">\n      <th></th>\n      <th>Yil</th>\n      <th>Temp</th>\n      <th>Aholi soni</th>\n      <th>Yim</th>\n    </tr>\n  </thead>\n  <tbody>\n    <tr>\n      <th>a</th>\n      <td>2021</td>\n      <td>1.54</td>\n      <td>33.9</td>\n      <td>0</td>\n    </tr>\n    <tr>\n      <th>b</th>\n      <td>2020</td>\n      <td>1.48</td>\n      <td>33.5</td>\n      <td>0</td>\n    </tr>\n    <tr>\n      <th>c</th>\n      <td>2019</td>\n      <td>1.56</td>\n      <td>32.9</td>\n      <td>0</td>\n    </tr>\n    <tr>\n      <th>d</th>\n      <td>2018</td>\n      <td>1.62</td>\n      <td>32.5</td>\n      <td>0</td>\n    </tr>\n    <tr>\n      <th>e</th>\n      <td>2017</td>\n      <td>1.65</td>\n      <td>31.9</td>\n      <td>0</td>\n    </tr>\n  </tbody>\n</table>\n</div>"
     },
     "execution_count": 41,
     "metadata": {},
     "output_type": "execute_result"
    }
   ],
   "source": [
    "df"
   ],
   "metadata": {
    "collapsed": false
   }
  },
  {
   "cell_type": "code",
   "execution_count": 42,
   "outputs": [],
   "source": [
    "val = pd.Series([1700, 1650, 1300], index=['a', 'b', 'd'])\n",
    "df.Yim = val\n"
   ],
   "metadata": {
    "collapsed": false
   }
  },
  {
   "cell_type": "code",
   "execution_count": 43,
   "outputs": [
    {
     "data": {
      "text/plain": "    Yil  Temp  Aholi soni     Yim\na  2021  1.54        33.9  1700.0\nb  2020  1.48        33.5  1650.0\nc  2019  1.56        32.9     NaN\nd  2018  1.62        32.5  1300.0\ne  2017  1.65        31.9     NaN",
      "text/html": "<div>\n<style scoped>\n    .dataframe tbody tr th:only-of-type {\n        vertical-align: middle;\n    }\n\n    .dataframe tbody tr th {\n        vertical-align: top;\n    }\n\n    .dataframe thead th {\n        text-align: right;\n    }\n</style>\n<table border=\"1\" class=\"dataframe\">\n  <thead>\n    <tr style=\"text-align: right;\">\n      <th></th>\n      <th>Yil</th>\n      <th>Temp</th>\n      <th>Aholi soni</th>\n      <th>Yim</th>\n    </tr>\n  </thead>\n  <tbody>\n    <tr>\n      <th>a</th>\n      <td>2021</td>\n      <td>1.54</td>\n      <td>33.9</td>\n      <td>1700.0</td>\n    </tr>\n    <tr>\n      <th>b</th>\n      <td>2020</td>\n      <td>1.48</td>\n      <td>33.5</td>\n      <td>1650.0</td>\n    </tr>\n    <tr>\n      <th>c</th>\n      <td>2019</td>\n      <td>1.56</td>\n      <td>32.9</td>\n      <td>NaN</td>\n    </tr>\n    <tr>\n      <th>d</th>\n      <td>2018</td>\n      <td>1.62</td>\n      <td>32.5</td>\n      <td>1300.0</td>\n    </tr>\n    <tr>\n      <th>e</th>\n      <td>2017</td>\n      <td>1.65</td>\n      <td>31.9</td>\n      <td>NaN</td>\n    </tr>\n  </tbody>\n</table>\n</div>"
     },
     "execution_count": 43,
     "metadata": {},
     "output_type": "execute_result"
    }
   ],
   "source": [
    "df"
   ],
   "metadata": {
    "collapsed": false
   }
  },
  {
   "cell_type": "code",
   "execution_count": 48,
   "outputs": [],
   "source": [
    "val = [1,2,3,4,5]\n",
    "df.Yim = val"
   ],
   "metadata": {
    "collapsed": false
   }
  },
  {
   "cell_type": "markdown",
   "source": [],
   "metadata": {
    "collapsed": false
   }
  },
  {
   "cell_type": "code",
   "execution_count": 49,
   "outputs": [
    {
     "data": {
      "text/plain": "   Yil  Temp  Aholi soni  Yim\na    1  1.54        33.9    1\nb    2  1.48        33.5    2\nc    3  1.56        32.9    3\nd    4  1.62        32.5    4\ne    5  1.65        31.9    5",
      "text/html": "<div>\n<style scoped>\n    .dataframe tbody tr th:only-of-type {\n        vertical-align: middle;\n    }\n\n    .dataframe tbody tr th {\n        vertical-align: top;\n    }\n\n    .dataframe thead th {\n        text-align: right;\n    }\n</style>\n<table border=\"1\" class=\"dataframe\">\n  <thead>\n    <tr style=\"text-align: right;\">\n      <th></th>\n      <th>Yil</th>\n      <th>Temp</th>\n      <th>Aholi soni</th>\n      <th>Yim</th>\n    </tr>\n  </thead>\n  <tbody>\n    <tr>\n      <th>a</th>\n      <td>1</td>\n      <td>1.54</td>\n      <td>33.9</td>\n      <td>1</td>\n    </tr>\n    <tr>\n      <th>b</th>\n      <td>2</td>\n      <td>1.48</td>\n      <td>33.5</td>\n      <td>2</td>\n    </tr>\n    <tr>\n      <th>c</th>\n      <td>3</td>\n      <td>1.56</td>\n      <td>32.9</td>\n      <td>3</td>\n    </tr>\n    <tr>\n      <th>d</th>\n      <td>4</td>\n      <td>1.62</td>\n      <td>32.5</td>\n      <td>4</td>\n    </tr>\n    <tr>\n      <th>e</th>\n      <td>5</td>\n      <td>1.65</td>\n      <td>31.9</td>\n      <td>5</td>\n    </tr>\n  </tbody>\n</table>\n</div>"
     },
     "execution_count": 49,
     "metadata": {},
     "output_type": "execute_result"
    }
   ],
   "source": [
    "df"
   ],
   "metadata": {
    "collapsed": false
   }
  },
  {
   "cell_type": "code",
   "execution_count": 51,
   "outputs": [],
   "source": [
    "df['1+'] = df.Yim>1"
   ],
   "metadata": {
    "collapsed": false
   }
  },
  {
   "cell_type": "code",
   "execution_count": 52,
   "outputs": [
    {
     "data": {
      "text/plain": "   Yil  Temp  Aholi soni  Yim     1+\na    1  1.54        33.9    1  False\nb    2  1.48        33.5    2   True\nc    3  1.56        32.9    3   True\nd    4  1.62        32.5    4   True\ne    5  1.65        31.9    5   True",
      "text/html": "<div>\n<style scoped>\n    .dataframe tbody tr th:only-of-type {\n        vertical-align: middle;\n    }\n\n    .dataframe tbody tr th {\n        vertical-align: top;\n    }\n\n    .dataframe thead th {\n        text-align: right;\n    }\n</style>\n<table border=\"1\" class=\"dataframe\">\n  <thead>\n    <tr style=\"text-align: right;\">\n      <th></th>\n      <th>Yil</th>\n      <th>Temp</th>\n      <th>Aholi soni</th>\n      <th>Yim</th>\n      <th>1+</th>\n    </tr>\n  </thead>\n  <tbody>\n    <tr>\n      <th>a</th>\n      <td>1</td>\n      <td>1.54</td>\n      <td>33.9</td>\n      <td>1</td>\n      <td>False</td>\n    </tr>\n    <tr>\n      <th>b</th>\n      <td>2</td>\n      <td>1.48</td>\n      <td>33.5</td>\n      <td>2</td>\n      <td>True</td>\n    </tr>\n    <tr>\n      <th>c</th>\n      <td>3</td>\n      <td>1.56</td>\n      <td>32.9</td>\n      <td>3</td>\n      <td>True</td>\n    </tr>\n    <tr>\n      <th>d</th>\n      <td>4</td>\n      <td>1.62</td>\n      <td>32.5</td>\n      <td>4</td>\n      <td>True</td>\n    </tr>\n    <tr>\n      <th>e</th>\n      <td>5</td>\n      <td>1.65</td>\n      <td>31.9</td>\n      <td>5</td>\n      <td>True</td>\n    </tr>\n  </tbody>\n</table>\n</div>"
     },
     "execution_count": 52,
     "metadata": {},
     "output_type": "execute_result"
    }
   ],
   "source": [
    "df"
   ],
   "metadata": {
    "collapsed": false
   }
  },
  {
   "cell_type": "code",
   "execution_count": 53,
   "outputs": [],
   "source": [
    "del df['1+']"
   ],
   "metadata": {
    "collapsed": false
   }
  },
  {
   "cell_type": "code",
   "execution_count": 54,
   "outputs": [
    {
     "data": {
      "text/plain": "   Yil  Temp  Aholi soni  Yim\na    1  1.54        33.9    1\nb    2  1.48        33.5    2\nc    3  1.56        32.9    3\nd    4  1.62        32.5    4\ne    5  1.65        31.9    5",
      "text/html": "<div>\n<style scoped>\n    .dataframe tbody tr th:only-of-type {\n        vertical-align: middle;\n    }\n\n    .dataframe tbody tr th {\n        vertical-align: top;\n    }\n\n    .dataframe thead th {\n        text-align: right;\n    }\n</style>\n<table border=\"1\" class=\"dataframe\">\n  <thead>\n    <tr style=\"text-align: right;\">\n      <th></th>\n      <th>Yil</th>\n      <th>Temp</th>\n      <th>Aholi soni</th>\n      <th>Yim</th>\n    </tr>\n  </thead>\n  <tbody>\n    <tr>\n      <th>a</th>\n      <td>1</td>\n      <td>1.54</td>\n      <td>33.9</td>\n      <td>1</td>\n    </tr>\n    <tr>\n      <th>b</th>\n      <td>2</td>\n      <td>1.48</td>\n      <td>33.5</td>\n      <td>2</td>\n    </tr>\n    <tr>\n      <th>c</th>\n      <td>3</td>\n      <td>1.56</td>\n      <td>32.9</td>\n      <td>3</td>\n    </tr>\n    <tr>\n      <th>d</th>\n      <td>4</td>\n      <td>1.62</td>\n      <td>32.5</td>\n      <td>4</td>\n    </tr>\n    <tr>\n      <th>e</th>\n      <td>5</td>\n      <td>1.65</td>\n      <td>31.9</td>\n      <td>5</td>\n    </tr>\n  </tbody>\n</table>\n</div>"
     },
     "execution_count": 54,
     "metadata": {},
     "output_type": "execute_result"
    }
   ],
   "source": [
    "df"
   ],
   "metadata": {
    "collapsed": false
   }
  },
  {
   "cell_type": "code",
   "execution_count": 55,
   "outputs": [],
   "source": [
    "data = {\n",
    "    'Uzbekistan':{2021:33.9, 2020:33.5, 2019:32.9, 2018:32.5, 2017:31.9},\n",
    "    'Kazakhstan':{2021:18.9, 2020:18.7, 2019:18.5, 2018:18.3, 2017:18.1, 2016:17.8}\n",
    "}\n",
    "df2 = pd.DataFrame(data)"
   ],
   "metadata": {
    "collapsed": false
   }
  },
  {
   "cell_type": "code",
   "execution_count": 56,
   "outputs": [
    {
     "data": {
      "text/plain": "      Uzbekistan  Kazakhstan\n2021        33.9        18.9\n2020        33.5        18.7\n2019        32.9        18.5\n2018        32.5        18.3\n2017        31.9        18.1\n2016         NaN        17.8",
      "text/html": "<div>\n<style scoped>\n    .dataframe tbody tr th:only-of-type {\n        vertical-align: middle;\n    }\n\n    .dataframe tbody tr th {\n        vertical-align: top;\n    }\n\n    .dataframe thead th {\n        text-align: right;\n    }\n</style>\n<table border=\"1\" class=\"dataframe\">\n  <thead>\n    <tr style=\"text-align: right;\">\n      <th></th>\n      <th>Uzbekistan</th>\n      <th>Kazakhstan</th>\n    </tr>\n  </thead>\n  <tbody>\n    <tr>\n      <th>2021</th>\n      <td>33.9</td>\n      <td>18.9</td>\n    </tr>\n    <tr>\n      <th>2020</th>\n      <td>33.5</td>\n      <td>18.7</td>\n    </tr>\n    <tr>\n      <th>2019</th>\n      <td>32.9</td>\n      <td>18.5</td>\n    </tr>\n    <tr>\n      <th>2018</th>\n      <td>32.5</td>\n      <td>18.3</td>\n    </tr>\n    <tr>\n      <th>2017</th>\n      <td>31.9</td>\n      <td>18.1</td>\n    </tr>\n    <tr>\n      <th>2016</th>\n      <td>NaN</td>\n      <td>17.8</td>\n    </tr>\n  </tbody>\n</table>\n</div>"
     },
     "execution_count": 56,
     "metadata": {},
     "output_type": "execute_result"
    }
   ],
   "source": [
    "df2"
   ],
   "metadata": {
    "collapsed": false
   }
  },
  {
   "cell_type": "code",
   "execution_count": 57,
   "outputs": [],
   "source": [
    "df2.index.name = 'Yil'"
   ],
   "metadata": {
    "collapsed": false
   }
  },
  {
   "cell_type": "code",
   "execution_count": 58,
   "outputs": [
    {
     "data": {
      "text/plain": "      Uzbekistan  Kazakhstan\nYil                         \n2021        33.9        18.9\n2020        33.5        18.7\n2019        32.9        18.5\n2018        32.5        18.3\n2017        31.9        18.1\n2016         NaN        17.8",
      "text/html": "<div>\n<style scoped>\n    .dataframe tbody tr th:only-of-type {\n        vertical-align: middle;\n    }\n\n    .dataframe tbody tr th {\n        vertical-align: top;\n    }\n\n    .dataframe thead th {\n        text-align: right;\n    }\n</style>\n<table border=\"1\" class=\"dataframe\">\n  <thead>\n    <tr style=\"text-align: right;\">\n      <th></th>\n      <th>Uzbekistan</th>\n      <th>Kazakhstan</th>\n    </tr>\n    <tr>\n      <th>Yil</th>\n      <th></th>\n      <th></th>\n    </tr>\n  </thead>\n  <tbody>\n    <tr>\n      <th>2021</th>\n      <td>33.9</td>\n      <td>18.9</td>\n    </tr>\n    <tr>\n      <th>2020</th>\n      <td>33.5</td>\n      <td>18.7</td>\n    </tr>\n    <tr>\n      <th>2019</th>\n      <td>32.9</td>\n      <td>18.5</td>\n    </tr>\n    <tr>\n      <th>2018</th>\n      <td>32.5</td>\n      <td>18.3</td>\n    </tr>\n    <tr>\n      <th>2017</th>\n      <td>31.9</td>\n      <td>18.1</td>\n    </tr>\n    <tr>\n      <th>2016</th>\n      <td>NaN</td>\n      <td>17.8</td>\n    </tr>\n  </tbody>\n</table>\n</div>"
     },
     "execution_count": 58,
     "metadata": {},
     "output_type": "execute_result"
    }
   ],
   "source": [
    "df2"
   ],
   "metadata": {
    "collapsed": false
   }
  },
  {
   "cell_type": "code",
   "execution_count": 59,
   "outputs": [],
   "source": [
    "df2 = DataFrame(data, index=[2021, 2019, 2017]) # 2021, 2019 va 2017 yil ma'lumotlarini olamiz"
   ],
   "metadata": {
    "collapsed": false
   }
  },
  {
   "cell_type": "code",
   "execution_count": 60,
   "outputs": [
    {
     "data": {
      "text/plain": "      Uzbekistan  Kazakhstan\n2021        33.9        18.9\n2019        32.9        18.5\n2017        31.9        18.1",
      "text/html": "<div>\n<style scoped>\n    .dataframe tbody tr th:only-of-type {\n        vertical-align: middle;\n    }\n\n    .dataframe tbody tr th {\n        vertical-align: top;\n    }\n\n    .dataframe thead th {\n        text-align: right;\n    }\n</style>\n<table border=\"1\" class=\"dataframe\">\n  <thead>\n    <tr style=\"text-align: right;\">\n      <th></th>\n      <th>Uzbekistan</th>\n      <th>Kazakhstan</th>\n    </tr>\n  </thead>\n  <tbody>\n    <tr>\n      <th>2021</th>\n      <td>33.9</td>\n      <td>18.9</td>\n    </tr>\n    <tr>\n      <th>2019</th>\n      <td>32.9</td>\n      <td>18.5</td>\n    </tr>\n    <tr>\n      <th>2017</th>\n      <td>31.9</td>\n      <td>18.1</td>\n    </tr>\n  </tbody>\n</table>\n</div>"
     },
     "execution_count": 60,
     "metadata": {},
     "output_type": "execute_result"
    }
   ],
   "source": [
    "df2"
   ],
   "metadata": {
    "collapsed": false
   }
  },
  {
   "cell_type": "code",
   "execution_count": 61,
   "outputs": [],
   "source": [
    "df2.index.name = 'YIl'"
   ],
   "metadata": {
    "collapsed": false
   }
  },
  {
   "cell_type": "code",
   "execution_count": 62,
   "outputs": [
    {
     "data": {
      "text/plain": "      Uzbekistan  Kazakhstan\nYIl                         \n2021        33.9        18.9\n2019        32.9        18.5\n2017        31.9        18.1",
      "text/html": "<div>\n<style scoped>\n    .dataframe tbody tr th:only-of-type {\n        vertical-align: middle;\n    }\n\n    .dataframe tbody tr th {\n        vertical-align: top;\n    }\n\n    .dataframe thead th {\n        text-align: right;\n    }\n</style>\n<table border=\"1\" class=\"dataframe\">\n  <thead>\n    <tr style=\"text-align: right;\">\n      <th></th>\n      <th>Uzbekistan</th>\n      <th>Kazakhstan</th>\n    </tr>\n    <tr>\n      <th>YIl</th>\n      <th></th>\n      <th></th>\n    </tr>\n  </thead>\n  <tbody>\n    <tr>\n      <th>2021</th>\n      <td>33.9</td>\n      <td>18.9</td>\n    </tr>\n    <tr>\n      <th>2019</th>\n      <td>32.9</td>\n      <td>18.5</td>\n    </tr>\n    <tr>\n      <th>2017</th>\n      <td>31.9</td>\n      <td>18.1</td>\n    </tr>\n  </tbody>\n</table>\n</div>"
     },
     "execution_count": 62,
     "metadata": {},
     "output_type": "execute_result"
    }
   ],
   "source": [
    "df2"
   ],
   "metadata": {
    "collapsed": false
   }
  },
  {
   "cell_type": "code",
   "execution_count": 63,
   "outputs": [
    {
     "data": {
      "text/plain": "YIl         2021  2019  2017\nUzbekistan  33.9  32.9  31.9\nKazakhstan  18.9  18.5  18.1",
      "text/html": "<div>\n<style scoped>\n    .dataframe tbody tr th:only-of-type {\n        vertical-align: middle;\n    }\n\n    .dataframe tbody tr th {\n        vertical-align: top;\n    }\n\n    .dataframe thead th {\n        text-align: right;\n    }\n</style>\n<table border=\"1\" class=\"dataframe\">\n  <thead>\n    <tr style=\"text-align: right;\">\n      <th>YIl</th>\n      <th>2021</th>\n      <th>2019</th>\n      <th>2017</th>\n    </tr>\n  </thead>\n  <tbody>\n    <tr>\n      <th>Uzbekistan</th>\n      <td>33.9</td>\n      <td>32.9</td>\n      <td>31.9</td>\n    </tr>\n    <tr>\n      <th>Kazakhstan</th>\n      <td>18.9</td>\n      <td>18.5</td>\n      <td>18.1</td>\n    </tr>\n  </tbody>\n</table>\n</div>"
     },
     "execution_count": 63,
     "metadata": {},
     "output_type": "execute_result"
    }
   ],
   "source": [
    "df2.T"
   ],
   "metadata": {
    "collapsed": false
   }
  },
  {
   "cell_type": "code",
   "execution_count": 65,
   "outputs": [],
   "source": [
    "arr = df2.values"
   ],
   "metadata": {
    "collapsed": false
   }
  },
  {
   "cell_type": "code",
   "execution_count": 66,
   "outputs": [
    {
     "data": {
      "text/plain": "array([[33.9, 18.9],\n       [32.9, 18.5],\n       [31.9, 18.1]])"
     },
     "execution_count": 66,
     "metadata": {},
     "output_type": "execute_result"
    }
   ],
   "source": [
    "arr"
   ],
   "metadata": {
    "collapsed": false
   }
  },
  {
   "cell_type": "code",
   "execution_count": 1,
   "outputs": [
    {
     "ename": "NameError",
     "evalue": "name 'arr' is not defined",
     "output_type": "error",
     "traceback": [
      "\u001B[0;31m---------------------------------------------------------------------------\u001B[0m",
      "\u001B[0;31mNameError\u001B[0m                                 Traceback (most recent call last)",
      "Cell \u001B[0;32mIn[1], line 1\u001B[0m\n\u001B[0;32m----> 1\u001B[0m \u001B[38;5;28mprint\u001B[39m(\u001B[43marr\u001B[49m)\n",
      "\u001B[0;31mNameError\u001B[0m: name 'arr' is not defined"
     ]
    }
   ],
   "source": [
    "print(arr)"
   ],
   "metadata": {
    "collapsed": false
   }
  },
  {
   "cell_type": "code",
   "execution_count": null,
   "outputs": [],
   "source": [],
   "metadata": {
    "collapsed": false
   }
  }
 ],
 "metadata": {
  "kernelspec": {
   "display_name": "Python 3",
   "language": "python",
   "name": "python3"
  },
  "language_info": {
   "codemirror_mode": {
    "name": "ipython",
    "version": 2
   },
   "file_extension": ".py",
   "mimetype": "text/x-python",
   "name": "python",
   "nbconvert_exporter": "python",
   "pygments_lexer": "ipython2",
   "version": "2.7.6"
  }
 },
 "nbformat": 4,
 "nbformat_minor": 0
}
