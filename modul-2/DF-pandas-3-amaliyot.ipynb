{
 "cells": [
  {
   "cell_type": "code",
   "execution_count": 1,
   "metadata": {
    "collapsed": true
   },
   "outputs": [],
   "source": [
    "import numpy as np\n",
    "import pandas as pd"
   ]
  },
  {
   "cell_type": "code",
   "execution_count": 2,
   "outputs": [],
   "source": [
    "df = pd.read_csv(\"https://raw.githubusercontent.com/anvarnarz/praktikum_datasets/main/usa_cars.csv\", index_col=0)"
   ],
   "metadata": {
    "collapsed": false
   }
  },
  {
   "cell_type": "code",
   "execution_count": 3,
   "outputs": [
    {
     "data": {
      "text/plain": "   price      brand    model  year   title_status  mileage   color  \\\n0   6300     toyota  cruiser  2008  clean vehicle   274117   black   \n1   2899       ford       se  2011  clean vehicle   190552  silver   \n2   5350      dodge      mpv  2018  clean vehicle    39590  silver   \n3  25000       ford     door  2014  clean vehicle    64146    blue   \n4  27700  chevrolet     1500  2018  clean vehicle     6654     red   \n5   5700      dodge      mpv  2018  clean vehicle    45561   white   \n\n                   vin        lot       state country      condition  \n0    jtezu11f88k007763  159348797  new jersey     usa   10 days left  \n1    2fmdk3gc4bbb02217  166951262   tennessee     usa    6 days left  \n2    3c4pdcgg5jt346413  167655728     georgia     usa    2 days left  \n3    1ftfw1et4efc23745  167753855    virginia     usa  22 hours left  \n4    3gcpcrec2jg473991  167763266     florida     usa  22 hours left  \n5    2c4rdgeg9jr237989  167655771       texas     usa    2 days left  ",
      "text/html": "<div>\n<style scoped>\n    .dataframe tbody tr th:only-of-type {\n        vertical-align: middle;\n    }\n\n    .dataframe tbody tr th {\n        vertical-align: top;\n    }\n\n    .dataframe thead th {\n        text-align: right;\n    }\n</style>\n<table border=\"1\" class=\"dataframe\">\n  <thead>\n    <tr style=\"text-align: right;\">\n      <th></th>\n      <th>price</th>\n      <th>brand</th>\n      <th>model</th>\n      <th>year</th>\n      <th>title_status</th>\n      <th>mileage</th>\n      <th>color</th>\n      <th>vin</th>\n      <th>lot</th>\n      <th>state</th>\n      <th>country</th>\n      <th>condition</th>\n    </tr>\n  </thead>\n  <tbody>\n    <tr>\n      <th>0</th>\n      <td>6300</td>\n      <td>toyota</td>\n      <td>cruiser</td>\n      <td>2008</td>\n      <td>clean vehicle</td>\n      <td>274117</td>\n      <td>black</td>\n      <td>jtezu11f88k007763</td>\n      <td>159348797</td>\n      <td>new jersey</td>\n      <td>usa</td>\n      <td>10 days left</td>\n    </tr>\n    <tr>\n      <th>1</th>\n      <td>2899</td>\n      <td>ford</td>\n      <td>se</td>\n      <td>2011</td>\n      <td>clean vehicle</td>\n      <td>190552</td>\n      <td>silver</td>\n      <td>2fmdk3gc4bbb02217</td>\n      <td>166951262</td>\n      <td>tennessee</td>\n      <td>usa</td>\n      <td>6 days left</td>\n    </tr>\n    <tr>\n      <th>2</th>\n      <td>5350</td>\n      <td>dodge</td>\n      <td>mpv</td>\n      <td>2018</td>\n      <td>clean vehicle</td>\n      <td>39590</td>\n      <td>silver</td>\n      <td>3c4pdcgg5jt346413</td>\n      <td>167655728</td>\n      <td>georgia</td>\n      <td>usa</td>\n      <td>2 days left</td>\n    </tr>\n    <tr>\n      <th>3</th>\n      <td>25000</td>\n      <td>ford</td>\n      <td>door</td>\n      <td>2014</td>\n      <td>clean vehicle</td>\n      <td>64146</td>\n      <td>blue</td>\n      <td>1ftfw1et4efc23745</td>\n      <td>167753855</td>\n      <td>virginia</td>\n      <td>usa</td>\n      <td>22 hours left</td>\n    </tr>\n    <tr>\n      <th>4</th>\n      <td>27700</td>\n      <td>chevrolet</td>\n      <td>1500</td>\n      <td>2018</td>\n      <td>clean vehicle</td>\n      <td>6654</td>\n      <td>red</td>\n      <td>3gcpcrec2jg473991</td>\n      <td>167763266</td>\n      <td>florida</td>\n      <td>usa</td>\n      <td>22 hours left</td>\n    </tr>\n    <tr>\n      <th>5</th>\n      <td>5700</td>\n      <td>dodge</td>\n      <td>mpv</td>\n      <td>2018</td>\n      <td>clean vehicle</td>\n      <td>45561</td>\n      <td>white</td>\n      <td>2c4rdgeg9jr237989</td>\n      <td>167655771</td>\n      <td>texas</td>\n      <td>usa</td>\n      <td>2 days left</td>\n    </tr>\n  </tbody>\n</table>\n</div>"
     },
     "execution_count": 3,
     "metadata": {},
     "output_type": "execute_result"
    }
   ],
   "source": [
    "df.head(6)"
   ],
   "metadata": {
    "collapsed": false
   }
  },
  {
   "cell_type": "code",
   "execution_count": 5,
   "outputs": [
    {
     "data": {
      "text/plain": "      price   brand  model  year   title_status  mileage   color  \\\n2494   7800  nissan  versa  2019  clean vehicle    23609     red   \n2495   9200  nissan  versa  2018  clean vehicle    34553  silver   \n2496   9200  nissan  versa  2018  clean vehicle    31594  silver   \n2497   9200  nissan  versa  2018  clean vehicle    32557   black   \n2498   9200  nissan  versa  2018  clean vehicle    31371  silver   \n\n                      vin        lot       state country      condition  \n2494    3n1cn7ap9kl880319  167722715  california     usa    1 days left  \n2495    3n1cn7ap5jl884088  167762225     florida     usa  21 hours left  \n2496    3n1cn7ap9jl884191  167762226     florida     usa  21 hours left  \n2497    3n1cn7ap3jl883263  167762227     florida     usa    2 days left  \n2498    3n1cn7ap4jl884311  167762228     florida     usa  21 hours left  ",
      "text/html": "<div>\n<style scoped>\n    .dataframe tbody tr th:only-of-type {\n        vertical-align: middle;\n    }\n\n    .dataframe tbody tr th {\n        vertical-align: top;\n    }\n\n    .dataframe thead th {\n        text-align: right;\n    }\n</style>\n<table border=\"1\" class=\"dataframe\">\n  <thead>\n    <tr style=\"text-align: right;\">\n      <th></th>\n      <th>price</th>\n      <th>brand</th>\n      <th>model</th>\n      <th>year</th>\n      <th>title_status</th>\n      <th>mileage</th>\n      <th>color</th>\n      <th>vin</th>\n      <th>lot</th>\n      <th>state</th>\n      <th>country</th>\n      <th>condition</th>\n    </tr>\n  </thead>\n  <tbody>\n    <tr>\n      <th>2494</th>\n      <td>7800</td>\n      <td>nissan</td>\n      <td>versa</td>\n      <td>2019</td>\n      <td>clean vehicle</td>\n      <td>23609</td>\n      <td>red</td>\n      <td>3n1cn7ap9kl880319</td>\n      <td>167722715</td>\n      <td>california</td>\n      <td>usa</td>\n      <td>1 days left</td>\n    </tr>\n    <tr>\n      <th>2495</th>\n      <td>9200</td>\n      <td>nissan</td>\n      <td>versa</td>\n      <td>2018</td>\n      <td>clean vehicle</td>\n      <td>34553</td>\n      <td>silver</td>\n      <td>3n1cn7ap5jl884088</td>\n      <td>167762225</td>\n      <td>florida</td>\n      <td>usa</td>\n      <td>21 hours left</td>\n    </tr>\n    <tr>\n      <th>2496</th>\n      <td>9200</td>\n      <td>nissan</td>\n      <td>versa</td>\n      <td>2018</td>\n      <td>clean vehicle</td>\n      <td>31594</td>\n      <td>silver</td>\n      <td>3n1cn7ap9jl884191</td>\n      <td>167762226</td>\n      <td>florida</td>\n      <td>usa</td>\n      <td>21 hours left</td>\n    </tr>\n    <tr>\n      <th>2497</th>\n      <td>9200</td>\n      <td>nissan</td>\n      <td>versa</td>\n      <td>2018</td>\n      <td>clean vehicle</td>\n      <td>32557</td>\n      <td>black</td>\n      <td>3n1cn7ap3jl883263</td>\n      <td>167762227</td>\n      <td>florida</td>\n      <td>usa</td>\n      <td>2 days left</td>\n    </tr>\n    <tr>\n      <th>2498</th>\n      <td>9200</td>\n      <td>nissan</td>\n      <td>versa</td>\n      <td>2018</td>\n      <td>clean vehicle</td>\n      <td>31371</td>\n      <td>silver</td>\n      <td>3n1cn7ap4jl884311</td>\n      <td>167762228</td>\n      <td>florida</td>\n      <td>usa</td>\n      <td>21 hours left</td>\n    </tr>\n  </tbody>\n</table>\n</div>"
     },
     "execution_count": 5,
     "metadata": {},
     "output_type": "execute_result"
    }
   ],
   "source": [
    "df.tail(5)"
   ],
   "metadata": {
    "collapsed": false
   }
  },
  {
   "cell_type": "code",
   "execution_count": 8,
   "outputs": [
    {
     "data": {
      "text/plain": "      price      brand     model  year       title_status  mileage  \\\n32    29800  chevrolet    camaro  1973      clean vehicle    46226   \n405      25       ford      door  1984  salvage insurance    41577   \n545       0        gmc      door  1993  salvage insurance        0   \n362      25       ford    pickup  1994  salvage insurance   206162   \n322       0       ford   chassis  1994  salvage insurance        0   \n...     ...        ...       ...   ...                ...      ...   \n426   55600      lexus        gx  2020      clean vehicle     8186   \n806   28300  chevrolet  colorado  2020      clean vehicle    13886   \n2322  15000     nissan    altima  2020      clean vehicle    14320   \n2344  20100     nissan     rogue  2020      clean vehicle    10875   \n1388  17000       ford    fusion  2020      clean vehicle     1117   \n\n           color                  vin        lot         state country  \\\n32           red        1q87t3n166389  167763370  pennsylvania     usa   \n405        white    2ftcf15y9eca14589  167611661      arkansas     usa   \n545   light blue    1gkfk16k5pj701631  167358601      colorado     usa   \n362        white    1ftdf15y2rnb12612  167361489       georgia     usa   \n322        green    1fdee14n7rha47894  167359174    california     usa   \n...          ...                  ...        ...           ...     ...   \n426       silver    jtjam7bx4l5251250  167605747       florida     usa   \n806       silver    1gcgtcen7l1101496  167805497       indiana     usa   \n2322        blue    1n4bl4cv4lc134145  167656212          ohio     usa   \n2344        blue    jn8at2mvxlw103235  167614842     minnesota     usa   \n1388        gray    3fa6p0d98lr194138  167742945  pennsylvania     usa   \n\n          condition  \n32    22 hours left  \n405   17 hours left  \n545   18 hours left  \n362     2 days left  \n322   19 hours left  \n...             ...  \n426     2 days left  \n806     2 days left  \n2322    2 days left  \n2344  14 hours left  \n1388    2 days left  \n\n[2499 rows x 12 columns]",
      "text/html": "<div>\n<style scoped>\n    .dataframe tbody tr th:only-of-type {\n        vertical-align: middle;\n    }\n\n    .dataframe tbody tr th {\n        vertical-align: top;\n    }\n\n    .dataframe thead th {\n        text-align: right;\n    }\n</style>\n<table border=\"1\" class=\"dataframe\">\n  <thead>\n    <tr style=\"text-align: right;\">\n      <th></th>\n      <th>price</th>\n      <th>brand</th>\n      <th>model</th>\n      <th>year</th>\n      <th>title_status</th>\n      <th>mileage</th>\n      <th>color</th>\n      <th>vin</th>\n      <th>lot</th>\n      <th>state</th>\n      <th>country</th>\n      <th>condition</th>\n    </tr>\n  </thead>\n  <tbody>\n    <tr>\n      <th>32</th>\n      <td>29800</td>\n      <td>chevrolet</td>\n      <td>camaro</td>\n      <td>1973</td>\n      <td>clean vehicle</td>\n      <td>46226</td>\n      <td>red</td>\n      <td>1q87t3n166389</td>\n      <td>167763370</td>\n      <td>pennsylvania</td>\n      <td>usa</td>\n      <td>22 hours left</td>\n    </tr>\n    <tr>\n      <th>405</th>\n      <td>25</td>\n      <td>ford</td>\n      <td>door</td>\n      <td>1984</td>\n      <td>salvage insurance</td>\n      <td>41577</td>\n      <td>white</td>\n      <td>2ftcf15y9eca14589</td>\n      <td>167611661</td>\n      <td>arkansas</td>\n      <td>usa</td>\n      <td>17 hours left</td>\n    </tr>\n    <tr>\n      <th>545</th>\n      <td>0</td>\n      <td>gmc</td>\n      <td>door</td>\n      <td>1993</td>\n      <td>salvage insurance</td>\n      <td>0</td>\n      <td>light blue</td>\n      <td>1gkfk16k5pj701631</td>\n      <td>167358601</td>\n      <td>colorado</td>\n      <td>usa</td>\n      <td>18 hours left</td>\n    </tr>\n    <tr>\n      <th>362</th>\n      <td>25</td>\n      <td>ford</td>\n      <td>pickup</td>\n      <td>1994</td>\n      <td>salvage insurance</td>\n      <td>206162</td>\n      <td>white</td>\n      <td>1ftdf15y2rnb12612</td>\n      <td>167361489</td>\n      <td>georgia</td>\n      <td>usa</td>\n      <td>2 days left</td>\n    </tr>\n    <tr>\n      <th>322</th>\n      <td>0</td>\n      <td>ford</td>\n      <td>chassis</td>\n      <td>1994</td>\n      <td>salvage insurance</td>\n      <td>0</td>\n      <td>green</td>\n      <td>1fdee14n7rha47894</td>\n      <td>167359174</td>\n      <td>california</td>\n      <td>usa</td>\n      <td>19 hours left</td>\n    </tr>\n    <tr>\n      <th>...</th>\n      <td>...</td>\n      <td>...</td>\n      <td>...</td>\n      <td>...</td>\n      <td>...</td>\n      <td>...</td>\n      <td>...</td>\n      <td>...</td>\n      <td>...</td>\n      <td>...</td>\n      <td>...</td>\n      <td>...</td>\n    </tr>\n    <tr>\n      <th>426</th>\n      <td>55600</td>\n      <td>lexus</td>\n      <td>gx</td>\n      <td>2020</td>\n      <td>clean vehicle</td>\n      <td>8186</td>\n      <td>silver</td>\n      <td>jtjam7bx4l5251250</td>\n      <td>167605747</td>\n      <td>florida</td>\n      <td>usa</td>\n      <td>2 days left</td>\n    </tr>\n    <tr>\n      <th>806</th>\n      <td>28300</td>\n      <td>chevrolet</td>\n      <td>colorado</td>\n      <td>2020</td>\n      <td>clean vehicle</td>\n      <td>13886</td>\n      <td>silver</td>\n      <td>1gcgtcen7l1101496</td>\n      <td>167805497</td>\n      <td>indiana</td>\n      <td>usa</td>\n      <td>2 days left</td>\n    </tr>\n    <tr>\n      <th>2322</th>\n      <td>15000</td>\n      <td>nissan</td>\n      <td>altima</td>\n      <td>2020</td>\n      <td>clean vehicle</td>\n      <td>14320</td>\n      <td>blue</td>\n      <td>1n4bl4cv4lc134145</td>\n      <td>167656212</td>\n      <td>ohio</td>\n      <td>usa</td>\n      <td>2 days left</td>\n    </tr>\n    <tr>\n      <th>2344</th>\n      <td>20100</td>\n      <td>nissan</td>\n      <td>rogue</td>\n      <td>2020</td>\n      <td>clean vehicle</td>\n      <td>10875</td>\n      <td>blue</td>\n      <td>jn8at2mvxlw103235</td>\n      <td>167614842</td>\n      <td>minnesota</td>\n      <td>usa</td>\n      <td>14 hours left</td>\n    </tr>\n    <tr>\n      <th>1388</th>\n      <td>17000</td>\n      <td>ford</td>\n      <td>fusion</td>\n      <td>2020</td>\n      <td>clean vehicle</td>\n      <td>1117</td>\n      <td>gray</td>\n      <td>3fa6p0d98lr194138</td>\n      <td>167742945</td>\n      <td>pennsylvania</td>\n      <td>usa</td>\n      <td>2 days left</td>\n    </tr>\n  </tbody>\n</table>\n<p>2499 rows × 12 columns</p>\n</div>"
     },
     "execution_count": 8,
     "metadata": {},
     "output_type": "execute_result"
    }
   ],
   "source": [
    "df.sort_values('year')"
   ],
   "metadata": {
    "collapsed": false
   }
  },
  {
   "cell_type": "code",
   "execution_count": 10,
   "outputs": [
    {
     "data": {
      "text/plain": "      price      brand    model  year   title_status  mileage   color  \\\n0      6300     toyota  cruiser  2008  clean vehicle   274117   black   \n1      2899       ford       se  2011  clean vehicle   190552  silver   \n2      5350      dodge      mpv  2018  clean vehicle    39590  silver   \n3     25000       ford     door  2014  clean vehicle    64146    blue   \n4     27700  chevrolet     1500  2018  clean vehicle     6654     red   \n...     ...        ...      ...   ...            ...      ...     ...   \n2494   7800     nissan    versa  2019  clean vehicle    23609     red   \n2495   9200     nissan    versa  2018  clean vehicle    34553  silver   \n2496   9200     nissan    versa  2018  clean vehicle    31594  silver   \n2497   9200     nissan    versa  2018  clean vehicle    32557   black   \n2498   9200     nissan    versa  2018  clean vehicle    31371  silver   \n\n                      vin        lot       state country      condition  \\\n0       jtezu11f88k007763  159348797  new jersey     usa   10 days left   \n1       2fmdk3gc4bbb02217  166951262   tennessee     usa    6 days left   \n2       3c4pdcgg5jt346413  167655728     georgia     usa    2 days left   \n3       1ftfw1et4efc23745  167753855    virginia     usa  22 hours left   \n4       3gcpcrec2jg473991  167763266     florida     usa  22 hours left   \n...                   ...        ...         ...     ...            ...   \n2494    3n1cn7ap9kl880319  167722715  california     usa    1 days left   \n2495    3n1cn7ap5jl884088  167762225     florida     usa  21 hours left   \n2496    3n1cn7ap9jl884191  167762226     florida     usa  21 hours left   \n2497    3n1cn7ap3jl883263  167762227     florida     usa    2 days left   \n2498    3n1cn7ap4jl884311  167762228     florida     usa  21 hours left   \n\n        rank  \n0      380.0  \n1      156.0  \n2      326.0  \n3     1824.0  \n4     2004.0  \n...      ...  \n2494   475.0  \n2495   567.0  \n2496   567.0  \n2497   567.0  \n2498   567.0  \n\n[2499 rows x 13 columns]",
      "text/html": "<div>\n<style scoped>\n    .dataframe tbody tr th:only-of-type {\n        vertical-align: middle;\n    }\n\n    .dataframe tbody tr th {\n        vertical-align: top;\n    }\n\n    .dataframe thead th {\n        text-align: right;\n    }\n</style>\n<table border=\"1\" class=\"dataframe\">\n  <thead>\n    <tr style=\"text-align: right;\">\n      <th></th>\n      <th>price</th>\n      <th>brand</th>\n      <th>model</th>\n      <th>year</th>\n      <th>title_status</th>\n      <th>mileage</th>\n      <th>color</th>\n      <th>vin</th>\n      <th>lot</th>\n      <th>state</th>\n      <th>country</th>\n      <th>condition</th>\n      <th>rank</th>\n    </tr>\n  </thead>\n  <tbody>\n    <tr>\n      <th>0</th>\n      <td>6300</td>\n      <td>toyota</td>\n      <td>cruiser</td>\n      <td>2008</td>\n      <td>clean vehicle</td>\n      <td>274117</td>\n      <td>black</td>\n      <td>jtezu11f88k007763</td>\n      <td>159348797</td>\n      <td>new jersey</td>\n      <td>usa</td>\n      <td>10 days left</td>\n      <td>380.0</td>\n    </tr>\n    <tr>\n      <th>1</th>\n      <td>2899</td>\n      <td>ford</td>\n      <td>se</td>\n      <td>2011</td>\n      <td>clean vehicle</td>\n      <td>190552</td>\n      <td>silver</td>\n      <td>2fmdk3gc4bbb02217</td>\n      <td>166951262</td>\n      <td>tennessee</td>\n      <td>usa</td>\n      <td>6 days left</td>\n      <td>156.0</td>\n    </tr>\n    <tr>\n      <th>2</th>\n      <td>5350</td>\n      <td>dodge</td>\n      <td>mpv</td>\n      <td>2018</td>\n      <td>clean vehicle</td>\n      <td>39590</td>\n      <td>silver</td>\n      <td>3c4pdcgg5jt346413</td>\n      <td>167655728</td>\n      <td>georgia</td>\n      <td>usa</td>\n      <td>2 days left</td>\n      <td>326.0</td>\n    </tr>\n    <tr>\n      <th>3</th>\n      <td>25000</td>\n      <td>ford</td>\n      <td>door</td>\n      <td>2014</td>\n      <td>clean vehicle</td>\n      <td>64146</td>\n      <td>blue</td>\n      <td>1ftfw1et4efc23745</td>\n      <td>167753855</td>\n      <td>virginia</td>\n      <td>usa</td>\n      <td>22 hours left</td>\n      <td>1824.0</td>\n    </tr>\n    <tr>\n      <th>4</th>\n      <td>27700</td>\n      <td>chevrolet</td>\n      <td>1500</td>\n      <td>2018</td>\n      <td>clean vehicle</td>\n      <td>6654</td>\n      <td>red</td>\n      <td>3gcpcrec2jg473991</td>\n      <td>167763266</td>\n      <td>florida</td>\n      <td>usa</td>\n      <td>22 hours left</td>\n      <td>2004.0</td>\n    </tr>\n    <tr>\n      <th>...</th>\n      <td>...</td>\n      <td>...</td>\n      <td>...</td>\n      <td>...</td>\n      <td>...</td>\n      <td>...</td>\n      <td>...</td>\n      <td>...</td>\n      <td>...</td>\n      <td>...</td>\n      <td>...</td>\n      <td>...</td>\n      <td>...</td>\n    </tr>\n    <tr>\n      <th>2494</th>\n      <td>7800</td>\n      <td>nissan</td>\n      <td>versa</td>\n      <td>2019</td>\n      <td>clean vehicle</td>\n      <td>23609</td>\n      <td>red</td>\n      <td>3n1cn7ap9kl880319</td>\n      <td>167722715</td>\n      <td>california</td>\n      <td>usa</td>\n      <td>1 days left</td>\n      <td>475.0</td>\n    </tr>\n    <tr>\n      <th>2495</th>\n      <td>9200</td>\n      <td>nissan</td>\n      <td>versa</td>\n      <td>2018</td>\n      <td>clean vehicle</td>\n      <td>34553</td>\n      <td>silver</td>\n      <td>3n1cn7ap5jl884088</td>\n      <td>167762225</td>\n      <td>florida</td>\n      <td>usa</td>\n      <td>21 hours left</td>\n      <td>567.0</td>\n    </tr>\n    <tr>\n      <th>2496</th>\n      <td>9200</td>\n      <td>nissan</td>\n      <td>versa</td>\n      <td>2018</td>\n      <td>clean vehicle</td>\n      <td>31594</td>\n      <td>silver</td>\n      <td>3n1cn7ap9jl884191</td>\n      <td>167762226</td>\n      <td>florida</td>\n      <td>usa</td>\n      <td>21 hours left</td>\n      <td>567.0</td>\n    </tr>\n    <tr>\n      <th>2497</th>\n      <td>9200</td>\n      <td>nissan</td>\n      <td>versa</td>\n      <td>2018</td>\n      <td>clean vehicle</td>\n      <td>32557</td>\n      <td>black</td>\n      <td>3n1cn7ap3jl883263</td>\n      <td>167762227</td>\n      <td>florida</td>\n      <td>usa</td>\n      <td>2 days left</td>\n      <td>567.0</td>\n    </tr>\n    <tr>\n      <th>2498</th>\n      <td>9200</td>\n      <td>nissan</td>\n      <td>versa</td>\n      <td>2018</td>\n      <td>clean vehicle</td>\n      <td>31371</td>\n      <td>silver</td>\n      <td>3n1cn7ap4jl884311</td>\n      <td>167762228</td>\n      <td>florida</td>\n      <td>usa</td>\n      <td>21 hours left</td>\n      <td>567.0</td>\n    </tr>\n  </tbody>\n</table>\n<p>2499 rows × 13 columns</p>\n</div>"
     },
     "execution_count": 10,
     "metadata": {},
     "output_type": "execute_result"
    }
   ],
   "source": [
    "df['rank'] = df['price'].rank(method='min')\n",
    "df"
   ],
   "metadata": {
    "collapsed": false
   }
  },
  {
   "cell_type": "code",
   "execution_count": 16,
   "outputs": [
    {
     "name": "stdout",
     "output_type": "stream",
     "text": [
      "price                          1025\n",
      "brand                     peterbilt\n",
      "model                         truck\n",
      "year                           2010\n",
      "title_status      salvage insurance\n",
      "mileage                     1017936\n",
      "color                        color:\n",
      "vin               1xp7d49x0ad793710\n",
      "lot                       167529842\n",
      "state                       georgia\n",
      "country                         usa\n",
      "condition             17 hours left\n",
      "rank                           94.0\n",
      "Name: 528, dtype: object\n"
     ]
    }
   ],
   "source": [
    "most_expensive_car = df.loc[df['price'].idxmax()]\n",
    "print(most_expensive_car)"
   ],
   "metadata": {
    "collapsed": false
   }
  },
  {
   "cell_type": "code",
   "execution_count": 15,
   "outputs": [
    {
     "data": {
      "text/plain": "      price      brand    model  year   title_status  mileage   color  \\\n0      6300     toyota  cruiser  2008  clean vehicle   274117   black   \n1      2899       ford       se  2011  clean vehicle   190552  silver   \n2      5350      dodge      mpv  2018  clean vehicle    39590  silver   \n3     25000       ford     door  2014  clean vehicle    64146    blue   \n4     27700  chevrolet     1500  2018  clean vehicle     6654     red   \n...     ...        ...      ...   ...            ...      ...     ...   \n2494   7800     nissan    versa  2019  clean vehicle    23609     red   \n2495   9200     nissan    versa  2018  clean vehicle    34553  silver   \n2496   9200     nissan    versa  2018  clean vehicle    31594  silver   \n2497   9200     nissan    versa  2018  clean vehicle    32557   black   \n2498   9200     nissan    versa  2018  clean vehicle    31371  silver   \n\n                      vin        lot       state country      condition  \\\n0       jtezu11f88k007763  159348797  new jersey     usa   10 days left   \n1       2fmdk3gc4bbb02217  166951262   tennessee     usa    6 days left   \n2       3c4pdcgg5jt346413  167655728     georgia     usa    2 days left   \n3       1ftfw1et4efc23745  167753855    virginia     usa  22 hours left   \n4       3gcpcrec2jg473991  167763266     florida     usa  22 hours left   \n...                   ...        ...         ...     ...            ...   \n2494    3n1cn7ap9kl880319  167722715  california     usa    1 days left   \n2495    3n1cn7ap5jl884088  167762225     florida     usa  21 hours left   \n2496    3n1cn7ap9jl884191  167762226     florida     usa  21 hours left   \n2497    3n1cn7ap3jl883263  167762227     florida     usa    2 days left   \n2498    3n1cn7ap4jl884311  167762228     florida     usa  21 hours left   \n\n        rank  \n0      380.0  \n1      156.0  \n2      326.0  \n3     1824.0  \n4     2004.0  \n...      ...  \n2494   475.0  \n2495   567.0  \n2496   567.0  \n2497   567.0  \n2498   567.0  \n\n[2499 rows x 13 columns]",
      "text/html": "<div>\n<style scoped>\n    .dataframe tbody tr th:only-of-type {\n        vertical-align: middle;\n    }\n\n    .dataframe tbody tr th {\n        vertical-align: top;\n    }\n\n    .dataframe thead th {\n        text-align: right;\n    }\n</style>\n<table border=\"1\" class=\"dataframe\">\n  <thead>\n    <tr style=\"text-align: right;\">\n      <th></th>\n      <th>price</th>\n      <th>brand</th>\n      <th>model</th>\n      <th>year</th>\n      <th>title_status</th>\n      <th>mileage</th>\n      <th>color</th>\n      <th>vin</th>\n      <th>lot</th>\n      <th>state</th>\n      <th>country</th>\n      <th>condition</th>\n      <th>rank</th>\n    </tr>\n  </thead>\n  <tbody>\n    <tr>\n      <th>0</th>\n      <td>6300</td>\n      <td>toyota</td>\n      <td>cruiser</td>\n      <td>2008</td>\n      <td>clean vehicle</td>\n      <td>274117</td>\n      <td>black</td>\n      <td>jtezu11f88k007763</td>\n      <td>159348797</td>\n      <td>new jersey</td>\n      <td>usa</td>\n      <td>10 days left</td>\n      <td>380.0</td>\n    </tr>\n    <tr>\n      <th>1</th>\n      <td>2899</td>\n      <td>ford</td>\n      <td>se</td>\n      <td>2011</td>\n      <td>clean vehicle</td>\n      <td>190552</td>\n      <td>silver</td>\n      <td>2fmdk3gc4bbb02217</td>\n      <td>166951262</td>\n      <td>tennessee</td>\n      <td>usa</td>\n      <td>6 days left</td>\n      <td>156.0</td>\n    </tr>\n    <tr>\n      <th>2</th>\n      <td>5350</td>\n      <td>dodge</td>\n      <td>mpv</td>\n      <td>2018</td>\n      <td>clean vehicle</td>\n      <td>39590</td>\n      <td>silver</td>\n      <td>3c4pdcgg5jt346413</td>\n      <td>167655728</td>\n      <td>georgia</td>\n      <td>usa</td>\n      <td>2 days left</td>\n      <td>326.0</td>\n    </tr>\n    <tr>\n      <th>3</th>\n      <td>25000</td>\n      <td>ford</td>\n      <td>door</td>\n      <td>2014</td>\n      <td>clean vehicle</td>\n      <td>64146</td>\n      <td>blue</td>\n      <td>1ftfw1et4efc23745</td>\n      <td>167753855</td>\n      <td>virginia</td>\n      <td>usa</td>\n      <td>22 hours left</td>\n      <td>1824.0</td>\n    </tr>\n    <tr>\n      <th>4</th>\n      <td>27700</td>\n      <td>chevrolet</td>\n      <td>1500</td>\n      <td>2018</td>\n      <td>clean vehicle</td>\n      <td>6654</td>\n      <td>red</td>\n      <td>3gcpcrec2jg473991</td>\n      <td>167763266</td>\n      <td>florida</td>\n      <td>usa</td>\n      <td>22 hours left</td>\n      <td>2004.0</td>\n    </tr>\n    <tr>\n      <th>...</th>\n      <td>...</td>\n      <td>...</td>\n      <td>...</td>\n      <td>...</td>\n      <td>...</td>\n      <td>...</td>\n      <td>...</td>\n      <td>...</td>\n      <td>...</td>\n      <td>...</td>\n      <td>...</td>\n      <td>...</td>\n      <td>...</td>\n    </tr>\n    <tr>\n      <th>2494</th>\n      <td>7800</td>\n      <td>nissan</td>\n      <td>versa</td>\n      <td>2019</td>\n      <td>clean vehicle</td>\n      <td>23609</td>\n      <td>red</td>\n      <td>3n1cn7ap9kl880319</td>\n      <td>167722715</td>\n      <td>california</td>\n      <td>usa</td>\n      <td>1 days left</td>\n      <td>475.0</td>\n    </tr>\n    <tr>\n      <th>2495</th>\n      <td>9200</td>\n      <td>nissan</td>\n      <td>versa</td>\n      <td>2018</td>\n      <td>clean vehicle</td>\n      <td>34553</td>\n      <td>silver</td>\n      <td>3n1cn7ap5jl884088</td>\n      <td>167762225</td>\n      <td>florida</td>\n      <td>usa</td>\n      <td>21 hours left</td>\n      <td>567.0</td>\n    </tr>\n    <tr>\n      <th>2496</th>\n      <td>9200</td>\n      <td>nissan</td>\n      <td>versa</td>\n      <td>2018</td>\n      <td>clean vehicle</td>\n      <td>31594</td>\n      <td>silver</td>\n      <td>3n1cn7ap9jl884191</td>\n      <td>167762226</td>\n      <td>florida</td>\n      <td>usa</td>\n      <td>21 hours left</td>\n      <td>567.0</td>\n    </tr>\n    <tr>\n      <th>2497</th>\n      <td>9200</td>\n      <td>nissan</td>\n      <td>versa</td>\n      <td>2018</td>\n      <td>clean vehicle</td>\n      <td>32557</td>\n      <td>black</td>\n      <td>3n1cn7ap3jl883263</td>\n      <td>167762227</td>\n      <td>florida</td>\n      <td>usa</td>\n      <td>2 days left</td>\n      <td>567.0</td>\n    </tr>\n    <tr>\n      <th>2498</th>\n      <td>9200</td>\n      <td>nissan</td>\n      <td>versa</td>\n      <td>2018</td>\n      <td>clean vehicle</td>\n      <td>31371</td>\n      <td>silver</td>\n      <td>3n1cn7ap4jl884311</td>\n      <td>167762228</td>\n      <td>florida</td>\n      <td>usa</td>\n      <td>21 hours left</td>\n      <td>567.0</td>\n    </tr>\n  </tbody>\n</table>\n<p>2499 rows × 13 columns</p>\n</div>"
     },
     "execution_count": 15,
     "metadata": {},
     "output_type": "execute_result"
    }
   ],
   "source": [
    "df.loc[df['mileage'].idxmax()]\n",
    "df"
   ],
   "metadata": {
    "collapsed": false
   }
  },
  {
   "cell_type": "code",
   "execution_count": 17,
   "outputs": [
    {
     "name": "stdout",
     "output_type": "stream",
     "text": [
      "price                          1025\n",
      "brand                     peterbilt\n",
      "model                         truck\n",
      "year                           2010\n",
      "title_status      salvage insurance\n",
      "mileage                     1017936\n",
      "color                        color:\n",
      "vin               1xp7d49x0ad793710\n",
      "lot                       167529842\n",
      "state                       georgia\n",
      "country                         usa\n",
      "condition             17 hours left\n",
      "rank                           94.0\n",
      "Name: 528, dtype: object\n"
     ]
    }
   ],
   "source": [
    "km_driven_car = df.loc[df['mileage'].idxmax()]\n",
    "print(km_driven_car)"
   ],
   "metadata": {
    "collapsed": false
   }
  },
  {
   "cell_type": "code",
   "execution_count": 19,
   "outputs": [
    {
     "data": {
      "text/plain": "ford               1235\ndodge               432\nnissan              312\nchevrolet           297\ngmc                  42\njeep                 30\nchrysler             18\nbmw                  17\nhyundai              15\nkia                  13\nbuick                13\ninfiniti             12\nhonda                12\ncadillac             10\nmercedes-benz        10\nheartland             5\nland                  4\npeterbilt             4\naudi                  4\nacura                 3\nlincoln               2\nlexus                 2\nmazda                 2\nmaserati              1\ntoyota                1\nharley-davidson       1\njaguar                1\nram                   1\nName: brand, dtype: int64"
     },
     "execution_count": 19,
     "metadata": {},
     "output_type": "execute_result"
    }
   ],
   "source": [
    "df['brand'].value_counts()"
   ],
   "metadata": {
    "collapsed": false
   }
  },
  {
   "cell_type": "code",
   "execution_count": 20,
   "outputs": [
    {
     "name": "stdout",
     "output_type": "stream",
     "text": [
      "              price         year       mileage           lot         rank\n",
      "count   2499.000000  2499.000000  2.499000e+03  2.499000e+03  2499.000000\n",
      "mean   18767.671469  2016.714286  5.229869e+04  1.676914e+08  1246.594238\n",
      "std    12116.094936     3.442656  5.970552e+04  2.038772e+05   722.116072\n",
      "min        0.000000  1973.000000  0.000000e+00  1.593488e+08     1.000000\n",
      "25%    10200.000000  2016.000000  2.146650e+04  1.676253e+08   621.000000\n",
      "50%    16900.000000  2018.000000  3.536500e+04  1.677451e+08  1247.000000\n",
      "75%    25555.500000  2019.000000  6.347250e+04  1.677798e+08  1874.000000\n",
      "max    84900.000000  2020.000000  1.017936e+06  1.678055e+08  2499.000000\n"
     ]
    }
   ],
   "source": [
    "summary = df.describe()\n",
    "print(summary)"
   ],
   "metadata": {
    "collapsed": false
   }
  },
  {
   "cell_type": "code",
   "execution_count": 28,
   "outputs": [
    {
     "name": "stdout",
     "output_type": "stream",
     "text": [
      "      price brand   model  year   title_status  mileage     color  \\\n",
      "1      2899  ford      se  2011  clean vehicle   190552    silver   \n",
      "3     25000  ford    door  2014  clean vehicle    64146      blue   \n",
      "9      5250  ford     mpv  2017  clean vehicle    63418     black   \n",
      "14    20700  ford    door  2013  clean vehicle   100757     black   \n",
      "18     5210  ford     mpv  2017  clean vehicle    35714     white   \n",
      "...     ...   ...     ...   ...            ...      ...       ...   \n",
      "2199  13800  ford  fusion  2019  clean vehicle    29345     white   \n",
      "2200  56000  ford     srw  2018  clean vehicle    25371     black   \n",
      "2201  13800  ford  fusion  2019  clean vehicle    30054    silver   \n",
      "2202  45800  ford     srw  2018  clean vehicle    11173     white   \n",
      "2203  13800  ford  fusion  2019  clean vehicle    30902  no_color   \n",
      "\n",
      "                      vin        lot           state country      condition  \\\n",
      "1       2fmdk3gc4bbb02217  166951262       tennessee     usa    6 days left   \n",
      "3       1ftfw1et4efc23745  167753855        virginia     usa  22 hours left   \n",
      "9       2fmpk3j92hbc12542  167656121           texas     usa    2 days left   \n",
      "14      1ftfw1et7dfa47790  167753916        virginia     usa  22 hours left   \n",
      "18      2fmpk3j95hbb73607  167656124           texas     usa    2 days left   \n",
      "...                   ...        ...             ...     ...            ...   \n",
      "2199    3fa6p0lu1kr222799  167802379  north carolina     usa    2 days left   \n",
      "2200    1ft7w2bt4jec50359  167749689    pennsylvania     usa    3 days left   \n",
      "2201    3fa6p0lu3kr210749  167802380  north carolina     usa    2 days left   \n",
      "2202    1ft7w2bt3jeb02932  167749690    pennsylvania     usa    2 days left   \n",
      "2203    3fa6p0lu8kr225585  167802381  north carolina     usa    2 days left   \n",
      "\n",
      "        rank  \n",
      "1      156.0  \n",
      "3     1824.0  \n",
      "9      323.0  \n",
      "14    1523.0  \n",
      "18     322.0  \n",
      "...      ...  \n",
      "2199   905.0  \n",
      "2200  2476.0  \n",
      "2201   905.0  \n",
      "2202  2405.0  \n",
      "2203   905.0  \n",
      "\n",
      "[1235 rows x 13 columns]\n"
     ]
    }
   ],
   "source": [
    "ford_cars = df.loc[df['brand'] == 'ford']\n",
    "print(ford_cars)"
   ],
   "metadata": {
    "collapsed": false
   }
  },
  {
   "cell_type": "code",
   "execution_count": 27,
   "outputs": [
    {
     "name": "stdout",
     "output_type": "stream",
     "text": [
      "      price brand   model  year   title_status  mileage     color  \\\n",
      "1      2899  ford      se  2011  clean vehicle   190552    silver   \n",
      "3     25000  ford    door  2014  clean vehicle    64146      blue   \n",
      "9      5250  ford     mpv  2017  clean vehicle    63418     black   \n",
      "14    20700  ford    door  2013  clean vehicle   100757     black   \n",
      "18     5210  ford     mpv  2017  clean vehicle    35714     white   \n",
      "...     ...   ...     ...   ...            ...      ...       ...   \n",
      "2199  13800  ford  fusion  2019  clean vehicle    29345     white   \n",
      "2200  56000  ford     srw  2018  clean vehicle    25371     black   \n",
      "2201  13800  ford  fusion  2019  clean vehicle    30054    silver   \n",
      "2202  45800  ford     srw  2018  clean vehicle    11173     white   \n",
      "2203  13800  ford  fusion  2019  clean vehicle    30902  no_color   \n",
      "\n",
      "                      vin        lot           state country      condition  \\\n",
      "1       2fmdk3gc4bbb02217  166951262       tennessee     usa    6 days left   \n",
      "3       1ftfw1et4efc23745  167753855        virginia     usa  22 hours left   \n",
      "9       2fmpk3j92hbc12542  167656121           texas     usa    2 days left   \n",
      "14      1ftfw1et7dfa47790  167753916        virginia     usa  22 hours left   \n",
      "18      2fmpk3j95hbb73607  167656124           texas     usa    2 days left   \n",
      "...                   ...        ...             ...     ...            ...   \n",
      "2199    3fa6p0lu1kr222799  167802379  north carolina     usa    2 days left   \n",
      "2200    1ft7w2bt4jec50359  167749689    pennsylvania     usa    3 days left   \n",
      "2201    3fa6p0lu3kr210749  167802380  north carolina     usa    2 days left   \n",
      "2202    1ft7w2bt3jeb02932  167749690    pennsylvania     usa    2 days left   \n",
      "2203    3fa6p0lu8kr225585  167802381  north carolina     usa    2 days left   \n",
      "\n",
      "        rank  \n",
      "1      156.0  \n",
      "3     1824.0  \n",
      "9      323.0  \n",
      "14    1523.0  \n",
      "18     322.0  \n",
      "...      ...  \n",
      "2199   905.0  \n",
      "2200  2476.0  \n",
      "2201   905.0  \n",
      "2202  2405.0  \n",
      "2203   905.0  \n",
      "\n",
      "[1235 rows x 13 columns]\n"
     ]
    }
   ],
   "source": [
    "ford_cars = df.query('brand == \"ford\"')\n",
    "print(ford_cars)"
   ],
   "metadata": {
    "collapsed": false
   }
  },
  {
   "cell_type": "code",
   "execution_count": 40,
   "outputs": [
    {
     "name": "stdout",
     "output_type": "stream",
     "text": [
      "      price   brand model  year   title_status  mileage  color  \\\n",
      "2375  36300  nissan    xd  2017  clean vehicle    16224  white   \n",
      "\n",
      "                      vin        lot     state country      condition    rank  \n",
      "2375    1n6ba1f46hn535299  167753308  virginia     usa  21 hours left  2305.0  \n"
     ]
    },
    {
     "ename": "KeyError",
     "evalue": "'Brand'",
     "output_type": "error",
     "traceback": [
      "\u001B[0;31m---------------------------------------------------------------------------\u001B[0m",
      "\u001B[0;31mKeyError\u001B[0m                                  Traceback (most recent call last)",
      "File \u001B[0;32m/usr/local/lib/python3.10/dist-packages/pandas/core/indexes/base.py:3803\u001B[0m, in \u001B[0;36mIndex.get_loc\u001B[0;34m(self, key, method, tolerance)\u001B[0m\n\u001B[1;32m   3802\u001B[0m \u001B[38;5;28;01mtry\u001B[39;00m:\n\u001B[0;32m-> 3803\u001B[0m     \u001B[38;5;28;01mreturn\u001B[39;00m \u001B[38;5;28;43mself\u001B[39;49m\u001B[38;5;241;43m.\u001B[39;49m\u001B[43m_engine\u001B[49m\u001B[38;5;241;43m.\u001B[39;49m\u001B[43mget_loc\u001B[49m\u001B[43m(\u001B[49m\u001B[43mcasted_key\u001B[49m\u001B[43m)\u001B[49m\n\u001B[1;32m   3804\u001B[0m \u001B[38;5;28;01mexcept\u001B[39;00m \u001B[38;5;167;01mKeyError\u001B[39;00m \u001B[38;5;28;01mas\u001B[39;00m err:\n",
      "File \u001B[0;32m/usr/local/lib/python3.10/dist-packages/pandas/_libs/index.pyx:138\u001B[0m, in \u001B[0;36mpandas._libs.index.IndexEngine.get_loc\u001B[0;34m()\u001B[0m\n",
      "File \u001B[0;32m/usr/local/lib/python3.10/dist-packages/pandas/_libs/index.pyx:165\u001B[0m, in \u001B[0;36mpandas._libs.index.IndexEngine.get_loc\u001B[0;34m()\u001B[0m\n",
      "File \u001B[0;32mpandas/_libs/hashtable_class_helper.pxi:5745\u001B[0m, in \u001B[0;36mpandas._libs.hashtable.PyObjectHashTable.get_item\u001B[0;34m()\u001B[0m\n",
      "File \u001B[0;32mpandas/_libs/hashtable_class_helper.pxi:5753\u001B[0m, in \u001B[0;36mpandas._libs.hashtable.PyObjectHashTable.get_item\u001B[0;34m()\u001B[0m\n",
      "\u001B[0;31mKeyError\u001B[0m: 'Brand'",
      "\nThe above exception was the direct cause of the following exception:\n",
      "\u001B[0;31mKeyError\u001B[0m                                  Traceback (most recent call last)",
      "Cell \u001B[0;32mIn[40], line 3\u001B[0m\n\u001B[1;32m      1\u001B[0m most_expensive_nissan \u001B[38;5;241m=\u001B[39m df\u001B[38;5;241m.\u001B[39mloc[df[\u001B[38;5;124m'\u001B[39m\u001B[38;5;124mbrand\u001B[39m\u001B[38;5;124m'\u001B[39m] \u001B[38;5;241m==\u001B[39m \u001B[38;5;124m'\u001B[39m\u001B[38;5;124mnissan\u001B[39m\u001B[38;5;124m'\u001B[39m]\u001B[38;5;241m.\u001B[39mnlargest(\u001B[38;5;241m1\u001B[39m,\u001B[38;5;124m'\u001B[39m\u001B[38;5;124mprice\u001B[39m\u001B[38;5;124m'\u001B[39m)\n\u001B[1;32m      2\u001B[0m \u001B[38;5;28mprint\u001B[39m(most_expensive_nissan)\n\u001B[0;32m----> 3\u001B[0m cheapest_nissan \u001B[38;5;241m=\u001B[39m df\u001B[38;5;241m.\u001B[39mloc[\u001B[43mdf\u001B[49m\u001B[43m[\u001B[49m\u001B[38;5;124;43m'\u001B[39;49m\u001B[38;5;124;43mBrand\u001B[39;49m\u001B[38;5;124;43m'\u001B[39;49m\u001B[43m]\u001B[49m \u001B[38;5;241m==\u001B[39m \u001B[38;5;124m'\u001B[39m\u001B[38;5;124mNissan\u001B[39m\u001B[38;5;124m'\u001B[39m]\u001B[38;5;241m.\u001B[39mnsmallest(\u001B[38;5;241m1\u001B[39m,\u001B[38;5;124m'\u001B[39m\u001B[38;5;124mPrice\u001B[39m\u001B[38;5;124m'\u001B[39m)\n\u001B[1;32m      4\u001B[0m \u001B[38;5;28mprint\u001B[39m(cheapest_nissan)\n",
      "File \u001B[0;32m/usr/local/lib/python3.10/dist-packages/pandas/core/frame.py:3805\u001B[0m, in \u001B[0;36mDataFrame.__getitem__\u001B[0;34m(self, key)\u001B[0m\n\u001B[1;32m   3803\u001B[0m \u001B[38;5;28;01mif\u001B[39;00m \u001B[38;5;28mself\u001B[39m\u001B[38;5;241m.\u001B[39mcolumns\u001B[38;5;241m.\u001B[39mnlevels \u001B[38;5;241m>\u001B[39m \u001B[38;5;241m1\u001B[39m:\n\u001B[1;32m   3804\u001B[0m     \u001B[38;5;28;01mreturn\u001B[39;00m \u001B[38;5;28mself\u001B[39m\u001B[38;5;241m.\u001B[39m_getitem_multilevel(key)\n\u001B[0;32m-> 3805\u001B[0m indexer \u001B[38;5;241m=\u001B[39m \u001B[38;5;28;43mself\u001B[39;49m\u001B[38;5;241;43m.\u001B[39;49m\u001B[43mcolumns\u001B[49m\u001B[38;5;241;43m.\u001B[39;49m\u001B[43mget_loc\u001B[49m\u001B[43m(\u001B[49m\u001B[43mkey\u001B[49m\u001B[43m)\u001B[49m\n\u001B[1;32m   3806\u001B[0m \u001B[38;5;28;01mif\u001B[39;00m is_integer(indexer):\n\u001B[1;32m   3807\u001B[0m     indexer \u001B[38;5;241m=\u001B[39m [indexer]\n",
      "File \u001B[0;32m/usr/local/lib/python3.10/dist-packages/pandas/core/indexes/base.py:3805\u001B[0m, in \u001B[0;36mIndex.get_loc\u001B[0;34m(self, key, method, tolerance)\u001B[0m\n\u001B[1;32m   3803\u001B[0m     \u001B[38;5;28;01mreturn\u001B[39;00m \u001B[38;5;28mself\u001B[39m\u001B[38;5;241m.\u001B[39m_engine\u001B[38;5;241m.\u001B[39mget_loc(casted_key)\n\u001B[1;32m   3804\u001B[0m \u001B[38;5;28;01mexcept\u001B[39;00m \u001B[38;5;167;01mKeyError\u001B[39;00m \u001B[38;5;28;01mas\u001B[39;00m err:\n\u001B[0;32m-> 3805\u001B[0m     \u001B[38;5;28;01mraise\u001B[39;00m \u001B[38;5;167;01mKeyError\u001B[39;00m(key) \u001B[38;5;28;01mfrom\u001B[39;00m \u001B[38;5;21;01merr\u001B[39;00m\n\u001B[1;32m   3806\u001B[0m \u001B[38;5;28;01mexcept\u001B[39;00m \u001B[38;5;167;01mTypeError\u001B[39;00m:\n\u001B[1;32m   3807\u001B[0m     \u001B[38;5;66;03m# If we have a listlike key, _check_indexing_error will raise\u001B[39;00m\n\u001B[1;32m   3808\u001B[0m     \u001B[38;5;66;03m#  InvalidIndexError. Otherwise we fall through and re-raise\u001B[39;00m\n\u001B[1;32m   3809\u001B[0m     \u001B[38;5;66;03m#  the TypeError.\u001B[39;00m\n\u001B[1;32m   3810\u001B[0m     \u001B[38;5;28mself\u001B[39m\u001B[38;5;241m.\u001B[39m_check_indexing_error(key)\n",
      "\u001B[0;31mKeyError\u001B[0m: 'Brand'"
     ]
    }
   ],
   "source": [
    "most_expensive_nissan = df.loc[df['brand'] == 'nissan'].nlargest(1,'price')\n",
    "print(most_expensive_nissan)\n",
    "cheapest_nissan = df.loc[df['Brand'] == 'Nissan'].nsmallest(1,'Price')\n",
    "print(cheapest_nissan)"
   ],
   "metadata": {
    "collapsed": false
   }
  },
  {
   "cell_type": "code",
   "execution_count": 43,
   "outputs": [
    {
     "name": "stdout",
     "output_type": "stream",
     "text": [
      "      price   brand model  year   title_status  mileage  color  \\\n",
      "2375  36300  nissan    xd  2017  clean vehicle    16224  white   \n",
      "\n",
      "                      vin        lot     state country      condition    rank  \n",
      "2375    1n6ba1f46hn535299  167753308  virginia     usa  21 hours left  2305.0         price   brand model  year       title_status  mileage color  \\\n",
      "2417    375  nissan  door  2017  salvage insurance        1   red   \n",
      "\n",
      "                      vin        lot           state country    condition  \\\n",
      "2417    3n1ce2cp0hl360793  167619908  north carolina     usa  2 days left   \n",
      "\n",
      "      rank  \n",
      "2417  74.0  \n"
     ]
    }
   ],
   "source": [
    "most_expensive_nissan = df.loc[df['brand'] == 'nissan'].nlargest(1,'price')\n",
    "cheapest_nissan = df.loc[df['brand'] == 'nissan'].nsmallest(1,'price')\n",
    "print(most_expensive_nissan, cheapest_nissan)"
   ],
   "metadata": {
    "collapsed": false
   }
  },
  {
   "cell_type": "code",
   "execution_count": 52,
   "outputs": [
    {
     "ename": "KeyError",
     "evalue": "'model'",
     "output_type": "error",
     "traceback": [
      "\u001B[0;31m---------------------------------------------------------------------------\u001B[0m",
      "\u001B[0;31mKeyError\u001B[0m                                  Traceback (most recent call last)",
      "File \u001B[0;32m/usr/local/lib/python3.10/dist-packages/pandas/core/indexes/base.py:3803\u001B[0m, in \u001B[0;36mIndex.get_loc\u001B[0;34m(self, key, method, tolerance)\u001B[0m\n\u001B[1;32m   3802\u001B[0m \u001B[38;5;28;01mtry\u001B[39;00m:\n\u001B[0;32m-> 3803\u001B[0m     \u001B[38;5;28;01mreturn\u001B[39;00m \u001B[38;5;28;43mself\u001B[39;49m\u001B[38;5;241;43m.\u001B[39;49m\u001B[43m_engine\u001B[49m\u001B[38;5;241;43m.\u001B[39;49m\u001B[43mget_loc\u001B[49m\u001B[43m(\u001B[49m\u001B[43mcasted_key\u001B[49m\u001B[43m)\u001B[49m\n\u001B[1;32m   3804\u001B[0m \u001B[38;5;28;01mexcept\u001B[39;00m \u001B[38;5;167;01mKeyError\u001B[39;00m \u001B[38;5;28;01mas\u001B[39;00m err:\n",
      "File \u001B[0;32m/usr/local/lib/python3.10/dist-packages/pandas/_libs/index.pyx:138\u001B[0m, in \u001B[0;36mpandas._libs.index.IndexEngine.get_loc\u001B[0;34m()\u001B[0m\n",
      "File \u001B[0;32m/usr/local/lib/python3.10/dist-packages/pandas/_libs/index.pyx:146\u001B[0m, in \u001B[0;36mpandas._libs.index.IndexEngine.get_loc\u001B[0;34m()\u001B[0m\n",
      "File \u001B[0;32mpandas/_libs/index_class_helper.pxi:49\u001B[0m, in \u001B[0;36mpandas._libs.index.Int64Engine._check_type\u001B[0;34m()\u001B[0m\n",
      "\u001B[0;31mKeyError\u001B[0m: 'model'",
      "\nThe above exception was the direct cause of the following exception:\n",
      "\u001B[0;31mKeyError\u001B[0m                                  Traceback (most recent call last)",
      "Cell \u001B[0;32mIn[52], line 2\u001B[0m\n\u001B[1;32m      1\u001B[0m chevrolet_model \u001B[38;5;241m=\u001B[39m df\u001B[38;5;241m.\u001B[39mloc[df[\u001B[38;5;124m'\u001B[39m\u001B[38;5;124mbrand\u001B[39m\u001B[38;5;124m'\u001B[39m] \u001B[38;5;241m==\u001B[39m \u001B[38;5;124m'\u001B[39m\u001B[38;5;124mchevrolet\u001B[39m\u001B[38;5;124m'\u001B[39m]\u001B[38;5;241m.\u001B[39mvalue_counts()\n\u001B[0;32m----> 2\u001B[0m \u001B[43mchevrolet_model\u001B[49m\u001B[43m[\u001B[49m\u001B[38;5;124;43m'\u001B[39;49m\u001B[38;5;124;43mmodel\u001B[39;49m\u001B[38;5;124;43m'\u001B[39;49m\u001B[43m]\u001B[49m\n",
      "File \u001B[0;32m/usr/local/lib/python3.10/dist-packages/pandas/core/series.py:981\u001B[0m, in \u001B[0;36mSeries.__getitem__\u001B[0;34m(self, key)\u001B[0m\n\u001B[1;32m    978\u001B[0m     \u001B[38;5;28;01mreturn\u001B[39;00m \u001B[38;5;28mself\u001B[39m\u001B[38;5;241m.\u001B[39m_values[key]\n\u001B[1;32m    980\u001B[0m \u001B[38;5;28;01melif\u001B[39;00m key_is_scalar:\n\u001B[0;32m--> 981\u001B[0m     \u001B[38;5;28;01mreturn\u001B[39;00m \u001B[38;5;28;43mself\u001B[39;49m\u001B[38;5;241;43m.\u001B[39;49m\u001B[43m_get_value\u001B[49m\u001B[43m(\u001B[49m\u001B[43mkey\u001B[49m\u001B[43m)\u001B[49m\n\u001B[1;32m    983\u001B[0m \u001B[38;5;28;01mif\u001B[39;00m is_hashable(key):\n\u001B[1;32m    984\u001B[0m     \u001B[38;5;66;03m# Otherwise index.get_value will raise InvalidIndexError\u001B[39;00m\n\u001B[1;32m    985\u001B[0m     \u001B[38;5;28;01mtry\u001B[39;00m:\n\u001B[1;32m    986\u001B[0m         \u001B[38;5;66;03m# For labels that don't resolve as scalars like tuples and frozensets\u001B[39;00m\n",
      "File \u001B[0;32m/usr/local/lib/python3.10/dist-packages/pandas/core/series.py:1089\u001B[0m, in \u001B[0;36mSeries._get_value\u001B[0;34m(self, label, takeable)\u001B[0m\n\u001B[1;32m   1086\u001B[0m     \u001B[38;5;28;01mreturn\u001B[39;00m \u001B[38;5;28mself\u001B[39m\u001B[38;5;241m.\u001B[39m_values[label]\n\u001B[1;32m   1088\u001B[0m \u001B[38;5;66;03m# Similar to Index.get_value, but we do not fall back to positional\u001B[39;00m\n\u001B[0;32m-> 1089\u001B[0m loc \u001B[38;5;241m=\u001B[39m \u001B[38;5;28;43mself\u001B[39;49m\u001B[38;5;241;43m.\u001B[39;49m\u001B[43mindex\u001B[49m\u001B[38;5;241;43m.\u001B[39;49m\u001B[43mget_loc\u001B[49m\u001B[43m(\u001B[49m\u001B[43mlabel\u001B[49m\u001B[43m)\u001B[49m\n\u001B[1;32m   1090\u001B[0m \u001B[38;5;28;01mreturn\u001B[39;00m \u001B[38;5;28mself\u001B[39m\u001B[38;5;241m.\u001B[39mindex\u001B[38;5;241m.\u001B[39m_get_values_for_loc(\u001B[38;5;28mself\u001B[39m, loc, label)\n",
      "File \u001B[0;32m/usr/local/lib/python3.10/dist-packages/pandas/core/indexes/multi.py:2916\u001B[0m, in \u001B[0;36mMultiIndex.get_loc\u001B[0;34m(self, key, method)\u001B[0m\n\u001B[1;32m   2913\u001B[0m     \u001B[38;5;28;01mreturn\u001B[39;00m mask\n\u001B[1;32m   2915\u001B[0m \u001B[38;5;28;01mif\u001B[39;00m \u001B[38;5;129;01mnot\u001B[39;00m \u001B[38;5;28misinstance\u001B[39m(key, \u001B[38;5;28mtuple\u001B[39m):\n\u001B[0;32m-> 2916\u001B[0m     loc \u001B[38;5;241m=\u001B[39m \u001B[38;5;28;43mself\u001B[39;49m\u001B[38;5;241;43m.\u001B[39;49m\u001B[43m_get_level_indexer\u001B[49m\u001B[43m(\u001B[49m\u001B[43mkey\u001B[49m\u001B[43m,\u001B[49m\u001B[43m \u001B[49m\u001B[43mlevel\u001B[49m\u001B[38;5;241;43m=\u001B[39;49m\u001B[38;5;241;43m0\u001B[39;49m\u001B[43m)\u001B[49m\n\u001B[1;32m   2917\u001B[0m     \u001B[38;5;28;01mreturn\u001B[39;00m _maybe_to_slice(loc)\n\u001B[1;32m   2919\u001B[0m keylen \u001B[38;5;241m=\u001B[39m \u001B[38;5;28mlen\u001B[39m(key)\n",
      "File \u001B[0;32m/usr/local/lib/python3.10/dist-packages/pandas/core/indexes/multi.py:3263\u001B[0m, in \u001B[0;36mMultiIndex._get_level_indexer\u001B[0;34m(self, key, level, indexer)\u001B[0m\n\u001B[1;32m   3259\u001B[0m         \u001B[38;5;28;01mreturn\u001B[39;00m \u001B[38;5;28mslice\u001B[39m(i, j, step)\n\u001B[1;32m   3261\u001B[0m \u001B[38;5;28;01melse\u001B[39;00m:\n\u001B[0;32m-> 3263\u001B[0m     idx \u001B[38;5;241m=\u001B[39m \u001B[38;5;28;43mself\u001B[39;49m\u001B[38;5;241;43m.\u001B[39;49m\u001B[43m_get_loc_single_level_index\u001B[49m\u001B[43m(\u001B[49m\u001B[43mlevel_index\u001B[49m\u001B[43m,\u001B[49m\u001B[43m \u001B[49m\u001B[43mkey\u001B[49m\u001B[43m)\u001B[49m\n\u001B[1;32m   3265\u001B[0m     \u001B[38;5;28;01mif\u001B[39;00m level \u001B[38;5;241m>\u001B[39m \u001B[38;5;241m0\u001B[39m \u001B[38;5;129;01mor\u001B[39;00m \u001B[38;5;28mself\u001B[39m\u001B[38;5;241m.\u001B[39m_lexsort_depth \u001B[38;5;241m==\u001B[39m \u001B[38;5;241m0\u001B[39m:\n\u001B[1;32m   3266\u001B[0m         \u001B[38;5;66;03m# Desired level is not sorted\u001B[39;00m\n\u001B[1;32m   3267\u001B[0m         \u001B[38;5;28;01mif\u001B[39;00m \u001B[38;5;28misinstance\u001B[39m(idx, \u001B[38;5;28mslice\u001B[39m):\n\u001B[1;32m   3268\u001B[0m             \u001B[38;5;66;03m# test_get_loc_partial_timestamp_multiindex\u001B[39;00m\n",
      "File \u001B[0;32m/usr/local/lib/python3.10/dist-packages/pandas/core/indexes/multi.py:2849\u001B[0m, in \u001B[0;36mMultiIndex._get_loc_single_level_index\u001B[0;34m(self, level_index, key)\u001B[0m\n\u001B[1;32m   2847\u001B[0m     \u001B[38;5;28;01mreturn\u001B[39;00m \u001B[38;5;241m-\u001B[39m\u001B[38;5;241m1\u001B[39m\n\u001B[1;32m   2848\u001B[0m \u001B[38;5;28;01melse\u001B[39;00m:\n\u001B[0;32m-> 2849\u001B[0m     \u001B[38;5;28;01mreturn\u001B[39;00m \u001B[43mlevel_index\u001B[49m\u001B[38;5;241;43m.\u001B[39;49m\u001B[43mget_loc\u001B[49m\u001B[43m(\u001B[49m\u001B[43mkey\u001B[49m\u001B[43m)\u001B[49m\n",
      "File \u001B[0;32m/usr/local/lib/python3.10/dist-packages/pandas/core/indexes/base.py:3805\u001B[0m, in \u001B[0;36mIndex.get_loc\u001B[0;34m(self, key, method, tolerance)\u001B[0m\n\u001B[1;32m   3803\u001B[0m     \u001B[38;5;28;01mreturn\u001B[39;00m \u001B[38;5;28mself\u001B[39m\u001B[38;5;241m.\u001B[39m_engine\u001B[38;5;241m.\u001B[39mget_loc(casted_key)\n\u001B[1;32m   3804\u001B[0m \u001B[38;5;28;01mexcept\u001B[39;00m \u001B[38;5;167;01mKeyError\u001B[39;00m \u001B[38;5;28;01mas\u001B[39;00m err:\n\u001B[0;32m-> 3805\u001B[0m     \u001B[38;5;28;01mraise\u001B[39;00m \u001B[38;5;167;01mKeyError\u001B[39;00m(key) \u001B[38;5;28;01mfrom\u001B[39;00m \u001B[38;5;21;01merr\u001B[39;00m\n\u001B[1;32m   3806\u001B[0m \u001B[38;5;28;01mexcept\u001B[39;00m \u001B[38;5;167;01mTypeError\u001B[39;00m:\n\u001B[1;32m   3807\u001B[0m     \u001B[38;5;66;03m# If we have a listlike key, _check_indexing_error will raise\u001B[39;00m\n\u001B[1;32m   3808\u001B[0m     \u001B[38;5;66;03m#  InvalidIndexError. Otherwise we fall through and re-raise\u001B[39;00m\n\u001B[1;32m   3809\u001B[0m     \u001B[38;5;66;03m#  the TypeError.\u001B[39;00m\n\u001B[1;32m   3810\u001B[0m     \u001B[38;5;28mself\u001B[39m\u001B[38;5;241m.\u001B[39m_check_indexing_error(key)\n",
      "\u001B[0;31mKeyError\u001B[0m: 'model'"
     ]
    }
   ],
   "source": [
    "chevy_models = df.loc[df['brand'] == 'chevrolet','model']\n",
    "chevy_models"
   ],
   "metadata": {
    "collapsed": false
   }
  },
  {
   "cell_type": "markdown",
   "source": [],
   "metadata": {
    "collapsed": false
   }
  },
  {
   "cell_type": "code",
   "execution_count": 54,
   "outputs": [
    {
     "data": {
      "text/plain": "0.418273568491795"
     },
     "execution_count": 54,
     "metadata": {},
     "output_type": "execute_result"
    }
   ],
   "source": [
    "df['price'].corr(df['year'])"
   ],
   "metadata": {
    "collapsed": false
   }
  },
  {
   "cell_type": "code",
   "execution_count": 57,
   "outputs": [
    {
     "name": "stderr",
     "output_type": "stream",
     "text": [
      "/tmp/ipykernel_13347/464148923.py:1: FutureWarning: The default value of numeric_only in DataFrame.corrwith is deprecated. In a future version, it will default to False. Select only valid columns or specify the value of numeric_only to silence this warning.\n",
      "  df.corrwith(df['price'])\n"
     ]
    },
    {
     "data": {
      "text/plain": "price      1.000000\nyear       0.418274\nmileage   -0.400838\nlot        0.159369\nrank       0.950311\ndtype: float64"
     },
     "execution_count": 57,
     "metadata": {},
     "output_type": "execute_result"
    }
   ],
   "source": [
    "df.corrwith(df['price'])"
   ],
   "metadata": {
    "collapsed": false
   }
  },
  {
   "cell_type": "code",
   "execution_count": 59,
   "outputs": [
    {
     "data": {
      "text/plain": "0       cruiser\n1            se\n2           mpv\n3          door\n4          1500\n         ...   \n2494      versa\n2495      versa\n2496      versa\n2497      versa\n2498      versa\nName: model, Length: 2499, dtype: object"
     },
     "execution_count": 59,
     "metadata": {},
     "output_type": "execute_result"
    }
   ],
   "source": [
    "models = ['kia', 'hyundai']\n",
    "mask = df['model']\n",
    "mask"
   ],
   "metadata": {
    "collapsed": false
   }
  },
  {
   "cell_type": "code",
   "execution_count": 61,
   "outputs": [
    {
     "data": {
      "text/plain": "     price    brand     model  year       title_status  mileage  \\\n16    5200      kia     forte  2018      clean vehicle    46194   \n21    7300      kia     forte  2018      clean vehicle    38823   \n26   21500      kia   sorento  2020      clean vehicle    11451   \n287   8200  hyundai      door  2017      clean vehicle    56690   \n288   3000      kia      door  2013      clean vehicle    97142   \n291  12700      kia      soul  2019      clean vehicle    23514   \n292  13800      kia   sorento  2017      clean vehicle    86959   \n296   9800  hyundai   elantra  2017      clean vehicle    35687   \n366   5350  hyundai       mpv  2019      clean vehicle    43536   \n389   3760  hyundai     doors  2019      clean vehicle    30382   \n417   5998  hyundai     doors  2014      clean vehicle   122975   \n419      0      kia     wagon  2008  salvage insurance   148463   \n424   3960  hyundai     doors  2019      clean vehicle    35623   \n438   4010  hyundai     doors  2019      clean vehicle    31233   \n440  13000      kia  sportage  2017      clean vehicle    71991   \n450   4690  hyundai       mpv  2019      clean vehicle    33785   \n463   8000  hyundai      door  2015      clean vehicle    88274   \n486   4730  hyundai       mpv  2019      clean vehicle    30121   \n513   4650  hyundai       mpv  2019      clean vehicle    27492   \n525   3440  hyundai     doors  2019      clean vehicle    34895   \n527   3810      kia      door  2016      clean vehicle    39408   \n537   4750  hyundai       mpv  2019      clean vehicle    25847   \n549   3460  hyundai      door  2012      clean vehicle   142106   \n551   3250  hyundai      door  2015      clean vehicle   111612   \n623  14000      kia   sorento  2017      clean vehicle    53424   \n626  13300      kia      door  2017      clean vehicle    37125   \n629  15500      kia   sorento  2017      clean vehicle    37668   \n631  21500      kia   sorento  2017      clean vehicle    43761   \n\n             color                  vin        lot           state country  \\\n16            blue    3kpfk4a77je198723  167801757  north carolina     usa   \n21           black    3kpfl4a79je272611  167801773  north carolina     usa   \n26            blue    5xypg4a59lg616029  167801828  north carolina     usa   \n287          white    5npd84lf6hh128808  167117726     connecticut     usa   \n288         silver    knagm4a75d5378293  167552545        missouri     usa   \n291         silver    kndjp3a55k7006351  167679072      california     usa   \n292           gray    5xyphda50hg232046  167803771  north carolina     usa   \n296            red    kmhd84lf5hu191402  167117732     connecticut     usa   \n366           blue    km8j33a49ku860727  167698680         florida     usa   \n389         silver    5npd84lf6kh456317  167698685         florida     usa   \n417  phantom black    5npdh4ae0eh480157  167279690        new york     usa   \n419         silver    knafg525787197602  167247592         indiana     usa   \n424            red    5npd84lf5kh403222  167697946            ohio     usa   \n438         silver    kmhd84lf4ku746279  167697947            ohio     usa   \n440         silver    kndpn3ac7h7113313  167606881      new jersey     usa   \n450         silver    km8k12aa0ku242609  167697948            ohio     usa   \n463            red    km8jucag9fu984199  167607388    pennsylvania     usa   \n486            red    km8j23a45ku893842  167697951            ohio     usa   \n513          white    km8j23a44ku882752  167697953            ohio     usa   \n525           gray    3kpc24a34ke050725  167697954            ohio     usa   \n527          black    kndjx3ae3g7012477  167692796      california     usa   \n537           gray    km8j23a4xku846404  167697955            ohio     usa   \n549          white    5npeb4ac2ch437716  167697983     mississippi     usa   \n551           gray    5npdh4ae3fh644096  167692885      california     usa   \n623          black    5xypgda51hg221253  167119104     connecticut     usa   \n626       no_color    5xypgda39hg262132  167119105     connecticut     usa   \n629            red    5xypgda59hg292944  167119106     connecticut     usa   \n631           gray    5xypkda50hg299327  167119107     connecticut     usa   \n\n         condition    rank  \n16     2 days left   317.0  \n21     2 days left   438.0  \n26     2 days left  1560.0  \n287   5 hours left   505.0  \n288    9 days left   163.0  \n291   10 days left   805.0  \n292    3 days left   905.0  \n296   5 hours left   603.0  \n366  22 hours left   326.0  \n389  22 hours left   216.0  \n417    5 days left   358.0  \n419  16 hours left     1.0  \n424    2 days left   232.0  \n438    2 days left   240.0  \n440   2 hours left   835.0  \n450    2 days left   290.0  \n463    7 days left   485.0  \n486    2 days left   295.0  \n513    2 days left   289.0  \n525    2 days left   192.0  \n527  20 hours left   222.0  \n537    2 days left   296.0  \n549    2 days left   197.0  \n551  20 hours left   185.0  \n623   5 hours left   944.0  \n626   5 hours left   861.0  \n629   5 hours left  1082.0  \n631   5 hours left  1560.0  ",
      "text/html": "<div>\n<style scoped>\n    .dataframe tbody tr th:only-of-type {\n        vertical-align: middle;\n    }\n\n    .dataframe tbody tr th {\n        vertical-align: top;\n    }\n\n    .dataframe thead th {\n        text-align: right;\n    }\n</style>\n<table border=\"1\" class=\"dataframe\">\n  <thead>\n    <tr style=\"text-align: right;\">\n      <th></th>\n      <th>price</th>\n      <th>brand</th>\n      <th>model</th>\n      <th>year</th>\n      <th>title_status</th>\n      <th>mileage</th>\n      <th>color</th>\n      <th>vin</th>\n      <th>lot</th>\n      <th>state</th>\n      <th>country</th>\n      <th>condition</th>\n      <th>rank</th>\n    </tr>\n  </thead>\n  <tbody>\n    <tr>\n      <th>16</th>\n      <td>5200</td>\n      <td>kia</td>\n      <td>forte</td>\n      <td>2018</td>\n      <td>clean vehicle</td>\n      <td>46194</td>\n      <td>blue</td>\n      <td>3kpfk4a77je198723</td>\n      <td>167801757</td>\n      <td>north carolina</td>\n      <td>usa</td>\n      <td>2 days left</td>\n      <td>317.0</td>\n    </tr>\n    <tr>\n      <th>21</th>\n      <td>7300</td>\n      <td>kia</td>\n      <td>forte</td>\n      <td>2018</td>\n      <td>clean vehicle</td>\n      <td>38823</td>\n      <td>black</td>\n      <td>3kpfl4a79je272611</td>\n      <td>167801773</td>\n      <td>north carolina</td>\n      <td>usa</td>\n      <td>2 days left</td>\n      <td>438.0</td>\n    </tr>\n    <tr>\n      <th>26</th>\n      <td>21500</td>\n      <td>kia</td>\n      <td>sorento</td>\n      <td>2020</td>\n      <td>clean vehicle</td>\n      <td>11451</td>\n      <td>blue</td>\n      <td>5xypg4a59lg616029</td>\n      <td>167801828</td>\n      <td>north carolina</td>\n      <td>usa</td>\n      <td>2 days left</td>\n      <td>1560.0</td>\n    </tr>\n    <tr>\n      <th>287</th>\n      <td>8200</td>\n      <td>hyundai</td>\n      <td>door</td>\n      <td>2017</td>\n      <td>clean vehicle</td>\n      <td>56690</td>\n      <td>white</td>\n      <td>5npd84lf6hh128808</td>\n      <td>167117726</td>\n      <td>connecticut</td>\n      <td>usa</td>\n      <td>5 hours left</td>\n      <td>505.0</td>\n    </tr>\n    <tr>\n      <th>288</th>\n      <td>3000</td>\n      <td>kia</td>\n      <td>door</td>\n      <td>2013</td>\n      <td>clean vehicle</td>\n      <td>97142</td>\n      <td>silver</td>\n      <td>knagm4a75d5378293</td>\n      <td>167552545</td>\n      <td>missouri</td>\n      <td>usa</td>\n      <td>9 days left</td>\n      <td>163.0</td>\n    </tr>\n    <tr>\n      <th>291</th>\n      <td>12700</td>\n      <td>kia</td>\n      <td>soul</td>\n      <td>2019</td>\n      <td>clean vehicle</td>\n      <td>23514</td>\n      <td>silver</td>\n      <td>kndjp3a55k7006351</td>\n      <td>167679072</td>\n      <td>california</td>\n      <td>usa</td>\n      <td>10 days left</td>\n      <td>805.0</td>\n    </tr>\n    <tr>\n      <th>292</th>\n      <td>13800</td>\n      <td>kia</td>\n      <td>sorento</td>\n      <td>2017</td>\n      <td>clean vehicle</td>\n      <td>86959</td>\n      <td>gray</td>\n      <td>5xyphda50hg232046</td>\n      <td>167803771</td>\n      <td>north carolina</td>\n      <td>usa</td>\n      <td>3 days left</td>\n      <td>905.0</td>\n    </tr>\n    <tr>\n      <th>296</th>\n      <td>9800</td>\n      <td>hyundai</td>\n      <td>elantra</td>\n      <td>2017</td>\n      <td>clean vehicle</td>\n      <td>35687</td>\n      <td>red</td>\n      <td>kmhd84lf5hu191402</td>\n      <td>167117732</td>\n      <td>connecticut</td>\n      <td>usa</td>\n      <td>5 hours left</td>\n      <td>603.0</td>\n    </tr>\n    <tr>\n      <th>366</th>\n      <td>5350</td>\n      <td>hyundai</td>\n      <td>mpv</td>\n      <td>2019</td>\n      <td>clean vehicle</td>\n      <td>43536</td>\n      <td>blue</td>\n      <td>km8j33a49ku860727</td>\n      <td>167698680</td>\n      <td>florida</td>\n      <td>usa</td>\n      <td>22 hours left</td>\n      <td>326.0</td>\n    </tr>\n    <tr>\n      <th>389</th>\n      <td>3760</td>\n      <td>hyundai</td>\n      <td>doors</td>\n      <td>2019</td>\n      <td>clean vehicle</td>\n      <td>30382</td>\n      <td>silver</td>\n      <td>5npd84lf6kh456317</td>\n      <td>167698685</td>\n      <td>florida</td>\n      <td>usa</td>\n      <td>22 hours left</td>\n      <td>216.0</td>\n    </tr>\n    <tr>\n      <th>417</th>\n      <td>5998</td>\n      <td>hyundai</td>\n      <td>doors</td>\n      <td>2014</td>\n      <td>clean vehicle</td>\n      <td>122975</td>\n      <td>phantom black</td>\n      <td>5npdh4ae0eh480157</td>\n      <td>167279690</td>\n      <td>new york</td>\n      <td>usa</td>\n      <td>5 days left</td>\n      <td>358.0</td>\n    </tr>\n    <tr>\n      <th>419</th>\n      <td>0</td>\n      <td>kia</td>\n      <td>wagon</td>\n      <td>2008</td>\n      <td>salvage insurance</td>\n      <td>148463</td>\n      <td>silver</td>\n      <td>knafg525787197602</td>\n      <td>167247592</td>\n      <td>indiana</td>\n      <td>usa</td>\n      <td>16 hours left</td>\n      <td>1.0</td>\n    </tr>\n    <tr>\n      <th>424</th>\n      <td>3960</td>\n      <td>hyundai</td>\n      <td>doors</td>\n      <td>2019</td>\n      <td>clean vehicle</td>\n      <td>35623</td>\n      <td>red</td>\n      <td>5npd84lf5kh403222</td>\n      <td>167697946</td>\n      <td>ohio</td>\n      <td>usa</td>\n      <td>2 days left</td>\n      <td>232.0</td>\n    </tr>\n    <tr>\n      <th>438</th>\n      <td>4010</td>\n      <td>hyundai</td>\n      <td>doors</td>\n      <td>2019</td>\n      <td>clean vehicle</td>\n      <td>31233</td>\n      <td>silver</td>\n      <td>kmhd84lf4ku746279</td>\n      <td>167697947</td>\n      <td>ohio</td>\n      <td>usa</td>\n      <td>2 days left</td>\n      <td>240.0</td>\n    </tr>\n    <tr>\n      <th>440</th>\n      <td>13000</td>\n      <td>kia</td>\n      <td>sportage</td>\n      <td>2017</td>\n      <td>clean vehicle</td>\n      <td>71991</td>\n      <td>silver</td>\n      <td>kndpn3ac7h7113313</td>\n      <td>167606881</td>\n      <td>new jersey</td>\n      <td>usa</td>\n      <td>2 hours left</td>\n      <td>835.0</td>\n    </tr>\n    <tr>\n      <th>450</th>\n      <td>4690</td>\n      <td>hyundai</td>\n      <td>mpv</td>\n      <td>2019</td>\n      <td>clean vehicle</td>\n      <td>33785</td>\n      <td>silver</td>\n      <td>km8k12aa0ku242609</td>\n      <td>167697948</td>\n      <td>ohio</td>\n      <td>usa</td>\n      <td>2 days left</td>\n      <td>290.0</td>\n    </tr>\n    <tr>\n      <th>463</th>\n      <td>8000</td>\n      <td>hyundai</td>\n      <td>door</td>\n      <td>2015</td>\n      <td>clean vehicle</td>\n      <td>88274</td>\n      <td>red</td>\n      <td>km8jucag9fu984199</td>\n      <td>167607388</td>\n      <td>pennsylvania</td>\n      <td>usa</td>\n      <td>7 days left</td>\n      <td>485.0</td>\n    </tr>\n    <tr>\n      <th>486</th>\n      <td>4730</td>\n      <td>hyundai</td>\n      <td>mpv</td>\n      <td>2019</td>\n      <td>clean vehicle</td>\n      <td>30121</td>\n      <td>red</td>\n      <td>km8j23a45ku893842</td>\n      <td>167697951</td>\n      <td>ohio</td>\n      <td>usa</td>\n      <td>2 days left</td>\n      <td>295.0</td>\n    </tr>\n    <tr>\n      <th>513</th>\n      <td>4650</td>\n      <td>hyundai</td>\n      <td>mpv</td>\n      <td>2019</td>\n      <td>clean vehicle</td>\n      <td>27492</td>\n      <td>white</td>\n      <td>km8j23a44ku882752</td>\n      <td>167697953</td>\n      <td>ohio</td>\n      <td>usa</td>\n      <td>2 days left</td>\n      <td>289.0</td>\n    </tr>\n    <tr>\n      <th>525</th>\n      <td>3440</td>\n      <td>hyundai</td>\n      <td>doors</td>\n      <td>2019</td>\n      <td>clean vehicle</td>\n      <td>34895</td>\n      <td>gray</td>\n      <td>3kpc24a34ke050725</td>\n      <td>167697954</td>\n      <td>ohio</td>\n      <td>usa</td>\n      <td>2 days left</td>\n      <td>192.0</td>\n    </tr>\n    <tr>\n      <th>527</th>\n      <td>3810</td>\n      <td>kia</td>\n      <td>door</td>\n      <td>2016</td>\n      <td>clean vehicle</td>\n      <td>39408</td>\n      <td>black</td>\n      <td>kndjx3ae3g7012477</td>\n      <td>167692796</td>\n      <td>california</td>\n      <td>usa</td>\n      <td>20 hours left</td>\n      <td>222.0</td>\n    </tr>\n    <tr>\n      <th>537</th>\n      <td>4750</td>\n      <td>hyundai</td>\n      <td>mpv</td>\n      <td>2019</td>\n      <td>clean vehicle</td>\n      <td>25847</td>\n      <td>gray</td>\n      <td>km8j23a4xku846404</td>\n      <td>167697955</td>\n      <td>ohio</td>\n      <td>usa</td>\n      <td>2 days left</td>\n      <td>296.0</td>\n    </tr>\n    <tr>\n      <th>549</th>\n      <td>3460</td>\n      <td>hyundai</td>\n      <td>door</td>\n      <td>2012</td>\n      <td>clean vehicle</td>\n      <td>142106</td>\n      <td>white</td>\n      <td>5npeb4ac2ch437716</td>\n      <td>167697983</td>\n      <td>mississippi</td>\n      <td>usa</td>\n      <td>2 days left</td>\n      <td>197.0</td>\n    </tr>\n    <tr>\n      <th>551</th>\n      <td>3250</td>\n      <td>hyundai</td>\n      <td>door</td>\n      <td>2015</td>\n      <td>clean vehicle</td>\n      <td>111612</td>\n      <td>gray</td>\n      <td>5npdh4ae3fh644096</td>\n      <td>167692885</td>\n      <td>california</td>\n      <td>usa</td>\n      <td>20 hours left</td>\n      <td>185.0</td>\n    </tr>\n    <tr>\n      <th>623</th>\n      <td>14000</td>\n      <td>kia</td>\n      <td>sorento</td>\n      <td>2017</td>\n      <td>clean vehicle</td>\n      <td>53424</td>\n      <td>black</td>\n      <td>5xypgda51hg221253</td>\n      <td>167119104</td>\n      <td>connecticut</td>\n      <td>usa</td>\n      <td>5 hours left</td>\n      <td>944.0</td>\n    </tr>\n    <tr>\n      <th>626</th>\n      <td>13300</td>\n      <td>kia</td>\n      <td>door</td>\n      <td>2017</td>\n      <td>clean vehicle</td>\n      <td>37125</td>\n      <td>no_color</td>\n      <td>5xypgda39hg262132</td>\n      <td>167119105</td>\n      <td>connecticut</td>\n      <td>usa</td>\n      <td>5 hours left</td>\n      <td>861.0</td>\n    </tr>\n    <tr>\n      <th>629</th>\n      <td>15500</td>\n      <td>kia</td>\n      <td>sorento</td>\n      <td>2017</td>\n      <td>clean vehicle</td>\n      <td>37668</td>\n      <td>red</td>\n      <td>5xypgda59hg292944</td>\n      <td>167119106</td>\n      <td>connecticut</td>\n      <td>usa</td>\n      <td>5 hours left</td>\n      <td>1082.0</td>\n    </tr>\n    <tr>\n      <th>631</th>\n      <td>21500</td>\n      <td>kia</td>\n      <td>sorento</td>\n      <td>2017</td>\n      <td>clean vehicle</td>\n      <td>43761</td>\n      <td>gray</td>\n      <td>5xypkda50hg299327</td>\n      <td>167119107</td>\n      <td>connecticut</td>\n      <td>usa</td>\n      <td>5 hours left</td>\n      <td>1560.0</td>\n    </tr>\n  </tbody>\n</table>\n</div>"
     },
     "execution_count": 61,
     "metadata": {},
     "output_type": "execute_result"
    }
   ],
   "source": [
    "kia_hyundai_df = df[df['brand'].isin(['kia','hyundai'])]\n",
    "kia_hyundai_df"
   ],
   "metadata": {
    "collapsed": false
   }
  },
  {
   "cell_type": "code",
   "execution_count": 81,
   "outputs": [
    {
     "ename": "NameError",
     "evalue": "name 'price' is not defined",
     "output_type": "error",
     "traceback": [
      "\u001B[0;31m---------------------------------------------------------------------------\u001B[0m",
      "\u001B[0;31mNameError\u001B[0m                                 Traceback (most recent call last)",
      "Cell \u001B[0;32mIn[81], line 3\u001B[0m\n\u001B[1;32m      1\u001B[0m mustang_df\u001B[38;5;241m=\u001B[39m df[(df[\u001B[38;5;124m'\u001B[39m\u001B[38;5;124mbrand\u001B[39m\u001B[38;5;124m'\u001B[39m] \u001B[38;5;241m==\u001B[39m \u001B[38;5;124m'\u001B[39m\u001B[38;5;124mford\u001B[39m\u001B[38;5;124m'\u001B[39m) \u001B[38;5;241m&\u001B[39m (df[\u001B[38;5;124m'\u001B[39m\u001B[38;5;124mmodel\u001B[39m\u001B[38;5;124m'\u001B[39m]\u001B[38;5;241m.\u001B[39misin([\u001B[38;5;124m'\u001B[39m\u001B[38;5;124mmustang\u001B[39m\u001B[38;5;124m'\u001B[39m]))]\n\u001B[1;32m      2\u001B[0m df5 \u001B[38;5;241m=\u001B[39mmustang_df[mustang_df\u001B[38;5;241m.\u001B[39mprice \u001B[38;5;241m>\u001B[39m \u001B[38;5;241m2018\u001B[39m]\n\u001B[0;32m----> 3\u001B[0m df5\u001B[38;5;241m.\u001B[39mmean(\u001B[43mprice\u001B[49m)\n",
      "\u001B[0;31mNameError\u001B[0m: name 'price' is not defined"
     ]
    }
   ],
   "source": [
    "mustang_df= df[(df['brand'] == 'ford') & (df['model'].isin(['mustang']))]\n",
    "df5 =mustang_df[mustang_df.price > 2018]\n",
    "df5.mean(price)"
   ],
   "metadata": {
    "collapsed": false
   }
  },
  {
   "cell_type": "code",
   "execution_count": 82,
   "outputs": [
    {
     "data": {
      "text/plain": "     price      brand   model  year   title_status  mileage     color  \\\n8    14600  chevrolet  malibu  2018  clean vehicle     9371    silver   \n47   19000  chevrolet  malibu  2017  clean vehicle    18414     white   \n107  18003  chevrolet  malibu  2017  clean vehicle    19117  no_color   \n204   6000  chevrolet  malibu  2018  clean vehicle    42090      gray   \n266  17100  chevrolet  malibu  2019  clean vehicle    15780     white   \n278  18900  chevrolet  impala  2019  clean vehicle    27601     white   \n281  18300  chevrolet  impala  2019  clean vehicle    25809     black   \n569  13500  chevrolet  impala  2018  clean vehicle    53194     white   \n647   9000  chevrolet  malibu  2016  clean vehicle    67527      gray   \n677  13700  chevrolet  malibu  2019  clean vehicle    47282    silver   \n686  12300  chevrolet  malibu  2018  clean vehicle    53599     black   \n688  13600  chevrolet  malibu  2018  clean vehicle    36047     white   \n691  13000  chevrolet  malibu  2018  clean vehicle    41751      gray   \n731  25000  chevrolet  impala  2020  clean vehicle    18715    silver   \n740  13700  chevrolet  impala  2019  clean vehicle    14939      blue   \n741  15900  chevrolet  malibu  2019  clean vehicle    22026     black   \n768  10200  chevrolet  malibu  2018  clean vehicle    45836     white   \n791  15200  chevrolet  impala  2019  clean vehicle    32248       red   \n792  15000  chevrolet  impala  2019  clean vehicle    36165    silver   \n793  15500  chevrolet  impala  2019  clean vehicle    29922  charcoal   \n794  15700  chevrolet  impala  2019  clean vehicle    26848    silver   \n795  14800  chevrolet  impala  2019  clean vehicle    41163  charcoal   \n797   8200  chevrolet  impala  2017  clean vehicle   100315     black   \n807  18300  chevrolet  impala  2019  clean vehicle    34538    silver   \n\n                     vin        lot           state country      condition  \\\n8      1g1zd5st5jf191860  167763267         florida     usa  22 hours left   \n47     1g1zh5sx9hf118136  167763675       tennessee     usa  22 hours left   \n107    1g1zh5sx7hf141060  167765112        michigan     usa  17 hours left   \n204    1g1zb5st8jf226848  167765944           texas     usa  21 hours left   \n266    1g1zd5st5kf112138  167767034      washington     usa    2 days left   \n278    1g11z5s37ku129047  167767312           texas     usa  21 hours left   \n281    2g11z5s33k9132248  167767315           texas     usa  21 hours left   \n569    2g1105s3xj9121918  167773137      new jersey     usa   7 hours left   \n647    1g1zj5su8gf337274  167780142       wisconsin     usa  21 hours left   \n677    1g1zd5st4kf126371  167787112        oklahoma     usa  21 hours left   \n686    1g1zd5stxjf140841  167787955        oklahoma     usa  21 hours left   \n688    1g1zd5st5jf249837  167787964        oklahoma     usa  21 hours left   \n691    1g1zd5st8jf242655  167787968        oklahoma     usa  21 hours left   \n731    1g1105s31lu100901  167796081          nevada     usa   6 hours left   \n740    2g11z5s30k9137729  167796203          nevada     usa      9 minutes   \n741    1g1zd5st0kf187281  167796205          nevada     usa   1 hours left   \n768    1g1zd5stxjf175198  167800168           texas     usa    2 days left   \n791    1g11z5sa4ku113760  167801930  north carolina     usa    2 days left   \n792    1g11z5sa7ku117222  167801932  north carolina     usa    2 days left   \n793    2g11z5saxk9120208  167801934  north carolina     usa    2 days left   \n794    2g11z5sa5k9140950  167801935  north carolina     usa    2 days left   \n795    2g11z5sa8k9139310  167801936  north carolina     usa    2 days left   \n797    1g1105sa9hu160835  167802211  north carolina     usa    2 days left   \n807    2g11z5s37k9134455  167805500         indiana     usa    2 days left   \n\n       rank  \n8     992.0  \n47   1413.0  \n107  1342.0  \n204   359.0  \n266  1272.0  \n278  1409.0  \n281  1358.0  \n569   872.0  \n647   550.0  \n677   893.0  \n686   780.0  \n688   886.0  \n691   835.0  \n731  1824.0  \n740   893.0  \n741  1140.0  \n768   621.0  \n791  1050.0  \n792  1022.0  \n793  1082.0  \n794  1112.0  \n795  1010.0  \n797   505.0  \n807  1358.0  ",
      "text/html": "<div>\n<style scoped>\n    .dataframe tbody tr th:only-of-type {\n        vertical-align: middle;\n    }\n\n    .dataframe tbody tr th {\n        vertical-align: top;\n    }\n\n    .dataframe thead th {\n        text-align: right;\n    }\n</style>\n<table border=\"1\" class=\"dataframe\">\n  <thead>\n    <tr style=\"text-align: right;\">\n      <th></th>\n      <th>price</th>\n      <th>brand</th>\n      <th>model</th>\n      <th>year</th>\n      <th>title_status</th>\n      <th>mileage</th>\n      <th>color</th>\n      <th>vin</th>\n      <th>lot</th>\n      <th>state</th>\n      <th>country</th>\n      <th>condition</th>\n      <th>rank</th>\n    </tr>\n  </thead>\n  <tbody>\n    <tr>\n      <th>8</th>\n      <td>14600</td>\n      <td>chevrolet</td>\n      <td>malibu</td>\n      <td>2018</td>\n      <td>clean vehicle</td>\n      <td>9371</td>\n      <td>silver</td>\n      <td>1g1zd5st5jf191860</td>\n      <td>167763267</td>\n      <td>florida</td>\n      <td>usa</td>\n      <td>22 hours left</td>\n      <td>992.0</td>\n    </tr>\n    <tr>\n      <th>47</th>\n      <td>19000</td>\n      <td>chevrolet</td>\n      <td>malibu</td>\n      <td>2017</td>\n      <td>clean vehicle</td>\n      <td>18414</td>\n      <td>white</td>\n      <td>1g1zh5sx9hf118136</td>\n      <td>167763675</td>\n      <td>tennessee</td>\n      <td>usa</td>\n      <td>22 hours left</td>\n      <td>1413.0</td>\n    </tr>\n    <tr>\n      <th>107</th>\n      <td>18003</td>\n      <td>chevrolet</td>\n      <td>malibu</td>\n      <td>2017</td>\n      <td>clean vehicle</td>\n      <td>19117</td>\n      <td>no_color</td>\n      <td>1g1zh5sx7hf141060</td>\n      <td>167765112</td>\n      <td>michigan</td>\n      <td>usa</td>\n      <td>17 hours left</td>\n      <td>1342.0</td>\n    </tr>\n    <tr>\n      <th>204</th>\n      <td>6000</td>\n      <td>chevrolet</td>\n      <td>malibu</td>\n      <td>2018</td>\n      <td>clean vehicle</td>\n      <td>42090</td>\n      <td>gray</td>\n      <td>1g1zb5st8jf226848</td>\n      <td>167765944</td>\n      <td>texas</td>\n      <td>usa</td>\n      <td>21 hours left</td>\n      <td>359.0</td>\n    </tr>\n    <tr>\n      <th>266</th>\n      <td>17100</td>\n      <td>chevrolet</td>\n      <td>malibu</td>\n      <td>2019</td>\n      <td>clean vehicle</td>\n      <td>15780</td>\n      <td>white</td>\n      <td>1g1zd5st5kf112138</td>\n      <td>167767034</td>\n      <td>washington</td>\n      <td>usa</td>\n      <td>2 days left</td>\n      <td>1272.0</td>\n    </tr>\n    <tr>\n      <th>278</th>\n      <td>18900</td>\n      <td>chevrolet</td>\n      <td>impala</td>\n      <td>2019</td>\n      <td>clean vehicle</td>\n      <td>27601</td>\n      <td>white</td>\n      <td>1g11z5s37ku129047</td>\n      <td>167767312</td>\n      <td>texas</td>\n      <td>usa</td>\n      <td>21 hours left</td>\n      <td>1409.0</td>\n    </tr>\n    <tr>\n      <th>281</th>\n      <td>18300</td>\n      <td>chevrolet</td>\n      <td>impala</td>\n      <td>2019</td>\n      <td>clean vehicle</td>\n      <td>25809</td>\n      <td>black</td>\n      <td>2g11z5s33k9132248</td>\n      <td>167767315</td>\n      <td>texas</td>\n      <td>usa</td>\n      <td>21 hours left</td>\n      <td>1358.0</td>\n    </tr>\n    <tr>\n      <th>569</th>\n      <td>13500</td>\n      <td>chevrolet</td>\n      <td>impala</td>\n      <td>2018</td>\n      <td>clean vehicle</td>\n      <td>53194</td>\n      <td>white</td>\n      <td>2g1105s3xj9121918</td>\n      <td>167773137</td>\n      <td>new jersey</td>\n      <td>usa</td>\n      <td>7 hours left</td>\n      <td>872.0</td>\n    </tr>\n    <tr>\n      <th>647</th>\n      <td>9000</td>\n      <td>chevrolet</td>\n      <td>malibu</td>\n      <td>2016</td>\n      <td>clean vehicle</td>\n      <td>67527</td>\n      <td>gray</td>\n      <td>1g1zj5su8gf337274</td>\n      <td>167780142</td>\n      <td>wisconsin</td>\n      <td>usa</td>\n      <td>21 hours left</td>\n      <td>550.0</td>\n    </tr>\n    <tr>\n      <th>677</th>\n      <td>13700</td>\n      <td>chevrolet</td>\n      <td>malibu</td>\n      <td>2019</td>\n      <td>clean vehicle</td>\n      <td>47282</td>\n      <td>silver</td>\n      <td>1g1zd5st4kf126371</td>\n      <td>167787112</td>\n      <td>oklahoma</td>\n      <td>usa</td>\n      <td>21 hours left</td>\n      <td>893.0</td>\n    </tr>\n    <tr>\n      <th>686</th>\n      <td>12300</td>\n      <td>chevrolet</td>\n      <td>malibu</td>\n      <td>2018</td>\n      <td>clean vehicle</td>\n      <td>53599</td>\n      <td>black</td>\n      <td>1g1zd5stxjf140841</td>\n      <td>167787955</td>\n      <td>oklahoma</td>\n      <td>usa</td>\n      <td>21 hours left</td>\n      <td>780.0</td>\n    </tr>\n    <tr>\n      <th>688</th>\n      <td>13600</td>\n      <td>chevrolet</td>\n      <td>malibu</td>\n      <td>2018</td>\n      <td>clean vehicle</td>\n      <td>36047</td>\n      <td>white</td>\n      <td>1g1zd5st5jf249837</td>\n      <td>167787964</td>\n      <td>oklahoma</td>\n      <td>usa</td>\n      <td>21 hours left</td>\n      <td>886.0</td>\n    </tr>\n    <tr>\n      <th>691</th>\n      <td>13000</td>\n      <td>chevrolet</td>\n      <td>malibu</td>\n      <td>2018</td>\n      <td>clean vehicle</td>\n      <td>41751</td>\n      <td>gray</td>\n      <td>1g1zd5st8jf242655</td>\n      <td>167787968</td>\n      <td>oklahoma</td>\n      <td>usa</td>\n      <td>21 hours left</td>\n      <td>835.0</td>\n    </tr>\n    <tr>\n      <th>731</th>\n      <td>25000</td>\n      <td>chevrolet</td>\n      <td>impala</td>\n      <td>2020</td>\n      <td>clean vehicle</td>\n      <td>18715</td>\n      <td>silver</td>\n      <td>1g1105s31lu100901</td>\n      <td>167796081</td>\n      <td>nevada</td>\n      <td>usa</td>\n      <td>6 hours left</td>\n      <td>1824.0</td>\n    </tr>\n    <tr>\n      <th>740</th>\n      <td>13700</td>\n      <td>chevrolet</td>\n      <td>impala</td>\n      <td>2019</td>\n      <td>clean vehicle</td>\n      <td>14939</td>\n      <td>blue</td>\n      <td>2g11z5s30k9137729</td>\n      <td>167796203</td>\n      <td>nevada</td>\n      <td>usa</td>\n      <td>9 minutes</td>\n      <td>893.0</td>\n    </tr>\n    <tr>\n      <th>741</th>\n      <td>15900</td>\n      <td>chevrolet</td>\n      <td>malibu</td>\n      <td>2019</td>\n      <td>clean vehicle</td>\n      <td>22026</td>\n      <td>black</td>\n      <td>1g1zd5st0kf187281</td>\n      <td>167796205</td>\n      <td>nevada</td>\n      <td>usa</td>\n      <td>1 hours left</td>\n      <td>1140.0</td>\n    </tr>\n    <tr>\n      <th>768</th>\n      <td>10200</td>\n      <td>chevrolet</td>\n      <td>malibu</td>\n      <td>2018</td>\n      <td>clean vehicle</td>\n      <td>45836</td>\n      <td>white</td>\n      <td>1g1zd5stxjf175198</td>\n      <td>167800168</td>\n      <td>texas</td>\n      <td>usa</td>\n      <td>2 days left</td>\n      <td>621.0</td>\n    </tr>\n    <tr>\n      <th>791</th>\n      <td>15200</td>\n      <td>chevrolet</td>\n      <td>impala</td>\n      <td>2019</td>\n      <td>clean vehicle</td>\n      <td>32248</td>\n      <td>red</td>\n      <td>1g11z5sa4ku113760</td>\n      <td>167801930</td>\n      <td>north carolina</td>\n      <td>usa</td>\n      <td>2 days left</td>\n      <td>1050.0</td>\n    </tr>\n    <tr>\n      <th>792</th>\n      <td>15000</td>\n      <td>chevrolet</td>\n      <td>impala</td>\n      <td>2019</td>\n      <td>clean vehicle</td>\n      <td>36165</td>\n      <td>silver</td>\n      <td>1g11z5sa7ku117222</td>\n      <td>167801932</td>\n      <td>north carolina</td>\n      <td>usa</td>\n      <td>2 days left</td>\n      <td>1022.0</td>\n    </tr>\n    <tr>\n      <th>793</th>\n      <td>15500</td>\n      <td>chevrolet</td>\n      <td>impala</td>\n      <td>2019</td>\n      <td>clean vehicle</td>\n      <td>29922</td>\n      <td>charcoal</td>\n      <td>2g11z5saxk9120208</td>\n      <td>167801934</td>\n      <td>north carolina</td>\n      <td>usa</td>\n      <td>2 days left</td>\n      <td>1082.0</td>\n    </tr>\n    <tr>\n      <th>794</th>\n      <td>15700</td>\n      <td>chevrolet</td>\n      <td>impala</td>\n      <td>2019</td>\n      <td>clean vehicle</td>\n      <td>26848</td>\n      <td>silver</td>\n      <td>2g11z5sa5k9140950</td>\n      <td>167801935</td>\n      <td>north carolina</td>\n      <td>usa</td>\n      <td>2 days left</td>\n      <td>1112.0</td>\n    </tr>\n    <tr>\n      <th>795</th>\n      <td>14800</td>\n      <td>chevrolet</td>\n      <td>impala</td>\n      <td>2019</td>\n      <td>clean vehicle</td>\n      <td>41163</td>\n      <td>charcoal</td>\n      <td>2g11z5sa8k9139310</td>\n      <td>167801936</td>\n      <td>north carolina</td>\n      <td>usa</td>\n      <td>2 days left</td>\n      <td>1010.0</td>\n    </tr>\n    <tr>\n      <th>797</th>\n      <td>8200</td>\n      <td>chevrolet</td>\n      <td>impala</td>\n      <td>2017</td>\n      <td>clean vehicle</td>\n      <td>100315</td>\n      <td>black</td>\n      <td>1g1105sa9hu160835</td>\n      <td>167802211</td>\n      <td>north carolina</td>\n      <td>usa</td>\n      <td>2 days left</td>\n      <td>505.0</td>\n    </tr>\n    <tr>\n      <th>807</th>\n      <td>18300</td>\n      <td>chevrolet</td>\n      <td>impala</td>\n      <td>2019</td>\n      <td>clean vehicle</td>\n      <td>34538</td>\n      <td>silver</td>\n      <td>2g11z5s37k9134455</td>\n      <td>167805500</td>\n      <td>indiana</td>\n      <td>usa</td>\n      <td>2 days left</td>\n      <td>1358.0</td>\n    </tr>\n  </tbody>\n</table>\n</div>"
     },
     "execution_count": 82,
     "metadata": {},
     "output_type": "execute_result"
    }
   ],
   "source": [
    "malibu_impala = df[(df['brand'] == 'chevrolet') & (df['model'].isin(['malibu','impala']))]\n",
    "malibu_impala"
   ],
   "metadata": {
    "collapsed": false
   }
  },
  {
   "cell_type": "code",
   "execution_count": 83,
   "outputs": [
    {
     "data": {
      "text/plain": "26971.235294117647"
     },
     "execution_count": 83,
     "metadata": {},
     "output_type": "execute_result"
    }
   ],
   "source": [
    "average_price = df[(df['brand'] == 'ford') & (df['model'] == 'mustang') & (df['year']>2018)]['price'].mean()\n",
    "average_price"
   ],
   "metadata": {
    "collapsed": false
   }
  },
  {
   "cell_type": "code",
   "execution_count": 84,
   "outputs": [
    {
     "data": {
      "text/plain": "              price         year       mileage           lot         rank\ncount     29.000000    29.000000     29.000000  2.900000e+01    29.000000\nmean   25841.758621  2018.517241  21551.931034  1.677386e+08  1788.413793\nstd     7781.073538     0.784706  12153.315994  7.464566e+04   391.353103\nmin    15500.000000  2016.000000    878.000000  1.675552e+08  1082.000000\n25%    20500.000000  2018.000000  11342.000000  1.677355e+08  1511.000000\n50%    22000.000000  2019.000000  25011.000000  1.677637e+08  1593.000000\n75%    29800.000000  2019.000000  31561.000000  1.677824e+08  2108.000000\nmax    49000.000000  2020.000000  41147.000000  1.678018e+08  2436.000000",
      "text/html": "<div>\n<style scoped>\n    .dataframe tbody tr th:only-of-type {\n        vertical-align: middle;\n    }\n\n    .dataframe tbody tr th {\n        vertical-align: top;\n    }\n\n    .dataframe thead th {\n        text-align: right;\n    }\n</style>\n<table border=\"1\" class=\"dataframe\">\n  <thead>\n    <tr style=\"text-align: right;\">\n      <th></th>\n      <th>price</th>\n      <th>year</th>\n      <th>mileage</th>\n      <th>lot</th>\n      <th>rank</th>\n    </tr>\n  </thead>\n  <tbody>\n    <tr>\n      <th>count</th>\n      <td>29.000000</td>\n      <td>29.000000</td>\n      <td>29.000000</td>\n      <td>2.900000e+01</td>\n      <td>29.000000</td>\n    </tr>\n    <tr>\n      <th>mean</th>\n      <td>25841.758621</td>\n      <td>2018.517241</td>\n      <td>21551.931034</td>\n      <td>1.677386e+08</td>\n      <td>1788.413793</td>\n    </tr>\n    <tr>\n      <th>std</th>\n      <td>7781.073538</td>\n      <td>0.784706</td>\n      <td>12153.315994</td>\n      <td>7.464566e+04</td>\n      <td>391.353103</td>\n    </tr>\n    <tr>\n      <th>min</th>\n      <td>15500.000000</td>\n      <td>2016.000000</td>\n      <td>878.000000</td>\n      <td>1.675552e+08</td>\n      <td>1082.000000</td>\n    </tr>\n    <tr>\n      <th>25%</th>\n      <td>20500.000000</td>\n      <td>2018.000000</td>\n      <td>11342.000000</td>\n      <td>1.677355e+08</td>\n      <td>1511.000000</td>\n    </tr>\n    <tr>\n      <th>50%</th>\n      <td>22000.000000</td>\n      <td>2019.000000</td>\n      <td>25011.000000</td>\n      <td>1.677637e+08</td>\n      <td>1593.000000</td>\n    </tr>\n    <tr>\n      <th>75%</th>\n      <td>29800.000000</td>\n      <td>2019.000000</td>\n      <td>31561.000000</td>\n      <td>1.677824e+08</td>\n      <td>2108.000000</td>\n    </tr>\n    <tr>\n      <th>max</th>\n      <td>49000.000000</td>\n      <td>2020.000000</td>\n      <td>41147.000000</td>\n      <td>1.678018e+08</td>\n      <td>2436.000000</td>\n    </tr>\n  </tbody>\n</table>\n</div>"
     },
     "execution_count": 84,
     "metadata": {},
     "output_type": "execute_result"
    }
   ],
   "source": [
    "mustang_df.describe()"
   ],
   "metadata": {
    "collapsed": false
   }
  },
  {
   "cell_type": "code",
   "execution_count": 86,
   "outputs": [
    {
     "data": {
      "text/plain": "2019"
     },
     "execution_count": 86,
     "metadata": {},
     "output_type": "execute_result"
    }
   ],
   "source": [
    "majority_year = df[df['brand'] == 'ford']['year'].value_counts().idxmax()\n",
    "majority_year"
   ],
   "metadata": {
    "collapsed": false
   }
  },
  {
   "cell_type": "code",
   "execution_count": null,
   "outputs": [],
   "source": [],
   "metadata": {
    "collapsed": false
   }
  }
 ],
 "metadata": {
  "kernelspec": {
   "display_name": "Python 3",
   "language": "python",
   "name": "python3"
  },
  "language_info": {
   "codemirror_mode": {
    "name": "ipython",
    "version": 2
   },
   "file_extension": ".py",
   "mimetype": "text/x-python",
   "name": "python",
   "nbconvert_exporter": "python",
   "pygments_lexer": "ipython2",
   "version": "2.7.6"
  }
 },
 "nbformat": 4,
 "nbformat_minor": 0
}
