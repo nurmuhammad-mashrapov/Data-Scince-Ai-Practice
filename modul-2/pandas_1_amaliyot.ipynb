{
 "cells": [
  {
   "cell_type": "code",
   "execution_count": 2,
   "metadata": {
    "collapsed": true
   },
   "outputs": [],
   "source": [
    "import numpy as np\n",
    "import pandas as pd"
   ]
  },
  {
   "cell_type": "code",
   "execution_count": 35,
   "outputs": [],
   "source": [
    "region = pd.Series(['Tashkent', 'Fergana', 'Andijon', 'Buxoro', 'Jizzax', 'Xorazm',  'Namangan', 'Navoiy', 'Qashqadaryo', \"Qoraqalpog'iston Respublikasi\", 'Samarqand', 'Sirdaryo', 'Surxondaryo'])"
   ],
   "metadata": {
    "collapsed": false
   }
  },
  {
   "cell_type": "code",
   "execution_count": 36,
   "outputs": [
    {
     "name": "stdout",
     "output_type": "stream",
     "text": [
      "0                          Tashkent\n",
      "1                           Fergana\n",
      "2                           Andijon\n",
      "3                            Buxoro\n",
      "4                            Jizzax\n",
      "5                            Xorazm\n",
      "6                          Namangan\n",
      "7                            Navoiy\n",
      "8                       Qashqadaryo\n",
      "9     Qoraqalpog'iston Respublikasi\n",
      "10                        Samarqand\n",
      "11                         Sirdaryo\n",
      "12                      Surxondaryo\n",
      "dtype: object\n"
     ]
    }
   ],
   "source": [
    "print(region)"
   ],
   "metadata": {
    "collapsed": false
   }
  },
  {
   "cell_type": "code",
   "execution_count": 22,
   "outputs": [
    {
     "data": {
      "text/plain": "pandas.core.series.Series"
     },
     "execution_count": 22,
     "metadata": {},
     "output_type": "execute_result"
    }
   ],
   "source": [
    "type(region)"
   ],
   "metadata": {
    "collapsed": false
   }
  },
  {
   "cell_type": "code",
   "execution_count": 37,
   "outputs": [
    {
     "data": {
      "text/plain": "0                          Tashkent\n1                           Fergana\n2                           Andijon\n3                            Buxoro\n4                            Jizzax\n5                            Xorazm\n6                          Namangan\n7                            Navoiy\n8                       Qashqadaryo\n9     Qoraqalpog'iston Respublikasi\n10                        Samarqand\n11                         Sirdaryo\n12                      Surxondaryo\ndtype: object"
     },
     "execution_count": 37,
     "metadata": {},
     "output_type": "execute_result"
    }
   ],
   "source": [
    "region"
   ],
   "metadata": {
    "collapsed": false
   }
  },
  {
   "cell_type": "code",
   "execution_count": 38,
   "outputs": [
    {
     "data": {
      "text/plain": "'Tashkent'"
     },
     "execution_count": 38,
     "metadata": {},
     "output_type": "execute_result"
    }
   ],
   "source": [
    "region[0]"
   ],
   "metadata": {
    "collapsed": false
   }
  },
  {
   "cell_type": "code",
   "execution_count": 40,
   "outputs": [
    {
     "data": {
      "text/plain": "0    Tashkent\ndtype: object"
     },
     "execution_count": 40,
     "metadata": {},
     "output_type": "execute_result"
    }
   ],
   "source": [
    "region.iloc[:1]"
   ],
   "metadata": {
    "collapsed": false
   }
  },
  {
   "cell_type": "code",
   "execution_count": 41,
   "outputs": [
    {
     "data": {
      "text/plain": "13"
     },
     "execution_count": 41,
     "metadata": {},
     "output_type": "execute_result"
    }
   ],
   "source": [
    "region.size"
   ],
   "metadata": {
    "collapsed": false
   }
  },
  {
   "cell_type": "code",
   "execution_count": 42,
   "outputs": [
    {
     "data": {
      "text/plain": "4      Jizzax\n5      Xorazm\n6    Namangan\ndtype: object"
     },
     "execution_count": 42,
     "metadata": {},
     "output_type": "execute_result"
    }
   ],
   "source": [
    "region[4:7]"
   ],
   "metadata": {
    "collapsed": false
   }
  },
  {
   "cell_type": "code",
   "execution_count": 129,
   "outputs": [],
   "source": [
    "data = {'Tashkent': 4450000, 'Fergana': 910500, 'Andijon': 1899000, 'Buxoro': 1384700, 'Jizzax': 910500, 'Xorazm': 1200000,  'Namangan': 1862000, 'Navoiy': 767500, 'Qashqadaryo': 2029000, \"Qoraqalpog'iston Respublikasi\": 1200000, 'Samarqand': 2322000, 'Sirdaryo': 648100, 'Surxondaryo':1676000}"
   ],
   "metadata": {
    "collapsed": false
   }
  },
  {
   "cell_type": "code",
   "execution_count": 44,
   "outputs": [
    {
     "data": {
      "text/plain": "{'Tashkent': 1676000,\n 'Fergana': 910500,\n 'Andijon': 1899000,\n 'Buxoro': 1384700,\n 'Jizzax': 910500,\n 'Xorazm': 1200000,\n 'Namangan': 1862000,\n 'Navoiy': 767500,\n 'Qashqadaryo': 2029000,\n \"Qoraqalpog'iston Respublikasi\": 1200000,\n 'Samarqand': 2322000,\n 'Sirdaryo': 648100,\n 'Surxondaryo': 1676000}"
     },
     "execution_count": 44,
     "metadata": {},
     "output_type": "execute_result"
    }
   ],
   "source": [
    "data"
   ],
   "metadata": {
    "collapsed": false
   }
  },
  {
   "cell_type": "code",
   "execution_count": 64,
   "outputs": [],
   "source": [
    "regions = pd.Series(data, dtype='int64')"
   ],
   "metadata": {
    "collapsed": false
   }
  },
  {
   "cell_type": "code",
   "execution_count": 53,
   "outputs": [
    {
     "data": {
      "text/plain": "Index(['Tashkent', 'Fergana', 'Andijon', 'Buxoro', 'Jizzax', 'Xorazm',\n       'Namangan', 'Navoiy', 'Qashqadaryo', 'Qoraqalpog'iston Respublikasi',\n       'Samarqand', 'Sirdaryo', 'Surxondaryo'],\n      dtype='object')"
     },
     "execution_count": 53,
     "metadata": {},
     "output_type": "execute_result"
    }
   ],
   "source": [
    "regions.index"
   ],
   "metadata": {
    "collapsed": false
   }
  },
  {
   "cell_type": "code",
   "execution_count": 49,
   "outputs": [
    {
     "data": {
      "text/plain": "pandas.core.series.Series"
     },
     "execution_count": 49,
     "metadata": {},
     "output_type": "execute_result"
    }
   ],
   "source": [
    "type(regions)"
   ],
   "metadata": {
    "collapsed": false
   }
  },
  {
   "cell_type": "code",
   "execution_count": 56,
   "outputs": [
    {
     "data": {
      "text/plain": "Jizzax       910500\nBuxoro      1384700\nNamangan    1862000\ndtype: int64"
     },
     "execution_count": 56,
     "metadata": {},
     "output_type": "execute_result"
    }
   ],
   "source": [
    "regions.loc[['Jizzax', 'Buxoro', 'Namangan']]"
   ],
   "metadata": {
    "collapsed": false
   }
  },
  {
   "cell_type": "code",
   "execution_count": 72,
   "outputs": [
    {
     "data": {
      "text/plain": "Tashkent                         1676000\nFergana                           910500\nAndijon                          1899000\nBuxoro                           1384700\nJizzax                            910500\nXorazm                           1200000\nNamangan                         1862000\nNavoiy                            767500\nQashqadaryo                      2029000\nQoraqalpog'iston Respublikasi    1200000\nSamarqand                        2322000\nSirdaryo                          648100\nSurxondaryo                      1676000\ndtype: int64"
     },
     "execution_count": 72,
     "metadata": {},
     "output_type": "execute_result"
    }
   ],
   "source": [
    "regions"
   ],
   "metadata": {
    "collapsed": false
   }
  },
  {
   "cell_type": "code",
   "execution_count": 79,
   "outputs": [
    {
     "data": {
      "text/plain": "Tashkent                          True\nFergana                          False\nAndijon                           True\nBuxoro                            True\nJizzax                           False\nXorazm                            True\nNamangan                          True\nNavoiy                           False\nQashqadaryo                       True\nQoraqalpog'iston Respublikasi     True\nSamarqand                         True\nSirdaryo                         False\nSurxondaryo                       True\ndtype: bool"
     },
     "execution_count": 79,
     "metadata": {},
     "output_type": "execute_result"
    }
   ],
   "source": [
    "'Navoiy' in regions > 1000000"
   ],
   "metadata": {
    "collapsed": false
   }
  },
  {
   "cell_type": "code",
   "execution_count": 80,
   "outputs": [],
   "source": [
    "dict = {\n",
    "    \"Andijon\": 4200,\n",
    "    \"Buxoro\": 39400,\n",
    "    \"Farg'ona\": 6800,\n",
    "    \"Jizzax\": 20500,\n",
    "    \"Xorazm\": 6300,\n",
    "    \"Namangan\": 7900,\n",
    "    \"Navoiy\": 110800,\n",
    "    \"Qashqadaryo\": 28400,\n",
    "    \"Qoraqalpog'iston Respublikasi\": 160000,\n",
    "    \"Samarqand\": 16400,\n",
    "    \"Sirdaryo\": 5100,\n",
    "    \"Surxondaryo\": 20800,\n",
    "    \"Toshkent\": 15300,\n",
    "}"
   ],
   "metadata": {
    "collapsed": false
   }
  },
  {
   "cell_type": "code",
   "execution_count": 88,
   "outputs": [],
   "source": [
    "reg = pd.Series(dict)"
   ],
   "metadata": {
    "collapsed": false
   }
  },
  {
   "cell_type": "code",
   "execution_count": 89,
   "outputs": [
    {
     "data": {
      "text/plain": "Andijon                            4200\nBuxoro                            39400\nFarg'ona                           6800\nJizzax                            20500\nXorazm                             6300\nNamangan                           7900\nNavoiy                           110800\nQashqadaryo                       28400\nQoraqalpog'iston Respublikasi    160000\nSamarqand                         16400\nSirdaryo                           5100\nSurxondaryo                       20800\nToshkent                          15300\ndtype: int64"
     },
     "execution_count": 89,
     "metadata": {},
     "output_type": "execute_result"
    }
   ],
   "source": [
    "reg"
   ],
   "metadata": {
    "collapsed": false
   }
  },
  {
   "cell_type": "code",
   "execution_count": 83,
   "outputs": [],
   "source": [
    "reg.index.name = \"Hududlar hajmi\""
   ],
   "metadata": {
    "collapsed": false
   }
  },
  {
   "cell_type": "code",
   "execution_count": 92,
   "outputs": [],
   "source": [],
   "metadata": {
    "collapsed": false
   }
  },
  {
   "cell_type": "code",
   "execution_count": 109,
   "outputs": [
    {
     "name": "stdout",
     "output_type": "stream",
     "text": [
      "Eng katta hudud: Qoraqalpog'iston Respublikasi\n",
      "Eng kichik hudud:: Andijon\n"
     ]
    }
   ],
   "source": [
    "largest = reg.idxmax()\n",
    "print(\"Eng katta hudud:\",largest)\n",
    "smallest = reg.index.min()\n",
    "print(\"Eng kichik hudud::\", smallest)"
   ],
   "metadata": {
    "collapsed": false
   }
  },
  {
   "cell_type": "code",
   "execution_count": 119,
   "outputs": [
    {
     "name": "stdout",
     "output_type": "stream",
     "text": [
      "Qoraqalpog'iston Respublikasi aholisi 160000\n",
      "Andijon aholisi 4200\n"
     ]
    }
   ],
   "source": [
    "largest = reg.max()\n",
    "print(reg.idxmax(),'aholisi', largest)\n",
    "smallest = reg.min()\n",
    "print(reg.index.min(),'aholisi', smallest)"
   ],
   "metadata": {
    "collapsed": false
   }
  },
  {
   "cell_type": "code",
   "execution_count": 120,
   "outputs": [
    {
     "data": {
      "text/plain": "441900"
     },
     "execution_count": 120,
     "metadata": {},
     "output_type": "execute_result"
    }
   ],
   "source": [
    "np.sum(reg)"
   ],
   "metadata": {
    "collapsed": false
   }
  },
  {
   "cell_type": "code",
   "execution_count": 122,
   "outputs": [
    {
     "data": {
      "text/plain": "2322000"
     },
     "execution_count": 122,
     "metadata": {},
     "output_type": "execute_result"
    }
   ],
   "source": [
    "regions[]"
   ],
   "metadata": {
    "collapsed": false
   }
  },
  {
   "cell_type": "code",
   "execution_count": 124,
   "outputs": [
    {
     "data": {
      "text/plain": "Tashkent                         1676000\nFergana                           910500\nAndijon                          1899000\nBuxoro                           1384700\nJizzax                            910500\nXorazm                           1200000\nNamangan                         1862000\nNavoiy                            767500\nQashqadaryo                      2029000\nQoraqalpog'iston Respublikasi    1200000\nSamarqand                        2322000\nSirdaryo                          648100\nSurxondaryo                      1676000\ndtype: int64"
     },
     "execution_count": 124,
     "metadata": {},
     "output_type": "execute_result"
    }
   ],
   "source": [
    "regions"
   ],
   "metadata": {
    "collapsed": false
   }
  },
  {
   "cell_type": "code",
   "execution_count": 128,
   "outputs": [
    {
     "data": {
      "text/plain": "Tashkent                         1676000\nFergana                           910500\nAndijon                          1899000\nBuxoro                           1384700\nJizzax                            910500\nXorazm                           1200000\nNamangan                         1862000\nNavoiy                            767500\nQashqadaryo                      2029000\nQoraqalpog'iston Respublikasi    1200000\nSamarqand                        2322000\nSirdaryo                          648100\nSurxondaryo                      1676000\ndtype: int64"
     },
     "execution_count": 128,
     "metadata": {},
     "output_type": "execute_result"
    }
   ],
   "source": [
    "regions"
   ],
   "metadata": {
    "collapsed": false
   }
  },
  {
   "cell_type": "code",
   "execution_count": 133,
   "outputs": [
    {
     "data": {
      "text/plain": "2322000"
     },
     "execution_count": 133,
     "metadata": {},
     "output_type": "execute_result"
    }
   ],
   "source": [
    "regions.max()"
   ],
   "metadata": {
    "collapsed": false
   }
  },
  {
   "cell_type": "code",
   "execution_count": 134,
   "outputs": [
    {
     "name": "stdout",
     "output_type": "stream",
     "text": [
      "2322000 160000\n",
      "648100 4200\n"
     ]
    }
   ],
   "source": [
    "print(regions.max(), reg.max())\n",
    "print(regions.min(), reg.min())"
   ],
   "metadata": {
    "collapsed": false
   }
  },
  {
   "cell_type": "code",
   "execution_count": 135,
   "outputs": [
    {
     "data": {
      "text/plain": "Andijon                          1903200.0\nBuxoro                           1424100.0\nFarg'ona                               NaN\nFergana                                NaN\nJizzax                            931000.0\nNamangan                         1869900.0\nNavoiy                            878300.0\nQashqadaryo                      2057400.0\nQoraqalpog'iston Respublikasi    1360000.0\nSamarqand                        2338400.0\nSirdaryo                          653200.0\nSurxondaryo                      1696800.0\nTashkent                               NaN\nToshkent                               NaN\nXorazm                           1206300.0\ndtype: float64"
     },
     "execution_count": 135,
     "metadata": {},
     "output_type": "execute_result"
    }
   ],
   "source": [
    "reg+regions"
   ],
   "metadata": {
    "collapsed": false
   }
  },
  {
   "cell_type": "code",
   "execution_count": 139,
   "outputs": [
    {
     "data": {
      "text/plain": "Andijon                            4200\nSirdaryo                           5100\nXorazm                             6300\nFarg'ona                           6800\nNamangan                           7900\nToshkent                          15300\nSamarqand                         16400\nJizzax                            20500\nSurxondaryo                       20800\nQashqadaryo                       28400\nBuxoro                            39400\nNavoiy                           110800\nQoraqalpog'iston Respublikasi    160000\ndtype: int64"
     },
     "execution_count": 139,
     "metadata": {},
     "output_type": "execute_result"
    }
   ],
   "source": [
    "reg.sort_values()"
   ],
   "metadata": {
    "collapsed": false
   }
  },
  {
   "cell_type": "code",
   "execution_count": 140,
   "outputs": [
    {
     "data": {
      "text/plain": "Sirdaryo                          648100\nNavoiy                            767500\nFergana                           910500\nJizzax                            910500\nXorazm                           1200000\nQoraqalpog'iston Respublikasi    1200000\nBuxoro                           1384700\nTashkent                         1676000\nSurxondaryo                      1676000\nNamangan                         1862000\nAndijon                          1899000\nQashqadaryo                      2029000\nSamarqand                        2322000\ndtype: int64"
     },
     "execution_count": 140,
     "metadata": {},
     "output_type": "execute_result"
    }
   ],
   "source": [
    "regions.sort_values()"
   ],
   "metadata": {
    "collapsed": false
   }
  },
  {
   "cell_type": "code",
   "execution_count": null,
   "outputs": [],
   "source": [],
   "metadata": {
    "collapsed": false
   }
  }
 ],
 "metadata": {
  "kernelspec": {
   "display_name": "Python 3",
   "language": "python",
   "name": "python3"
  },
  "language_info": {
   "codemirror_mode": {
    "name": "ipython",
    "version": 2
   },
   "file_extension": ".py",
   "mimetype": "text/x-python",
   "name": "python",
   "nbconvert_exporter": "python",
   "pygments_lexer": "ipython2",
   "version": "2.7.6"
  }
 },
 "nbformat": 4,
 "nbformat_minor": 0
}
