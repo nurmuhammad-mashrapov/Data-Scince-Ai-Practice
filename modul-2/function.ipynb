{
 "cells": [
  {
   "cell_type": "code",
   "execution_count": 1,
   "metadata": {
    "collapsed": true
   },
   "outputs": [],
   "source": [
    "import pandas as pd\n",
    "import numpy as np"
   ]
  },
  {
   "cell_type": "code",
   "execution_count": 3,
   "outputs": [
    {
     "data": {
      "text/plain": "       Olma      Anor     Qovun     Anjir\na  2.079689 -1.406850 -0.803566 -0.898699\nb  0.846327  0.788625 -0.955604 -0.565270\nc -0.322235 -0.820509 -1.990568  0.012821",
      "text/html": "<div>\n<style scoped>\n    .dataframe tbody tr th:only-of-type {\n        vertical-align: middle;\n    }\n\n    .dataframe tbody tr th {\n        vertical-align: top;\n    }\n\n    .dataframe thead th {\n        text-align: right;\n    }\n</style>\n<table border=\"1\" class=\"dataframe\">\n  <thead>\n    <tr style=\"text-align: right;\">\n      <th></th>\n      <th>Olma</th>\n      <th>Anor</th>\n      <th>Qovun</th>\n      <th>Anjir</th>\n    </tr>\n  </thead>\n  <tbody>\n    <tr>\n      <th>a</th>\n      <td>2.079689</td>\n      <td>-1.406850</td>\n      <td>-0.803566</td>\n      <td>-0.898699</td>\n    </tr>\n    <tr>\n      <th>b</th>\n      <td>0.846327</td>\n      <td>0.788625</td>\n      <td>-0.955604</td>\n      <td>-0.565270</td>\n    </tr>\n    <tr>\n      <th>c</th>\n      <td>-0.322235</td>\n      <td>-0.820509</td>\n      <td>-1.990568</td>\n      <td>0.012821</td>\n    </tr>\n  </tbody>\n</table>\n</div>"
     },
     "execution_count": 3,
     "metadata": {},
     "output_type": "execute_result"
    }
   ],
   "source": [
    "df = pd.DataFrame(np.random.randn(3,4), index=list('abc'), columns=['Olma','Anor','Qovun','Anjir'])\n",
    "df"
   ],
   "metadata": {
    "collapsed": false
   }
  },
  {
   "cell_type": "code",
   "execution_count": 4,
   "outputs": [
    {
     "data": {
      "text/plain": "       Olma      Anor     Qovun     Anjir\na  2.079689  1.406850  0.803566  0.898699\nb  0.846327  0.788625  0.955604  0.565270\nc  0.322235  0.820509  1.990568  0.012821",
      "text/html": "<div>\n<style scoped>\n    .dataframe tbody tr th:only-of-type {\n        vertical-align: middle;\n    }\n\n    .dataframe tbody tr th {\n        vertical-align: top;\n    }\n\n    .dataframe thead th {\n        text-align: right;\n    }\n</style>\n<table border=\"1\" class=\"dataframe\">\n  <thead>\n    <tr style=\"text-align: right;\">\n      <th></th>\n      <th>Olma</th>\n      <th>Anor</th>\n      <th>Qovun</th>\n      <th>Anjir</th>\n    </tr>\n  </thead>\n  <tbody>\n    <tr>\n      <th>a</th>\n      <td>2.079689</td>\n      <td>1.406850</td>\n      <td>0.803566</td>\n      <td>0.898699</td>\n    </tr>\n    <tr>\n      <th>b</th>\n      <td>0.846327</td>\n      <td>0.788625</td>\n      <td>0.955604</td>\n      <td>0.565270</td>\n    </tr>\n    <tr>\n      <th>c</th>\n      <td>0.322235</td>\n      <td>0.820509</td>\n      <td>1.990568</td>\n      <td>0.012821</td>\n    </tr>\n  </tbody>\n</table>\n</div>"
     },
     "execution_count": 4,
     "metadata": {},
     "output_type": "execute_result"
    }
   ],
   "source": [
    "np.abs(df)"
   ],
   "metadata": {
    "collapsed": false
   }
  },
  {
   "cell_type": "code",
   "execution_count": 5,
   "outputs": [
    {
     "data": {
      "text/plain": "   Olma  Anor  Qovun  Anjir\na   2.0  -1.0   -1.0   -1.0\nb   1.0   1.0   -1.0   -1.0\nc  -0.0  -1.0   -2.0    0.0",
      "text/html": "<div>\n<style scoped>\n    .dataframe tbody tr th:only-of-type {\n        vertical-align: middle;\n    }\n\n    .dataframe tbody tr th {\n        vertical-align: top;\n    }\n\n    .dataframe thead th {\n        text-align: right;\n    }\n</style>\n<table border=\"1\" class=\"dataframe\">\n  <thead>\n    <tr style=\"text-align: right;\">\n      <th></th>\n      <th>Olma</th>\n      <th>Anor</th>\n      <th>Qovun</th>\n      <th>Anjir</th>\n    </tr>\n  </thead>\n  <tbody>\n    <tr>\n      <th>a</th>\n      <td>2.0</td>\n      <td>-1.0</td>\n      <td>-1.0</td>\n      <td>-1.0</td>\n    </tr>\n    <tr>\n      <th>b</th>\n      <td>1.0</td>\n      <td>1.0</td>\n      <td>-1.0</td>\n      <td>-1.0</td>\n    </tr>\n    <tr>\n      <th>c</th>\n      <td>-0.0</td>\n      <td>-1.0</td>\n      <td>-2.0</td>\n      <td>0.0</td>\n    </tr>\n  </tbody>\n</table>\n</div>"
     },
     "execution_count": 5,
     "metadata": {},
     "output_type": "execute_result"
    }
   ],
   "source": [
    "np.round(df)"
   ],
   "metadata": {
    "collapsed": false
   }
  },
  {
   "cell_type": "code",
   "execution_count": 6,
   "outputs": [
    {
     "data": {
      "text/plain": "       Olma      Anor     Qovun     Anjir\na  2.079689 -1.406850 -0.803566 -0.898699\nb  0.846327  0.788625 -0.955604 -0.565270\nc -0.322235 -0.820509 -1.990568  0.012821",
      "text/html": "<div>\n<style scoped>\n    .dataframe tbody tr th:only-of-type {\n        vertical-align: middle;\n    }\n\n    .dataframe tbody tr th {\n        vertical-align: top;\n    }\n\n    .dataframe thead th {\n        text-align: right;\n    }\n</style>\n<table border=\"1\" class=\"dataframe\">\n  <thead>\n    <tr style=\"text-align: right;\">\n      <th></th>\n      <th>Olma</th>\n      <th>Anor</th>\n      <th>Qovun</th>\n      <th>Anjir</th>\n    </tr>\n  </thead>\n  <tbody>\n    <tr>\n      <th>a</th>\n      <td>2.079689</td>\n      <td>-1.406850</td>\n      <td>-0.803566</td>\n      <td>-0.898699</td>\n    </tr>\n    <tr>\n      <th>b</th>\n      <td>0.846327</td>\n      <td>0.788625</td>\n      <td>-0.955604</td>\n      <td>-0.565270</td>\n    </tr>\n    <tr>\n      <th>c</th>\n      <td>-0.322235</td>\n      <td>-0.820509</td>\n      <td>-1.990568</td>\n      <td>0.012821</td>\n    </tr>\n  </tbody>\n</table>\n</div>"
     },
     "execution_count": 6,
     "metadata": {},
     "output_type": "execute_result"
    }
   ],
   "source": [
    "df"
   ],
   "metadata": {
    "collapsed": false
   }
  },
  {
   "cell_type": "code",
   "execution_count": 7,
   "outputs": [
    {
     "data": {
      "text/plain": "Olma     0.867927\nAnor    -0.479578\nQovun   -1.249913\nAnjir   -0.483716\ndtype: float64"
     },
     "execution_count": 7,
     "metadata": {},
     "output_type": "execute_result"
    }
   ],
   "source": [
    "df.mean()"
   ],
   "metadata": {
    "collapsed": false
   }
  },
  {
   "cell_type": "code",
   "execution_count": 8,
   "outputs": [
    {
     "data": {
      "text/plain": "a   -0.257357\nb    0.028520\nc   -0.780123\ndtype: float64"
     },
     "execution_count": 8,
     "metadata": {},
     "output_type": "execute_result"
    }
   ],
   "source": [
    "df.mean(axis=1)"
   ],
   "metadata": {
    "collapsed": false
   }
  },
  {
   "cell_type": "code",
   "execution_count": 9,
   "outputs": [
    {
     "data": {
      "text/plain": "       Olma      Anor     Qovun     Anjir\na  2.079689  1.406850  0.803566  0.898699\nb  0.846327  0.788625  0.955604  0.565270\nc  0.322235  0.820509  1.990568  0.012821",
      "text/html": "<div>\n<style scoped>\n    .dataframe tbody tr th:only-of-type {\n        vertical-align: middle;\n    }\n\n    .dataframe tbody tr th {\n        vertical-align: top;\n    }\n\n    .dataframe thead th {\n        text-align: right;\n    }\n</style>\n<table border=\"1\" class=\"dataframe\">\n  <thead>\n    <tr style=\"text-align: right;\">\n      <th></th>\n      <th>Olma</th>\n      <th>Anor</th>\n      <th>Qovun</th>\n      <th>Anjir</th>\n    </tr>\n  </thead>\n  <tbody>\n    <tr>\n      <th>a</th>\n      <td>2.079689</td>\n      <td>1.406850</td>\n      <td>0.803566</td>\n      <td>0.898699</td>\n    </tr>\n    <tr>\n      <th>b</th>\n      <td>0.846327</td>\n      <td>0.788625</td>\n      <td>0.955604</td>\n      <td>0.565270</td>\n    </tr>\n    <tr>\n      <th>c</th>\n      <td>0.322235</td>\n      <td>0.820509</td>\n      <td>1.990568</td>\n      <td>0.012821</td>\n    </tr>\n  </tbody>\n</table>\n</div>"
     },
     "execution_count": 9,
     "metadata": {},
     "output_type": "execute_result"
    }
   ],
   "source": [
    "df.apply(np.abs)"
   ],
   "metadata": {
    "collapsed": false
   }
  },
  {
   "cell_type": "code",
   "execution_count": 11,
   "outputs": [
    {
     "data": {
      "text/plain": "a   -1.029426\nb    0.114078\nc   -3.120492\ndtype: float64"
     },
     "execution_count": 11,
     "metadata": {},
     "output_type": "execute_result"
    }
   ],
   "source": [
    "df.apply(sum, axis=1)"
   ],
   "metadata": {
    "collapsed": false
   }
  },
  {
   "cell_type": "code",
   "execution_count": 12,
   "outputs": [],
   "source": [
    "#lambda"
   ],
   "metadata": {
    "collapsed": false
   }
  },
  {
   "cell_type": "code",
   "execution_count": 13,
   "outputs": [],
   "source": [
    "f = lambda x: x.max() - x.min()"
   ],
   "metadata": {
    "collapsed": false
   }
  },
  {
   "cell_type": "code",
   "execution_count": 14,
   "outputs": [
    {
     "data": {
      "text/plain": "Olma     2.401924\nAnor     2.195475\nQovun    1.187002\nAnjir    0.911520\ndtype: float64"
     },
     "execution_count": 14,
     "metadata": {},
     "output_type": "execute_result"
    }
   ],
   "source": [
    "df.apply(f)"
   ],
   "metadata": {
    "collapsed": false
   }
  },
  {
   "cell_type": "code",
   "execution_count": 15,
   "outputs": [],
   "source": [
    "def foo(x):\n",
    "    return pd.Series([x.min(), x.max()], index=['min', 'max'])"
   ],
   "metadata": {
    "collapsed": false
   }
  },
  {
   "cell_type": "code",
   "execution_count": 16,
   "outputs": [
    {
     "data": {
      "text/plain": "         Olma      Anor     Qovun     Anjir\nmin -0.322235 -1.406850 -1.990568 -0.898699\nmax  2.079689  0.788625 -0.803566  0.012821",
      "text/html": "<div>\n<style scoped>\n    .dataframe tbody tr th:only-of-type {\n        vertical-align: middle;\n    }\n\n    .dataframe tbody tr th {\n        vertical-align: top;\n    }\n\n    .dataframe thead th {\n        text-align: right;\n    }\n</style>\n<table border=\"1\" class=\"dataframe\">\n  <thead>\n    <tr style=\"text-align: right;\">\n      <th></th>\n      <th>Olma</th>\n      <th>Anor</th>\n      <th>Qovun</th>\n      <th>Anjir</th>\n    </tr>\n  </thead>\n  <tbody>\n    <tr>\n      <th>min</th>\n      <td>-0.322235</td>\n      <td>-1.406850</td>\n      <td>-1.990568</td>\n      <td>-0.898699</td>\n    </tr>\n    <tr>\n      <th>max</th>\n      <td>2.079689</td>\n      <td>0.788625</td>\n      <td>-0.803566</td>\n      <td>0.012821</td>\n    </tr>\n  </tbody>\n</table>\n</div>"
     },
     "execution_count": 16,
     "metadata": {},
     "output_type": "execute_result"
    }
   ],
   "source": [
    "df.apply(foo)"
   ],
   "metadata": {
    "collapsed": false
   }
  },
  {
   "cell_type": "code",
   "execution_count": 17,
   "outputs": [],
   "source": [
    "f = lambda x : x*x # qiymatni kvadratga oshiruvchi funksiya"
   ],
   "metadata": {
    "collapsed": false
   }
  },
  {
   "cell_type": "code",
   "execution_count": 18,
   "outputs": [
    {
     "data": {
      "text/plain": "       Olma      Anor     Qovun     Anjir\na  4.325108  1.979227  0.645719  0.807660\nb  0.716270  0.621929  0.913180  0.319530\nc  0.103835  0.673235  3.962362  0.000164",
      "text/html": "<div>\n<style scoped>\n    .dataframe tbody tr th:only-of-type {\n        vertical-align: middle;\n    }\n\n    .dataframe tbody tr th {\n        vertical-align: top;\n    }\n\n    .dataframe thead th {\n        text-align: right;\n    }\n</style>\n<table border=\"1\" class=\"dataframe\">\n  <thead>\n    <tr style=\"text-align: right;\">\n      <th></th>\n      <th>Olma</th>\n      <th>Anor</th>\n      <th>Qovun</th>\n      <th>Anjir</th>\n    </tr>\n  </thead>\n  <tbody>\n    <tr>\n      <th>a</th>\n      <td>4.325108</td>\n      <td>1.979227</td>\n      <td>0.645719</td>\n      <td>0.807660</td>\n    </tr>\n    <tr>\n      <th>b</th>\n      <td>0.716270</td>\n      <td>0.621929</td>\n      <td>0.913180</td>\n      <td>0.319530</td>\n    </tr>\n    <tr>\n      <th>c</th>\n      <td>0.103835</td>\n      <td>0.673235</td>\n      <td>3.962362</td>\n      <td>0.000164</td>\n    </tr>\n  </tbody>\n</table>\n</div>"
     },
     "execution_count": 18,
     "metadata": {},
     "output_type": "execute_result"
    }
   ],
   "source": [
    "df.applymap(f)"
   ],
   "metadata": {
    "collapsed": false
   }
  },
  {
   "cell_type": "code",
   "execution_count": null,
   "outputs": [],
   "source": [],
   "metadata": {
    "collapsed": false
   }
  }
 ],
 "metadata": {
  "kernelspec": {
   "display_name": "Python 3",
   "language": "python",
   "name": "python3"
  },
  "language_info": {
   "codemirror_mode": {
    "name": "ipython",
    "version": 2
   },
   "file_extension": ".py",
   "mimetype": "text/x-python",
   "name": "python",
   "nbconvert_exporter": "python",
   "pygments_lexer": "ipython2",
   "version": "2.7.6"
  }
 },
 "nbformat": 4,
 "nbformat_minor": 0
}
