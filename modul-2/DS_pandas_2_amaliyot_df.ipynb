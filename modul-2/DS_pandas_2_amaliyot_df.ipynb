{
 "cells": [
  {
   "cell_type": "code",
   "execution_count": 2,
   "metadata": {
    "collapsed": true
   },
   "outputs": [
    {
     "data": {
      "text/plain": "                            Hudud            Markaz  Maydoni  Aholisi\n0                Andijon viloyati    Andijon shahri     4200  1899000\n1                 Buxoro viloyati     Buxoro shahri    39400  1384700\n2                Fargona viloyati    Fargona shahri     6800  2597000\n3                 Jizzax viloyati     Jizzax shahri    20500   910500\n4                 Xorazm viloyati    Urganch shahri     6300  1200000\n5               Namangan viloyati   Namangan shahri     7900  1862000\n6                 Navoiy viloyati     Navoiy shahri   110800   767500\n7            Qashqadaryo viloyati     Qarshi shahri    28400  2029000\n8   Qoraqalpogʻiston Respublikasi      Nukus shahri   160000  1200000\n9              Samarqand viloyati  Samarqand shahri    16400  2322000\n10              Sirdaryo viloyati   Guliston shahri     5100   648100\n11           Surxondaryo viloyati     Termiz shahri    20800  1676000\n12              Toshkent viloyati  Nurafshon shahri    15300  4450000",
      "text/html": "<div>\n<style scoped>\n    .dataframe tbody tr th:only-of-type {\n        vertical-align: middle;\n    }\n\n    .dataframe tbody tr th {\n        vertical-align: top;\n    }\n\n    .dataframe thead th {\n        text-align: right;\n    }\n</style>\n<table border=\"1\" class=\"dataframe\">\n  <thead>\n    <tr style=\"text-align: right;\">\n      <th></th>\n      <th>Hudud</th>\n      <th>Markaz</th>\n      <th>Maydoni</th>\n      <th>Aholisi</th>\n    </tr>\n  </thead>\n  <tbody>\n    <tr>\n      <th>0</th>\n      <td>Andijon viloyati</td>\n      <td>Andijon shahri</td>\n      <td>4200</td>\n      <td>1899000</td>\n    </tr>\n    <tr>\n      <th>1</th>\n      <td>Buxoro viloyati</td>\n      <td>Buxoro shahri</td>\n      <td>39400</td>\n      <td>1384700</td>\n    </tr>\n    <tr>\n      <th>2</th>\n      <td>Fargona viloyati</td>\n      <td>Fargona shahri</td>\n      <td>6800</td>\n      <td>2597000</td>\n    </tr>\n    <tr>\n      <th>3</th>\n      <td>Jizzax viloyati</td>\n      <td>Jizzax shahri</td>\n      <td>20500</td>\n      <td>910500</td>\n    </tr>\n    <tr>\n      <th>4</th>\n      <td>Xorazm viloyati</td>\n      <td>Urganch shahri</td>\n      <td>6300</td>\n      <td>1200000</td>\n    </tr>\n    <tr>\n      <th>5</th>\n      <td>Namangan viloyati</td>\n      <td>Namangan shahri</td>\n      <td>7900</td>\n      <td>1862000</td>\n    </tr>\n    <tr>\n      <th>6</th>\n      <td>Navoiy viloyati</td>\n      <td>Navoiy shahri</td>\n      <td>110800</td>\n      <td>767500</td>\n    </tr>\n    <tr>\n      <th>7</th>\n      <td>Qashqadaryo viloyati</td>\n      <td>Qarshi shahri</td>\n      <td>28400</td>\n      <td>2029000</td>\n    </tr>\n    <tr>\n      <th>8</th>\n      <td>Qoraqalpogʻiston Respublikasi</td>\n      <td>Nukus shahri</td>\n      <td>160000</td>\n      <td>1200000</td>\n    </tr>\n    <tr>\n      <th>9</th>\n      <td>Samarqand viloyati</td>\n      <td>Samarqand shahri</td>\n      <td>16400</td>\n      <td>2322000</td>\n    </tr>\n    <tr>\n      <th>10</th>\n      <td>Sirdaryo viloyati</td>\n      <td>Guliston shahri</td>\n      <td>5100</td>\n      <td>648100</td>\n    </tr>\n    <tr>\n      <th>11</th>\n      <td>Surxondaryo viloyati</td>\n      <td>Termiz shahri</td>\n      <td>20800</td>\n      <td>1676000</td>\n    </tr>\n    <tr>\n      <th>12</th>\n      <td>Toshkent viloyati</td>\n      <td>Nurafshon shahri</td>\n      <td>15300</td>\n      <td>4450000</td>\n    </tr>\n  </tbody>\n</table>\n</div>"
     },
     "execution_count": 2,
     "metadata": {},
     "output_type": "execute_result"
    }
   ],
   "source": [
    "viloyatlar = [\n",
    "    \"Andijon viloyati\",\n",
    "    \"Buxoro viloyati\",\n",
    "    \"Fargona viloyati\",\n",
    "    \"Jizzax viloyati\",\n",
    "    \"Xorazm viloyati\",\n",
    "    \"Namangan viloyati\",\n",
    "    \"Navoiy viloyati\",\n",
    "    \"Qashqadaryo viloyati\",\n",
    "    \"Qoraqalpogʻiston Respublikasi\",\n",
    "    \"Samarqand viloyati\",\n",
    "    \"Sirdaryo viloyati\",\n",
    "    \"Surxondaryo viloyati\",\n",
    "    \"Toshkent viloyati\",\n",
    "]\n",
    "markazlar = [\n",
    "    \"Andijon shahri\",\n",
    "    \"Buxoro shahri\",\n",
    "    \"Fargona shahri\",\n",
    "    \"Jizzax shahri\",\n",
    "    \"Urganch shahri\",\n",
    "    \"Namangan shahri\",\n",
    "    \"Navoiy shahri\",\n",
    "    \"Qarshi shahri\",\n",
    "    \"Nukus shahri\",\n",
    "    \"Samarqand shahri\",\n",
    "    \"Guliston shahri\",\n",
    "    \"Termiz shahri\",\n",
    "    \"Nurafshon shahri\",\n",
    "]\n",
    "maydonlar = [\n",
    "    4200,\n",
    "    39400,\n",
    "    6800,\n",
    "    20500,\n",
    "    6300,\n",
    "    7900,\n",
    "    110800,\n",
    "    28400,\n",
    "    160000,\n",
    "    16400,\n",
    "    5100,\n",
    "    20800,\n",
    "    15300,\n",
    "]\n",
    "aholi = [\n",
    "    1899000,\n",
    "    1384700,\n",
    "    2597000,\n",
    "    910500,\n",
    "    1200000,\n",
    "    1862000,\n",
    "    767500,\n",
    "    2029000,\n",
    "    1200000,\n",
    "    2322000,\n",
    "    648100,\n",
    "    1676000,\n",
    "    4450000,\n",
    "]\n",
    "data = {\n",
    "    \"Hudud\":viloyatlar,\n",
    "    \"Markaz\":markazlar,\n",
    "    \"Maydoni\":maydonlar,\n",
    "    \"Aholisi\":aholi\n",
    "}\n",
    "df = pd.DataFrame(data)\n",
    "df"
   ]
  },
  {
   "cell_type": "code",
   "execution_count": 4,
   "outputs": [
    {
     "data": {
      "text/plain": "              Hudud          Markaz  Maydoni  Aholisi\n0  Andijon viloyati  Andijon shahri     4200  1899000\n1   Buxoro viloyati   Buxoro shahri    39400  1384700\n2  Fargona viloyati  Fargona shahri     6800  2597000\n3   Jizzax viloyati   Jizzax shahri    20500   910500\n4   Xorazm viloyati  Urganch shahri     6300  1200000",
      "text/html": "<div>\n<style scoped>\n    .dataframe tbody tr th:only-of-type {\n        vertical-align: middle;\n    }\n\n    .dataframe tbody tr th {\n        vertical-align: top;\n    }\n\n    .dataframe thead th {\n        text-align: right;\n    }\n</style>\n<table border=\"1\" class=\"dataframe\">\n  <thead>\n    <tr style=\"text-align: right;\">\n      <th></th>\n      <th>Hudud</th>\n      <th>Markaz</th>\n      <th>Maydoni</th>\n      <th>Aholisi</th>\n    </tr>\n  </thead>\n  <tbody>\n    <tr>\n      <th>0</th>\n      <td>Andijon viloyati</td>\n      <td>Andijon shahri</td>\n      <td>4200</td>\n      <td>1899000</td>\n    </tr>\n    <tr>\n      <th>1</th>\n      <td>Buxoro viloyati</td>\n      <td>Buxoro shahri</td>\n      <td>39400</td>\n      <td>1384700</td>\n    </tr>\n    <tr>\n      <th>2</th>\n      <td>Fargona viloyati</td>\n      <td>Fargona shahri</td>\n      <td>6800</td>\n      <td>2597000</td>\n    </tr>\n    <tr>\n      <th>3</th>\n      <td>Jizzax viloyati</td>\n      <td>Jizzax shahri</td>\n      <td>20500</td>\n      <td>910500</td>\n    </tr>\n    <tr>\n      <th>4</th>\n      <td>Xorazm viloyati</td>\n      <td>Urganch shahri</td>\n      <td>6300</td>\n      <td>1200000</td>\n    </tr>\n  </tbody>\n</table>\n</div>"
     },
     "execution_count": 4,
     "metadata": {},
     "output_type": "execute_result"
    }
   ],
   "source": [
    "df.head()"
   ],
   "metadata": {
    "collapsed": false
   }
  },
  {
   "cell_type": "code",
   "execution_count": 5,
   "outputs": [
    {
     "data": {
      "text/plain": "                Hudud            Markaz  Maydoni  Aholisi\n6     Navoiy viloyati     Navoiy shahri   110800   767500\n0    Andijon viloyati    Andijon shahri     4200  1899000\n9  Samarqand viloyati  Samarqand shahri    16400  2322000",
      "text/html": "<div>\n<style scoped>\n    .dataframe tbody tr th:only-of-type {\n        vertical-align: middle;\n    }\n\n    .dataframe tbody tr th {\n        vertical-align: top;\n    }\n\n    .dataframe thead th {\n        text-align: right;\n    }\n</style>\n<table border=\"1\" class=\"dataframe\">\n  <thead>\n    <tr style=\"text-align: right;\">\n      <th></th>\n      <th>Hudud</th>\n      <th>Markaz</th>\n      <th>Maydoni</th>\n      <th>Aholisi</th>\n    </tr>\n  </thead>\n  <tbody>\n    <tr>\n      <th>6</th>\n      <td>Navoiy viloyati</td>\n      <td>Navoiy shahri</td>\n      <td>110800</td>\n      <td>767500</td>\n    </tr>\n    <tr>\n      <th>0</th>\n      <td>Andijon viloyati</td>\n      <td>Andijon shahri</td>\n      <td>4200</td>\n      <td>1899000</td>\n    </tr>\n    <tr>\n      <th>9</th>\n      <td>Samarqand viloyati</td>\n      <td>Samarqand shahri</td>\n      <td>16400</td>\n      <td>2322000</td>\n    </tr>\n  </tbody>\n</table>\n</div>"
     },
     "execution_count": 5,
     "metadata": {},
     "output_type": "execute_result"
    }
   ],
   "source": [
    "df.sample(3)"
   ],
   "metadata": {
    "collapsed": false
   }
  },
  {
   "cell_type": "code",
   "execution_count": 6,
   "outputs": [
    {
     "data": {
      "text/plain": "                            Hudud  Aholisi\n0                Andijon viloyati  1899000\n1                 Buxoro viloyati  1384700\n2                Fargona viloyati  2597000\n3                 Jizzax viloyati   910500\n4                 Xorazm viloyati  1200000\n5               Namangan viloyati  1862000\n6                 Navoiy viloyati   767500\n7            Qashqadaryo viloyati  2029000\n8   Qoraqalpogʻiston Respublikasi  1200000\n9              Samarqand viloyati  2322000\n10              Sirdaryo viloyati   648100\n11           Surxondaryo viloyati  1676000\n12              Toshkent viloyati  4450000",
      "text/html": "<div>\n<style scoped>\n    .dataframe tbody tr th:only-of-type {\n        vertical-align: middle;\n    }\n\n    .dataframe tbody tr th {\n        vertical-align: top;\n    }\n\n    .dataframe thead th {\n        text-align: right;\n    }\n</style>\n<table border=\"1\" class=\"dataframe\">\n  <thead>\n    <tr style=\"text-align: right;\">\n      <th></th>\n      <th>Hudud</th>\n      <th>Aholisi</th>\n    </tr>\n  </thead>\n  <tbody>\n    <tr>\n      <th>0</th>\n      <td>Andijon viloyati</td>\n      <td>1899000</td>\n    </tr>\n    <tr>\n      <th>1</th>\n      <td>Buxoro viloyati</td>\n      <td>1384700</td>\n    </tr>\n    <tr>\n      <th>2</th>\n      <td>Fargona viloyati</td>\n      <td>2597000</td>\n    </tr>\n    <tr>\n      <th>3</th>\n      <td>Jizzax viloyati</td>\n      <td>910500</td>\n    </tr>\n    <tr>\n      <th>4</th>\n      <td>Xorazm viloyati</td>\n      <td>1200000</td>\n    </tr>\n    <tr>\n      <th>5</th>\n      <td>Namangan viloyati</td>\n      <td>1862000</td>\n    </tr>\n    <tr>\n      <th>6</th>\n      <td>Navoiy viloyati</td>\n      <td>767500</td>\n    </tr>\n    <tr>\n      <th>7</th>\n      <td>Qashqadaryo viloyati</td>\n      <td>2029000</td>\n    </tr>\n    <tr>\n      <th>8</th>\n      <td>Qoraqalpogʻiston Respublikasi</td>\n      <td>1200000</td>\n    </tr>\n    <tr>\n      <th>9</th>\n      <td>Samarqand viloyati</td>\n      <td>2322000</td>\n    </tr>\n    <tr>\n      <th>10</th>\n      <td>Sirdaryo viloyati</td>\n      <td>648100</td>\n    </tr>\n    <tr>\n      <th>11</th>\n      <td>Surxondaryo viloyati</td>\n      <td>1676000</td>\n    </tr>\n    <tr>\n      <th>12</th>\n      <td>Toshkent viloyati</td>\n      <td>4450000</td>\n    </tr>\n  </tbody>\n</table>\n</div>"
     },
     "execution_count": 6,
     "metadata": {},
     "output_type": "execute_result"
    }
   ],
   "source": [
    "df[['Hudud', 'Aholisi']]"
   ],
   "metadata": {
    "collapsed": false
   }
  },
  {
   "cell_type": "code",
   "execution_count": 8,
   "outputs": [
    {
     "data": {
      "text/plain": "0       Andijon shahri\n1        Buxoro shahri\n2       Fargona shahri\n3        Jizzax shahri\n4       Urganch shahri\n5      Namangan shahri\n6        Navoiy shahri\n7        Qarshi shahri\n8         Nukus shahri\n9     Samarqand shahri\n10     Guliston shahri\n11       Termiz shahri\n12    Nurafshon shahri\nName: Markaz, dtype: object"
     },
     "execution_count": 8,
     "metadata": {},
     "output_type": "execute_result"
    }
   ],
   "source": [
    "df.Markaz"
   ],
   "metadata": {
    "collapsed": false
   }
  },
  {
   "cell_type": "code",
   "execution_count": 9,
   "outputs": [
    {
     "data": {
      "text/plain": "0       Andijon shahri\n1        Buxoro shahri\n2       Fargona shahri\n3        Jizzax shahri\n4       Urganch shahri\n5      Namangan shahri\n6        Navoiy shahri\n7        Qarshi shahri\n8         Nukus shahri\n9     Samarqand shahri\n10     Guliston shahri\n11       Termiz shahri\n12    Nurafshon shahri\nName: Markaz, dtype: object"
     },
     "execution_count": 9,
     "metadata": {},
     "output_type": "execute_result"
    }
   ],
   "source": [
    "df.Markaz"
   ],
   "metadata": {
    "collapsed": false
   }
  },
  {
   "cell_type": "code",
   "execution_count": 10,
   "outputs": [
    {
     "data": {
      "text/plain": "                   Hudud            Markaz  Maydoni  Aholisi\n2       Fargona viloyati    Fargona shahri     6800  2597000\n7   Qashqadaryo viloyati     Qarshi shahri    28400  2029000\n9     Samarqand viloyati  Samarqand shahri    16400  2322000\n12     Toshkent viloyati  Nurafshon shahri    15300  4450000",
      "text/html": "<div>\n<style scoped>\n    .dataframe tbody tr th:only-of-type {\n        vertical-align: middle;\n    }\n\n    .dataframe tbody tr th {\n        vertical-align: top;\n    }\n\n    .dataframe thead th {\n        text-align: right;\n    }\n</style>\n<table border=\"1\" class=\"dataframe\">\n  <thead>\n    <tr style=\"text-align: right;\">\n      <th></th>\n      <th>Hudud</th>\n      <th>Markaz</th>\n      <th>Maydoni</th>\n      <th>Aholisi</th>\n    </tr>\n  </thead>\n  <tbody>\n    <tr>\n      <th>2</th>\n      <td>Fargona viloyati</td>\n      <td>Fargona shahri</td>\n      <td>6800</td>\n      <td>2597000</td>\n    </tr>\n    <tr>\n      <th>7</th>\n      <td>Qashqadaryo viloyati</td>\n      <td>Qarshi shahri</td>\n      <td>28400</td>\n      <td>2029000</td>\n    </tr>\n    <tr>\n      <th>9</th>\n      <td>Samarqand viloyati</td>\n      <td>Samarqand shahri</td>\n      <td>16400</td>\n      <td>2322000</td>\n    </tr>\n    <tr>\n      <th>12</th>\n      <td>Toshkent viloyati</td>\n      <td>Nurafshon shahri</td>\n      <td>15300</td>\n      <td>4450000</td>\n    </tr>\n  </tbody>\n</table>\n</div>"
     },
     "execution_count": 10,
     "metadata": {},
     "output_type": "execute_result"
    }
   ],
   "source": [
    "df[df.Aholisi>2_000_000]"
   ],
   "metadata": {
    "collapsed": false
   }
  },
  {
   "cell_type": "code",
   "execution_count": 11,
   "outputs": [
    {
     "data": {
      "text/plain": "                Hudud           Markaz  Maydoni  Aholisi\n0    Andijon viloyati   Andijon shahri     4200  1899000\n2    Fargona viloyati   Fargona shahri     6800  2597000\n4     Xorazm viloyati   Urganch shahri     6300  1200000\n5   Namangan viloyati  Namangan shahri     7900  1862000\n10  Sirdaryo viloyati  Guliston shahri     5100   648100",
      "text/html": "<div>\n<style scoped>\n    .dataframe tbody tr th:only-of-type {\n        vertical-align: middle;\n    }\n\n    .dataframe tbody tr th {\n        vertical-align: top;\n    }\n\n    .dataframe thead th {\n        text-align: right;\n    }\n</style>\n<table border=\"1\" class=\"dataframe\">\n  <thead>\n    <tr style=\"text-align: right;\">\n      <th></th>\n      <th>Hudud</th>\n      <th>Markaz</th>\n      <th>Maydoni</th>\n      <th>Aholisi</th>\n    </tr>\n  </thead>\n  <tbody>\n    <tr>\n      <th>0</th>\n      <td>Andijon viloyati</td>\n      <td>Andijon shahri</td>\n      <td>4200</td>\n      <td>1899000</td>\n    </tr>\n    <tr>\n      <th>2</th>\n      <td>Fargona viloyati</td>\n      <td>Fargona shahri</td>\n      <td>6800</td>\n      <td>2597000</td>\n    </tr>\n    <tr>\n      <th>4</th>\n      <td>Xorazm viloyati</td>\n      <td>Urganch shahri</td>\n      <td>6300</td>\n      <td>1200000</td>\n    </tr>\n    <tr>\n      <th>5</th>\n      <td>Namangan viloyati</td>\n      <td>Namangan shahri</td>\n      <td>7900</td>\n      <td>1862000</td>\n    </tr>\n    <tr>\n      <th>10</th>\n      <td>Sirdaryo viloyati</td>\n      <td>Guliston shahri</td>\n      <td>5100</td>\n      <td>648100</td>\n    </tr>\n  </tbody>\n</table>\n</div>"
     },
     "execution_count": 11,
     "metadata": {},
     "output_type": "execute_result"
    }
   ],
   "source": [
    "df[df.Maydoni<10000]"
   ],
   "metadata": {
    "collapsed": false
   }
  },
  {
   "cell_type": "code",
   "execution_count": 12,
   "outputs": [
    {
     "data": {
      "text/plain": "                          Markaz  Maydoni  Aholisi\nHudud                                             \nAndijon viloyati  Andijon shahri     4200  1899000\nBuxoro viloyati    Buxoro shahri    39400  1384700\nFargona viloyati  Fargona shahri     6800  2597000\nJizzax viloyati    Jizzax shahri    20500   910500\nXorazm viloyati   Urganch shahri     6300  1200000",
      "text/html": "<div>\n<style scoped>\n    .dataframe tbody tr th:only-of-type {\n        vertical-align: middle;\n    }\n\n    .dataframe tbody tr th {\n        vertical-align: top;\n    }\n\n    .dataframe thead th {\n        text-align: right;\n    }\n</style>\n<table border=\"1\" class=\"dataframe\">\n  <thead>\n    <tr style=\"text-align: right;\">\n      <th></th>\n      <th>Markaz</th>\n      <th>Maydoni</th>\n      <th>Aholisi</th>\n    </tr>\n    <tr>\n      <th>Hudud</th>\n      <th></th>\n      <th></th>\n      <th></th>\n    </tr>\n  </thead>\n  <tbody>\n    <tr>\n      <th>Andijon viloyati</th>\n      <td>Andijon shahri</td>\n      <td>4200</td>\n      <td>1899000</td>\n    </tr>\n    <tr>\n      <th>Buxoro viloyati</th>\n      <td>Buxoro shahri</td>\n      <td>39400</td>\n      <td>1384700</td>\n    </tr>\n    <tr>\n      <th>Fargona viloyati</th>\n      <td>Fargona shahri</td>\n      <td>6800</td>\n      <td>2597000</td>\n    </tr>\n    <tr>\n      <th>Jizzax viloyati</th>\n      <td>Jizzax shahri</td>\n      <td>20500</td>\n      <td>910500</td>\n    </tr>\n    <tr>\n      <th>Xorazm viloyati</th>\n      <td>Urganch shahri</td>\n      <td>6300</td>\n      <td>1200000</td>\n    </tr>\n  </tbody>\n</table>\n</div>"
     },
     "execution_count": 12,
     "metadata": {},
     "output_type": "execute_result"
    }
   ],
   "source": [
    "df.set_index(df.columns[0], inplace=True)\n",
    "df.head()"
   ],
   "metadata": {
    "collapsed": false
   }
  },
  {
   "cell_type": "code",
   "execution_count": 13,
   "outputs": [
    {
     "data": {
      "text/plain": "True"
     },
     "execution_count": 13,
     "metadata": {},
     "output_type": "execute_result"
    }
   ],
   "source": [
    "\"Samarqand viloyati\" in df[df.Aholisi>2_000_000].index"
   ],
   "metadata": {
    "collapsed": false
   }
  },
  {
   "cell_type": "code",
   "execution_count": 14,
   "outputs": [
    {
     "data": {
      "text/plain": "                            Markaz  Maydoni  Aholisi\nHudud                                               \nAndijon viloyati    Andijon shahri     4200  1899000\nFargona viloyati    Fargona shahri     6800  2597000\nNamangan viloyati  Namangan shahri     7900  1862000",
      "text/html": "<div>\n<style scoped>\n    .dataframe tbody tr th:only-of-type {\n        vertical-align: middle;\n    }\n\n    .dataframe tbody tr th {\n        vertical-align: top;\n    }\n\n    .dataframe thead th {\n        text-align: right;\n    }\n</style>\n<table border=\"1\" class=\"dataframe\">\n  <thead>\n    <tr style=\"text-align: right;\">\n      <th></th>\n      <th>Markaz</th>\n      <th>Maydoni</th>\n      <th>Aholisi</th>\n    </tr>\n    <tr>\n      <th>Hudud</th>\n      <th></th>\n      <th></th>\n      <th></th>\n    </tr>\n  </thead>\n  <tbody>\n    <tr>\n      <th>Andijon viloyati</th>\n      <td>Andijon shahri</td>\n      <td>4200</td>\n      <td>1899000</td>\n    </tr>\n    <tr>\n      <th>Fargona viloyati</th>\n      <td>Fargona shahri</td>\n      <td>6800</td>\n      <td>2597000</td>\n    </tr>\n    <tr>\n      <th>Namangan viloyati</th>\n      <td>Namangan shahri</td>\n      <td>7900</td>\n      <td>1862000</td>\n    </tr>\n  </tbody>\n</table>\n</div>"
     },
     "execution_count": 14,
     "metadata": {},
     "output_type": "execute_result"
    }
   ],
   "source": [
    "\n",
    "df.loc[[\"Andijon viloyati\",\"Fargona viloyati\",\"Namangan viloyati\"]]"
   ],
   "metadata": {
    "collapsed": false
   }
  },
  {
   "cell_type": "code",
   "execution_count": 15,
   "outputs": [
    {
     "data": {
      "text/plain": "                                        Markaz  Maydoni  Aholisi\nHudud                                                           \nBuxoro viloyati                  Buxoro shahri    39400  1384700\nJizzax viloyati                  Jizzax shahri    20500   910500\nXorazm viloyati                 Urganch shahri     6300  1200000\nNavoiy viloyati                  Navoiy shahri   110800   767500\nQoraqalpogʻiston Respublikasi     Nukus shahri   160000  1200000\nSirdaryo viloyati              Guliston shahri     5100   648100",
      "text/html": "<div>\n<style scoped>\n    .dataframe tbody tr th:only-of-type {\n        vertical-align: middle;\n    }\n\n    .dataframe tbody tr th {\n        vertical-align: top;\n    }\n\n    .dataframe thead th {\n        text-align: right;\n    }\n</style>\n<table border=\"1\" class=\"dataframe\">\n  <thead>\n    <tr style=\"text-align: right;\">\n      <th></th>\n      <th>Markaz</th>\n      <th>Maydoni</th>\n      <th>Aholisi</th>\n    </tr>\n    <tr>\n      <th>Hudud</th>\n      <th></th>\n      <th></th>\n      <th></th>\n    </tr>\n  </thead>\n  <tbody>\n    <tr>\n      <th>Buxoro viloyati</th>\n      <td>Buxoro shahri</td>\n      <td>39400</td>\n      <td>1384700</td>\n    </tr>\n    <tr>\n      <th>Jizzax viloyati</th>\n      <td>Jizzax shahri</td>\n      <td>20500</td>\n      <td>910500</td>\n    </tr>\n    <tr>\n      <th>Xorazm viloyati</th>\n      <td>Urganch shahri</td>\n      <td>6300</td>\n      <td>1200000</td>\n    </tr>\n    <tr>\n      <th>Navoiy viloyati</th>\n      <td>Navoiy shahri</td>\n      <td>110800</td>\n      <td>767500</td>\n    </tr>\n    <tr>\n      <th>Qoraqalpogʻiston Respublikasi</th>\n      <td>Nukus shahri</td>\n      <td>160000</td>\n      <td>1200000</td>\n    </tr>\n    <tr>\n      <th>Sirdaryo viloyati</th>\n      <td>Guliston shahri</td>\n      <td>5100</td>\n      <td>648100</td>\n    </tr>\n  </tbody>\n</table>\n</div>"
     },
     "execution_count": 15,
     "metadata": {},
     "output_type": "execute_result"
    }
   ],
   "source": [
    "df_new = df[df.Aholisi<1_500_000]\n",
    "df_new"
   ],
   "metadata": {
    "collapsed": false
   }
  },
  {
   "cell_type": "code",
   "execution_count": 16,
   "outputs": [
    {
     "data": {
      "text/plain": "array([ True, False,  True])"
     },
     "execution_count": 16,
     "metadata": {},
     "output_type": "execute_result"
    }
   ],
   "source": [
    "pd.Index(['Navoiy viloyati','Namangan viloyati','Xorazm viloyati']).isin(df_new.index)"
   ],
   "metadata": {
    "collapsed": false
   }
  },
  {
   "cell_type": "code",
   "execution_count": 17,
   "outputs": [
    {
     "data": {
      "text/plain": "                            Markaz  Maydoni  Aholisi\nHudud                                               \nAndijon viloyati    Andijon shahri     4200  1899000\nFargona viloyati    Fargona shahri     6800  2597000\nXorazm viloyati     Urganch shahri     6300  1200000\nNamangan viloyati  Namangan shahri     7900  1862000",
      "text/html": "<div>\n<style scoped>\n    .dataframe tbody tr th:only-of-type {\n        vertical-align: middle;\n    }\n\n    .dataframe tbody tr th {\n        vertical-align: top;\n    }\n\n    .dataframe thead th {\n        text-align: right;\n    }\n</style>\n<table border=\"1\" class=\"dataframe\">\n  <thead>\n    <tr style=\"text-align: right;\">\n      <th></th>\n      <th>Markaz</th>\n      <th>Maydoni</th>\n      <th>Aholisi</th>\n    </tr>\n    <tr>\n      <th>Hudud</th>\n      <th></th>\n      <th></th>\n      <th></th>\n    </tr>\n  </thead>\n  <tbody>\n    <tr>\n      <th>Andijon viloyati</th>\n      <td>Andijon shahri</td>\n      <td>4200</td>\n      <td>1899000</td>\n    </tr>\n    <tr>\n      <th>Fargona viloyati</th>\n      <td>Fargona shahri</td>\n      <td>6800</td>\n      <td>2597000</td>\n    </tr>\n    <tr>\n      <th>Xorazm viloyati</th>\n      <td>Urganch shahri</td>\n      <td>6300</td>\n      <td>1200000</td>\n    </tr>\n    <tr>\n      <th>Namangan viloyati</th>\n      <td>Namangan shahri</td>\n      <td>7900</td>\n      <td>1862000</td>\n    </tr>\n  </tbody>\n</table>\n</div>"
     },
     "execution_count": 17,
     "metadata": {},
     "output_type": "execute_result"
    }
   ],
   "source": [
    "df[(df.Aholisi>1_000_000) & (df.Maydoni<10000)]"
   ],
   "metadata": {
    "collapsed": false
   }
  },
  {
   "cell_type": "code",
   "execution_count": 18,
   "outputs": [
    {
     "data": {
      "text/plain": "                        Markaz  Maydoni  Aholisi\nHudud                                           \nJizzax viloyati  Jizzax shahri    20500   910500\nNavoiy viloyati  Navoiy shahri   110800   767500",
      "text/html": "<div>\n<style scoped>\n    .dataframe tbody tr th:only-of-type {\n        vertical-align: middle;\n    }\n\n    .dataframe tbody tr th {\n        vertical-align: top;\n    }\n\n    .dataframe thead th {\n        text-align: right;\n    }\n</style>\n<table border=\"1\" class=\"dataframe\">\n  <thead>\n    <tr style=\"text-align: right;\">\n      <th></th>\n      <th>Markaz</th>\n      <th>Maydoni</th>\n      <th>Aholisi</th>\n    </tr>\n    <tr>\n      <th>Hudud</th>\n      <th></th>\n      <th></th>\n      <th></th>\n    </tr>\n  </thead>\n  <tbody>\n    <tr>\n      <th>Jizzax viloyati</th>\n      <td>Jizzax shahri</td>\n      <td>20500</td>\n      <td>910500</td>\n    </tr>\n    <tr>\n      <th>Navoiy viloyati</th>\n      <td>Navoiy shahri</td>\n      <td>110800</td>\n      <td>767500</td>\n    </tr>\n  </tbody>\n</table>\n</div>"
     },
     "execution_count": 18,
     "metadata": {},
     "output_type": "execute_result"
    }
   ],
   "source": [
    "df[(df.Aholisi<1_000_000) & (df.Maydoni>10000)]"
   ],
   "metadata": {
    "collapsed": false
   }
  },
  {
   "cell_type": "code",
   "execution_count": 19,
   "outputs": [
    {
     "data": {
      "text/plain": "                               Maydoni  Aholisi\nHudud                                          \nAndijon viloyati                  4200  1899000\nBuxoro viloyati                  39400  1384700\nFargona viloyati                  6800  2597000\nJizzax viloyati                  20500   910500\nXorazm viloyati                   6300  1200000\nNamangan viloyati                 7900  1862000\nNavoiy viloyati                 110800   767500\nQashqadaryo viloyati             28400  2029000\nQoraqalpogʻiston Respublikasi   160000  1200000\nSamarqand viloyati               16400  2322000\nSirdaryo viloyati                 5100   648100\nSurxondaryo viloyati             20800  1676000\nToshkent viloyati                15300  4450000",
      "text/html": "<div>\n<style scoped>\n    .dataframe tbody tr th:only-of-type {\n        vertical-align: middle;\n    }\n\n    .dataframe tbody tr th {\n        vertical-align: top;\n    }\n\n    .dataframe thead th {\n        text-align: right;\n    }\n</style>\n<table border=\"1\" class=\"dataframe\">\n  <thead>\n    <tr style=\"text-align: right;\">\n      <th></th>\n      <th>Maydoni</th>\n      <th>Aholisi</th>\n    </tr>\n    <tr>\n      <th>Hudud</th>\n      <th></th>\n      <th></th>\n    </tr>\n  </thead>\n  <tbody>\n    <tr>\n      <th>Andijon viloyati</th>\n      <td>4200</td>\n      <td>1899000</td>\n    </tr>\n    <tr>\n      <th>Buxoro viloyati</th>\n      <td>39400</td>\n      <td>1384700</td>\n    </tr>\n    <tr>\n      <th>Fargona viloyati</th>\n      <td>6800</td>\n      <td>2597000</td>\n    </tr>\n    <tr>\n      <th>Jizzax viloyati</th>\n      <td>20500</td>\n      <td>910500</td>\n    </tr>\n    <tr>\n      <th>Xorazm viloyati</th>\n      <td>6300</td>\n      <td>1200000</td>\n    </tr>\n    <tr>\n      <th>Namangan viloyati</th>\n      <td>7900</td>\n      <td>1862000</td>\n    </tr>\n    <tr>\n      <th>Navoiy viloyati</th>\n      <td>110800</td>\n      <td>767500</td>\n    </tr>\n    <tr>\n      <th>Qashqadaryo viloyati</th>\n      <td>28400</td>\n      <td>2029000</td>\n    </tr>\n    <tr>\n      <th>Qoraqalpogʻiston Respublikasi</th>\n      <td>160000</td>\n      <td>1200000</td>\n    </tr>\n    <tr>\n      <th>Samarqand viloyati</th>\n      <td>16400</td>\n      <td>2322000</td>\n    </tr>\n    <tr>\n      <th>Sirdaryo viloyati</th>\n      <td>5100</td>\n      <td>648100</td>\n    </tr>\n    <tr>\n      <th>Surxondaryo viloyati</th>\n      <td>20800</td>\n      <td>1676000</td>\n    </tr>\n    <tr>\n      <th>Toshkent viloyati</th>\n      <td>15300</td>\n      <td>4450000</td>\n    </tr>\n  </tbody>\n</table>\n</div>"
     },
     "execution_count": 19,
     "metadata": {},
     "output_type": "execute_result"
    }
   ],
   "source": [
    "df.drop(['Markaz'], axis=1)"
   ],
   "metadata": {
    "collapsed": false
   }
  },
  {
   "cell_type": "code",
   "execution_count": 20,
   "outputs": [
    {
     "data": {
      "text/plain": "648100"
     },
     "execution_count": 20,
     "metadata": {},
     "output_type": "execute_result"
    }
   ],
   "source": [
    "df.at['Sirdaryo viloyati','Aholisi']\n"
   ],
   "metadata": {
    "collapsed": false
   }
  },
  {
   "cell_type": "code",
   "execution_count": 21,
   "outputs": [
    {
     "data": {
      "text/plain": "39400"
     },
     "execution_count": 21,
     "metadata": {},
     "output_type": "execute_result"
    }
   ],
   "source": [
    "df.at['Buxoro viloyati','Maydoni']"
   ],
   "metadata": {
    "collapsed": false
   }
  },
  {
   "cell_type": "code",
   "execution_count": 26,
   "outputs": [
    {
     "name": "stdout",
     "output_type": "stream",
     "text": [
      "Toshkent viloyati maydoni: 15300 kv.km\n",
      "O'zbekiston Respublikasi maydoni: 441900 kv.km\n",
      "Toshkent viloyati maydoni O'zbekiston respublikasining 3% ni tashkil qiladi\n"
     ]
    }
   ],
   "source": [
    "tosh_area = df.at['Toshkent viloyati','Maydoni']\n",
    "uzb_area = sum(df.Maydoni) # yoki\n",
    "# uzb_area = df.Maydoni.sum()\n",
    "print(f\"Toshkent viloyati maydoni: {tosh_area} kv.km\")\n",
    "print(f\"O'zbekiston Respublikasi maydoni: {uzb_area} kv.km\")\n",
    "print(f\"Toshkent viloyati maydoni O'zbekiston respublikasining {round(tosh_area/uzb_area*100)}% ni tashkil qiladi\")"
   ],
   "metadata": {
    "collapsed": false
   }
  },
  {
   "cell_type": "code",
   "execution_count": 24,
   "outputs": [
    {
     "name": "stdout",
     "output_type": "stream",
     "text": [
      "Toshkent viloyati aholisi: 4450000 kishi\n",
      "O'zbekiston Respublikasi aholisi: 22945800 kishi\n",
      "Toshkent viloyati aholisi O'zbekiston respublikasining 19% ni tashkil qiladi\n"
     ]
    }
   ],
   "source": [
    "tosh_area = df.at['Toshkent viloyati','Aholisi']\n",
    "uzb_area = sum(df.Aholisi)\n",
    "print(f\"Toshkent viloyati aholisi: {tosh_area} kishi\")\n",
    "print(f\"O'zbekiston Respublikasi aholisi: {uzb_area} kishi\")\n",
    "print(f\"Toshkent viloyati aholisi O'zbekiston respublikasining {round(tosh_area/uzb_area*100)}% ni tashkil qiladi\")"
   ],
   "metadata": {
    "collapsed": false
   }
  },
  {
   "cell_type": "code",
   "execution_count": null,
   "outputs": [],
   "source": [],
   "metadata": {
    "collapsed": false
   }
  }
 ],
 "metadata": {
  "kernelspec": {
   "display_name": "Python 3",
   "language": "python",
   "name": "python3"
  },
  "language_info": {
   "codemirror_mode": {
    "name": "ipython",
    "version": 2
   },
   "file_extension": ".py",
   "mimetype": "text/x-python",
   "name": "python",
   "nbconvert_exporter": "python",
   "pygments_lexer": "ipython2",
   "version": "2.7.6"
  }
 },
 "nbformat": 4,
 "nbformat_minor": 0
}
